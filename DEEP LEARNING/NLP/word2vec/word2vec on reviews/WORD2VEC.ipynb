{
  "nbformat": 4,
  "nbformat_minor": 0,
  "metadata": {
    "colab": {
      "provenance": []
    },
    "kernelspec": {
      "name": "python3",
      "display_name": "Python 3"
    },
    "language_info": {
      "name": "python"
    }
  },
  "cells": [
    {
      "cell_type": "markdown",
      "source": [
        "# Word Embedding (Word2Vec)"
      ],
      "metadata": {
        "id": "HZSFBsAziQ1h"
      }
    },
    {
      "cell_type": "markdown",
      "source": [
        "## Load the data"
      ],
      "metadata": {
        "id": "Rwq6YpYmiXaA"
      }
    },
    {
      "cell_type": "code",
      "execution_count": 1,
      "metadata": {
        "colab": {
          "base_uri": "https://localhost:8080/"
        },
        "id": "O9CgAOG1XS78",
        "outputId": "ae34f46b-626d-4966-a5f0-80bf9eee2428"
      },
      "outputs": [
        {
          "output_type": "stream",
          "name": "stdout",
          "text": [
            "Mounted at /content/drive\n"
          ]
        }
      ],
      "source": [
        "from google.colab import drive\n",
        "drive.mount('/content/drive')"
      ]
    },
    {
      "cell_type": "code",
      "source": [
        "\n",
        "import pandas as pd\n",
        "# load the data into panda dataframe\n",
        "data_file_name = \"/content/Health_and_Personal_Care.json\"\n",
        "raw_df = pd.read_json(data_file_name, lines=True, nrows=10000, encoding_errors='ignore')\n",
        "print(\"Data loaded\")"
      ],
      "metadata": {
        "colab": {
          "base_uri": "https://localhost:8080/"
        },
        "id": "VYq-DVX3jRzd",
        "outputId": "b6c651a1-881c-442f-cd62-81e38ff1cad9"
      },
      "execution_count": 2,
      "outputs": [
        {
          "output_type": "stream",
          "name": "stdout",
          "text": [
            "Data loaded\n"
          ]
        }
      ]
    },
    {
      "cell_type": "code",
      "source": [
        "##Check the top 5 rows of the DataFrame\n",
        "raw_df.head()"
      ],
      "metadata": {
        "colab": {
          "base_uri": "https://localhost:8080/",
          "height": 573
        },
        "id": "I41oBk-ijr1b",
        "outputId": "f8255419-23f2-4183-cda1-9b5f29eb8fdf"
      },
      "execution_count": 3,
      "outputs": [
        {
          "output_type": "execute_result",
          "data": {
            "text/plain": [
              "       reviewerID        asin                reviewerName   helpful  \\\n",
              "0   ALC5GH8CAMAI7  159985130X                        AnnN    [1, 1]   \n",
              "1   AHKSURW85PJUE  159985130X         AZ buyer \"AZ buyer\"    [1, 1]   \n",
              "2   A38RMU1Y5TDP9  159985130X  Bob Tobias \"Robert Tobias\"  [75, 77]   \n",
              "3  A1XZUG7DFXXOS4  159985130X                   Cat lover  [56, 60]   \n",
              "4  A1MS3M7M7AM13X  159985130X                  Cricketoes    [1, 1]   \n",
              "\n",
              "                                          reviewText  overall  \\\n",
              "0  This is a great little gadget to have around. ...        5   \n",
              "1  I would recommend this for a travel magnifier ...        4   \n",
              "2  What I liked was the quality of the lens and t...        4   \n",
              "3  Love the Great point light pocket magnifier!  ...        4   \n",
              "4  This is very nice. You pull out on the magnifi...        5   \n",
              "\n",
              "                                 summary  unixReviewTime   reviewTime  \n",
              "0                    Handy little gadget      1294185600   01 5, 2011  \n",
              "1  Small & may need to encourage battery      1329523200  02 18, 2012  \n",
              "2                Very good but not great      1275955200   06 8, 2010  \n",
              "3           great addition to your purse      1202428800   02 8, 2008  \n",
              "4              Very nice and convenient.      1313452800  08 16, 2011  "
            ],
            "text/html": [
              "\n",
              "  <div id=\"df-50d47e14-afdd-4244-99d5-f786cc072927\" class=\"colab-df-container\">\n",
              "    <div>\n",
              "<style scoped>\n",
              "    .dataframe tbody tr th:only-of-type {\n",
              "        vertical-align: middle;\n",
              "    }\n",
              "\n",
              "    .dataframe tbody tr th {\n",
              "        vertical-align: top;\n",
              "    }\n",
              "\n",
              "    .dataframe thead th {\n",
              "        text-align: right;\n",
              "    }\n",
              "</style>\n",
              "<table border=\"1\" class=\"dataframe\">\n",
              "  <thead>\n",
              "    <tr style=\"text-align: right;\">\n",
              "      <th></th>\n",
              "      <th>reviewerID</th>\n",
              "      <th>asin</th>\n",
              "      <th>reviewerName</th>\n",
              "      <th>helpful</th>\n",
              "      <th>reviewText</th>\n",
              "      <th>overall</th>\n",
              "      <th>summary</th>\n",
              "      <th>unixReviewTime</th>\n",
              "      <th>reviewTime</th>\n",
              "    </tr>\n",
              "  </thead>\n",
              "  <tbody>\n",
              "    <tr>\n",
              "      <th>0</th>\n",
              "      <td>ALC5GH8CAMAI7</td>\n",
              "      <td>159985130X</td>\n",
              "      <td>AnnN</td>\n",
              "      <td>[1, 1]</td>\n",
              "      <td>This is a great little gadget to have around. ...</td>\n",
              "      <td>5</td>\n",
              "      <td>Handy little gadget</td>\n",
              "      <td>1294185600</td>\n",
              "      <td>01 5, 2011</td>\n",
              "    </tr>\n",
              "    <tr>\n",
              "      <th>1</th>\n",
              "      <td>AHKSURW85PJUE</td>\n",
              "      <td>159985130X</td>\n",
              "      <td>AZ buyer \"AZ buyer\"</td>\n",
              "      <td>[1, 1]</td>\n",
              "      <td>I would recommend this for a travel magnifier ...</td>\n",
              "      <td>4</td>\n",
              "      <td>Small &amp; may need to encourage battery</td>\n",
              "      <td>1329523200</td>\n",
              "      <td>02 18, 2012</td>\n",
              "    </tr>\n",
              "    <tr>\n",
              "      <th>2</th>\n",
              "      <td>A38RMU1Y5TDP9</td>\n",
              "      <td>159985130X</td>\n",
              "      <td>Bob Tobias \"Robert Tobias\"</td>\n",
              "      <td>[75, 77]</td>\n",
              "      <td>What I liked was the quality of the lens and t...</td>\n",
              "      <td>4</td>\n",
              "      <td>Very good but not great</td>\n",
              "      <td>1275955200</td>\n",
              "      <td>06 8, 2010</td>\n",
              "    </tr>\n",
              "    <tr>\n",
              "      <th>3</th>\n",
              "      <td>A1XZUG7DFXXOS4</td>\n",
              "      <td>159985130X</td>\n",
              "      <td>Cat lover</td>\n",
              "      <td>[56, 60]</td>\n",
              "      <td>Love the Great point light pocket magnifier!  ...</td>\n",
              "      <td>4</td>\n",
              "      <td>great addition to your purse</td>\n",
              "      <td>1202428800</td>\n",
              "      <td>02 8, 2008</td>\n",
              "    </tr>\n",
              "    <tr>\n",
              "      <th>4</th>\n",
              "      <td>A1MS3M7M7AM13X</td>\n",
              "      <td>159985130X</td>\n",
              "      <td>Cricketoes</td>\n",
              "      <td>[1, 1]</td>\n",
              "      <td>This is very nice. You pull out on the magnifi...</td>\n",
              "      <td>5</td>\n",
              "      <td>Very nice and convenient.</td>\n",
              "      <td>1313452800</td>\n",
              "      <td>08 16, 2011</td>\n",
              "    </tr>\n",
              "  </tbody>\n",
              "</table>\n",
              "</div>\n",
              "    <div class=\"colab-df-buttons\">\n",
              "\n",
              "  <div class=\"colab-df-container\">\n",
              "    <button class=\"colab-df-convert\" onclick=\"convertToInteractive('df-50d47e14-afdd-4244-99d5-f786cc072927')\"\n",
              "            title=\"Convert this dataframe to an interactive table.\"\n",
              "            style=\"display:none;\">\n",
              "\n",
              "  <svg xmlns=\"http://www.w3.org/2000/svg\" height=\"24px\" viewBox=\"0 -960 960 960\">\n",
              "    <path d=\"M120-120v-720h720v720H120Zm60-500h600v-160H180v160Zm220 220h160v-160H400v160Zm0 220h160v-160H400v160ZM180-400h160v-160H180v160Zm440 0h160v-160H620v160ZM180-180h160v-160H180v160Zm440 0h160v-160H620v160Z\"/>\n",
              "  </svg>\n",
              "    </button>\n",
              "\n",
              "  <style>\n",
              "    .colab-df-container {\n",
              "      display:flex;\n",
              "      gap: 12px;\n",
              "    }\n",
              "\n",
              "    .colab-df-convert {\n",
              "      background-color: #E8F0FE;\n",
              "      border: none;\n",
              "      border-radius: 50%;\n",
              "      cursor: pointer;\n",
              "      display: none;\n",
              "      fill: #1967D2;\n",
              "      height: 32px;\n",
              "      padding: 0 0 0 0;\n",
              "      width: 32px;\n",
              "    }\n",
              "\n",
              "    .colab-df-convert:hover {\n",
              "      background-color: #E2EBFA;\n",
              "      box-shadow: 0px 1px 2px rgba(60, 64, 67, 0.3), 0px 1px 3px 1px rgba(60, 64, 67, 0.15);\n",
              "      fill: #174EA6;\n",
              "    }\n",
              "\n",
              "    .colab-df-buttons div {\n",
              "      margin-bottom: 4px;\n",
              "    }\n",
              "\n",
              "    [theme=dark] .colab-df-convert {\n",
              "      background-color: #3B4455;\n",
              "      fill: #D2E3FC;\n",
              "    }\n",
              "\n",
              "    [theme=dark] .colab-df-convert:hover {\n",
              "      background-color: #434B5C;\n",
              "      box-shadow: 0px 1px 3px 1px rgba(0, 0, 0, 0.15);\n",
              "      filter: drop-shadow(0px 1px 2px rgba(0, 0, 0, 0.3));\n",
              "      fill: #FFFFFF;\n",
              "    }\n",
              "  </style>\n",
              "\n",
              "    <script>\n",
              "      const buttonEl =\n",
              "        document.querySelector('#df-50d47e14-afdd-4244-99d5-f786cc072927 button.colab-df-convert');\n",
              "      buttonEl.style.display =\n",
              "        google.colab.kernel.accessAllowed ? 'block' : 'none';\n",
              "\n",
              "      async function convertToInteractive(key) {\n",
              "        const element = document.querySelector('#df-50d47e14-afdd-4244-99d5-f786cc072927');\n",
              "        const dataTable =\n",
              "          await google.colab.kernel.invokeFunction('convertToInteractive',\n",
              "                                                    [key], {});\n",
              "        if (!dataTable) return;\n",
              "\n",
              "        const docLinkHtml = 'Like what you see? Visit the ' +\n",
              "          '<a target=\"_blank\" href=https://colab.research.google.com/notebooks/data_table.ipynb>data table notebook</a>'\n",
              "          + ' to learn more about interactive tables.';\n",
              "        element.innerHTML = '';\n",
              "        dataTable['output_type'] = 'display_data';\n",
              "        await google.colab.output.renderOutput(dataTable, element);\n",
              "        const docLink = document.createElement('div');\n",
              "        docLink.innerHTML = docLinkHtml;\n",
              "        element.appendChild(docLink);\n",
              "      }\n",
              "    </script>\n",
              "  </div>\n",
              "\n",
              "\n",
              "<div id=\"df-10818e91-1898-44b1-b65d-94c5f359c29d\">\n",
              "  <button class=\"colab-df-quickchart\" onclick=\"quickchart('df-10818e91-1898-44b1-b65d-94c5f359c29d')\"\n",
              "            title=\"Suggest charts.\"\n",
              "            style=\"display:none;\">\n",
              "\n",
              "<svg xmlns=\"http://www.w3.org/2000/svg\" height=\"24px\"viewBox=\"0 0 24 24\"\n",
              "     width=\"24px\">\n",
              "    <g>\n",
              "        <path d=\"M19 3H5c-1.1 0-2 .9-2 2v14c0 1.1.9 2 2 2h14c1.1 0 2-.9 2-2V5c0-1.1-.9-2-2-2zM9 17H7v-7h2v7zm4 0h-2V7h2v10zm4 0h-2v-4h2v4z\"/>\n",
              "    </g>\n",
              "</svg>\n",
              "  </button>\n",
              "\n",
              "<style>\n",
              "  .colab-df-quickchart {\n",
              "      --bg-color: #E8F0FE;\n",
              "      --fill-color: #1967D2;\n",
              "      --hover-bg-color: #E2EBFA;\n",
              "      --hover-fill-color: #174EA6;\n",
              "      --disabled-fill-color: #AAA;\n",
              "      --disabled-bg-color: #DDD;\n",
              "  }\n",
              "\n",
              "  [theme=dark] .colab-df-quickchart {\n",
              "      --bg-color: #3B4455;\n",
              "      --fill-color: #D2E3FC;\n",
              "      --hover-bg-color: #434B5C;\n",
              "      --hover-fill-color: #FFFFFF;\n",
              "      --disabled-bg-color: #3B4455;\n",
              "      --disabled-fill-color: #666;\n",
              "  }\n",
              "\n",
              "  .colab-df-quickchart {\n",
              "    background-color: var(--bg-color);\n",
              "    border: none;\n",
              "    border-radius: 50%;\n",
              "    cursor: pointer;\n",
              "    display: none;\n",
              "    fill: var(--fill-color);\n",
              "    height: 32px;\n",
              "    padding: 0;\n",
              "    width: 32px;\n",
              "  }\n",
              "\n",
              "  .colab-df-quickchart:hover {\n",
              "    background-color: var(--hover-bg-color);\n",
              "    box-shadow: 0 1px 2px rgba(60, 64, 67, 0.3), 0 1px 3px 1px rgba(60, 64, 67, 0.15);\n",
              "    fill: var(--button-hover-fill-color);\n",
              "  }\n",
              "\n",
              "  .colab-df-quickchart-complete:disabled,\n",
              "  .colab-df-quickchart-complete:disabled:hover {\n",
              "    background-color: var(--disabled-bg-color);\n",
              "    fill: var(--disabled-fill-color);\n",
              "    box-shadow: none;\n",
              "  }\n",
              "\n",
              "  .colab-df-spinner {\n",
              "    border: 2px solid var(--fill-color);\n",
              "    border-color: transparent;\n",
              "    border-bottom-color: var(--fill-color);\n",
              "    animation:\n",
              "      spin 1s steps(1) infinite;\n",
              "  }\n",
              "\n",
              "  @keyframes spin {\n",
              "    0% {\n",
              "      border-color: transparent;\n",
              "      border-bottom-color: var(--fill-color);\n",
              "      border-left-color: var(--fill-color);\n",
              "    }\n",
              "    20% {\n",
              "      border-color: transparent;\n",
              "      border-left-color: var(--fill-color);\n",
              "      border-top-color: var(--fill-color);\n",
              "    }\n",
              "    30% {\n",
              "      border-color: transparent;\n",
              "      border-left-color: var(--fill-color);\n",
              "      border-top-color: var(--fill-color);\n",
              "      border-right-color: var(--fill-color);\n",
              "    }\n",
              "    40% {\n",
              "      border-color: transparent;\n",
              "      border-right-color: var(--fill-color);\n",
              "      border-top-color: var(--fill-color);\n",
              "    }\n",
              "    60% {\n",
              "      border-color: transparent;\n",
              "      border-right-color: var(--fill-color);\n",
              "    }\n",
              "    80% {\n",
              "      border-color: transparent;\n",
              "      border-right-color: var(--fill-color);\n",
              "      border-bottom-color: var(--fill-color);\n",
              "    }\n",
              "    90% {\n",
              "      border-color: transparent;\n",
              "      border-bottom-color: var(--fill-color);\n",
              "    }\n",
              "  }\n",
              "</style>\n",
              "\n",
              "  <script>\n",
              "    async function quickchart(key) {\n",
              "      const quickchartButtonEl =\n",
              "        document.querySelector('#' + key + ' button');\n",
              "      quickchartButtonEl.disabled = true;  // To prevent multiple clicks.\n",
              "      quickchartButtonEl.classList.add('colab-df-spinner');\n",
              "      try {\n",
              "        const charts = await google.colab.kernel.invokeFunction(\n",
              "            'suggestCharts', [key], {});\n",
              "      } catch (error) {\n",
              "        console.error('Error during call to suggestCharts:', error);\n",
              "      }\n",
              "      quickchartButtonEl.classList.remove('colab-df-spinner');\n",
              "      quickchartButtonEl.classList.add('colab-df-quickchart-complete');\n",
              "    }\n",
              "    (() => {\n",
              "      let quickchartButtonEl =\n",
              "        document.querySelector('#df-10818e91-1898-44b1-b65d-94c5f359c29d button');\n",
              "      quickchartButtonEl.style.display =\n",
              "        google.colab.kernel.accessAllowed ? 'block' : 'none';\n",
              "    })();\n",
              "  </script>\n",
              "</div>\n",
              "    </div>\n",
              "  </div>\n"
            ]
          },
          "metadata": {},
          "execution_count": 3
        }
      ]
    },
    {
      "cell_type": "code",
      "source": [
        "# View information about the data\n",
        "raw_df.info()"
      ],
      "metadata": {
        "colab": {
          "base_uri": "https://localhost:8080/"
        },
        "id": "EayD5NUztoTh",
        "outputId": "2e476132-badf-4b70-f356-aa9cabe11ef0"
      },
      "execution_count": 4,
      "outputs": [
        {
          "output_type": "stream",
          "name": "stdout",
          "text": [
            "<class 'pandas.core.frame.DataFrame'>\n",
            "RangeIndex: 10000 entries, 0 to 9999\n",
            "Data columns (total 9 columns):\n",
            " #   Column          Non-Null Count  Dtype \n",
            "---  ------          --------------  ----- \n",
            " 0   reviewerID      10000 non-null  object\n",
            " 1   asin            10000 non-null  object\n",
            " 2   reviewerName    9965 non-null   object\n",
            " 3   helpful         10000 non-null  object\n",
            " 4   reviewText      10000 non-null  object\n",
            " 5   overall         10000 non-null  int64 \n",
            " 6   summary         10000 non-null  object\n",
            " 7   unixReviewTime  10000 non-null  int64 \n",
            " 8   reviewTime      10000 non-null  object\n",
            "dtypes: int64(2), object(7)\n",
            "memory usage: 703.2+ KB\n"
          ]
        }
      ]
    },
    {
      "cell_type": "code",
      "source": [
        "raw_df['reviewText'][0]"
      ],
      "metadata": {
        "colab": {
          "base_uri": "https://localhost:8080/",
          "height": 70
        },
        "id": "mDJoWhJ6tu5H",
        "outputId": "7c2a6402-0dc2-48ef-8859-5951b2dcf0d0"
      },
      "execution_count": 5,
      "outputs": [
        {
          "output_type": "execute_result",
          "data": {
            "text/plain": [
              "\"This is a great little gadget to have around.  We've already used it to look for splinters and a few other uses.  The light is great.  It's a handy size.  However, I do wish I'd bought one with a little higher magnification.\""
            ],
            "application/vnd.google.colaboratory.intrinsic+json": {
              "type": "string"
            }
          },
          "metadata": {},
          "execution_count": 5
        }
      ]
    },
    {
      "cell_type": "code",
      "source": [
        "raw_df['reviewText'][1]"
      ],
      "metadata": {
        "colab": {
          "base_uri": "https://localhost:8080/",
          "height": 104
        },
        "id": "b0nGPyG3tzfO",
        "outputId": "42565cd0-ed7d-46e2-b9a6-75e86d1ff8ce"
      },
      "execution_count": 6,
      "outputs": [
        {
          "output_type": "execute_result",
          "data": {
            "text/plain": [
              "'I would recommend this for a travel magnifier for the occasional reading.I had read on another review about a magnifier having a problem with the light coming on. I did find that this one appeared to be DOA out of the box. But, after opening & shutting the viewer to turn on & off the light, the light began to come on. After several times of doing this, the light appears to be coming on all the time.It is small, but for taking it someplace & reading things like a menu in a dark corner of a restaurant, this is great.'"
            ],
            "application/vnd.google.colaboratory.intrinsic+json": {
              "type": "string"
            }
          },
          "metadata": {},
          "execution_count": 6
        }
      ]
    },
    {
      "cell_type": "markdown",
      "source": [
        "### Step 1 Data Preparation"
      ],
      "metadata": {
        "id": "VuIltYx-vMqx"
      }
    },
    {
      "cell_type": "code",
      "source": [
        "# Convert all the review text into a long string and print its length\n",
        "raw_corpus = u''.join(raw_df['reviewText']+\" \")\n",
        "print(\"Raw Corpus contains {0:,} characters\".format(len(raw_corpus)))"
      ],
      "metadata": {
        "colab": {
          "base_uri": "https://localhost:8080/"
        },
        "id": "x9ILnDZ9t5MI",
        "outputId": "956d6b88-3314-4d63-b128-afccd8960fa1"
      },
      "execution_count": 7,
      "outputs": [
        {
          "output_type": "stream",
          "name": "stdout",
          "text": [
            "Raw Corpus contains 4,366,255 characters\n"
          ]
        }
      ]
    },
    {
      "cell_type": "code",
      "source": [
        "### Let's check what happened\n",
        "raw_corpus[0:500]"
      ],
      "metadata": {
        "colab": {
          "base_uri": "https://localhost:8080/",
          "height": 104
        },
        "id": "mVx9ddYHvSjY",
        "outputId": "4e89ef4d-3c63-4119-db60-3941386adb01"
      },
      "execution_count": 8,
      "outputs": [
        {
          "output_type": "execute_result",
          "data": {
            "text/plain": [
              "\"This is a great little gadget to have around.  We've already used it to look for splinters and a few other uses.  The light is great.  It's a handy size.  However, I do wish I'd bought one with a little higher magnification. I would recommend this for a travel magnifier for the occasional reading.I had read on another review about a magnifier having a problem with the light coming on. I did find that this one appeared to be DOA out of the box. But, after opening & shutting the viewer to turn on \""
            ],
            "application/vnd.google.colaboratory.intrinsic+json": {
              "type": "string"
            }
          },
          "metadata": {},
          "execution_count": 8
        }
      ]
    },
    {
      "cell_type": "code",
      "source": [
        "# import natural language toolkit\n",
        "import nltk\n",
        "# download the punkt tokenizer\n",
        "nltk.download('punkt')\n",
        "print(\"The punkt tokenizer is downloaded\")"
      ],
      "metadata": {
        "colab": {
          "base_uri": "https://localhost:8080/"
        },
        "id": "oJvzz39NvVxz",
        "outputId": "6face3fc-648d-4daa-8e33-fde70476dcf4"
      },
      "execution_count": 9,
      "outputs": [
        {
          "output_type": "stream",
          "name": "stderr",
          "text": [
            "[nltk_data] Downloading package punkt to /root/nltk_data...\n",
            "[nltk_data]   Unzipping tokenizers/punkt.zip.\n"
          ]
        },
        {
          "output_type": "stream",
          "name": "stdout",
          "text": [
            "The punkt tokenizer is downloaded\n"
          ]
        }
      ]
    },
    {
      "cell_type": "code",
      "source": [
        "# Load the punkt tokenizer\n",
        "tokenizer = nltk.data.load(\"tokenizers/punkt/english.pickle\")\n",
        "print(\"The punkt tokenizer is loaded\")\n",
        "\n",
        "# we tokenize the raw string into raw sentences\n",
        "raw_sentences = tokenizer.tokenize(raw_corpus)\n",
        "print(\"We have {0:,} raw sentences\".format(len(raw_sentences)))"
      ],
      "metadata": {
        "colab": {
          "base_uri": "https://localhost:8080/"
        },
        "id": "2_9QGRqHvbzb",
        "outputId": "6076c3dc-fd71-41d7-fe1e-6de4cf029675"
      },
      "execution_count": 10,
      "outputs": [
        {
          "output_type": "stream",
          "name": "stdout",
          "text": [
            "The punkt tokenizer is loaded\n",
            "We have 46,953 raw sentences\n"
          ]
        }
      ]
    },
    {
      "cell_type": "markdown",
      "source": [
        "As shown earlier, we have converted the initial 10,000 reviews to 46,820 raw sentences."
      ],
      "metadata": {
        "id": "xBNHar-6wd1x"
      }
    },
    {
      "cell_type": "code",
      "source": [
        "# Recheck the raw review data once again\n",
        "## Check the first review\n",
        "raw_df['reviewText'][0]"
      ],
      "metadata": {
        "colab": {
          "base_uri": "https://localhost:8080/",
          "height": 70
        },
        "id": "YlFoeRK4vm7r",
        "outputId": "02ab0c1e-909e-447c-92ba-a0021ac6bd3e"
      },
      "execution_count": 11,
      "outputs": [
        {
          "output_type": "execute_result",
          "data": {
            "text/plain": [
              "\"This is a great little gadget to have around.  We've already used it to look for splinters and a few other uses.  The light is great.  It's a handy size.  However, I do wish I'd bought one with a little higher magnification.\""
            ],
            "application/vnd.google.colaboratory.intrinsic+json": {
              "type": "string"
            }
          },
          "metadata": {},
          "execution_count": 11
        }
      ]
    },
    {
      "cell_type": "code",
      "source": [
        "raw_sentences[0:5]"
      ],
      "metadata": {
        "colab": {
          "base_uri": "https://localhost:8080/"
        },
        "id": "xIEs3R0jwqf-",
        "outputId": "3afad8f3-6532-4f59-c65e-8582d27fb085"
      },
      "execution_count": 12,
      "outputs": [
        {
          "output_type": "execute_result",
          "data": {
            "text/plain": [
              "['This is a great little gadget to have around.',\n",
              " \"We've already used it to look for splinters and a few other uses.\",\n",
              " 'The light is great.',\n",
              " \"It's a handy size.\",\n",
              " \"However, I do wish I'd bought one with a little higher magnification.\"]"
            ]
          },
          "metadata": {},
          "execution_count": 12
        }
      ]
    },
    {
      "cell_type": "markdown",
      "source": [
        "As you can see, the first review has been broken down to it's individual sentences in the first 5 entries of the `raw_sentences` list. Similarly the rest of the reviews have been broken down and stored in the same list"
      ],
      "metadata": {
        "id": "cY0ll_KSwzSg"
      }
    },
    {
      "cell_type": "code",
      "source": [
        "import re\n",
        "\n",
        "# Clean and split sentence into words\n",
        "def clean_and_split_str(string):\n",
        "    strip_special_chars = re.compile(\"[^A-Za-z]+\") ## only retrieves alphabets and removes any punctuations and special chars\n",
        "    string = re.sub(strip_special_chars, \" \", string)\n",
        "    return string.strip().split()"
      ],
      "metadata": {
        "id": "K61Inc0uwt42"
      },
      "execution_count": 13,
      "outputs": []
    },
    {
      "cell_type": "code",
      "source": [
        "### let's check the above function in action on a sample raw sentence\n",
        "sample = \"We've already used it to look for splinters and a few other uses.\""
      ],
      "metadata": {
        "id": "C4egysqtw_Du"
      },
      "execution_count": 14,
      "outputs": []
    },
    {
      "cell_type": "code",
      "source": [
        "clean_and_split_str(sample)"
      ],
      "metadata": {
        "colab": {
          "base_uri": "https://localhost:8080/"
        },
        "id": "QCp_EcptxC5R",
        "outputId": "7d7e07fd-2fd2-477c-b8a1-685431695f5d"
      },
      "execution_count": 15,
      "outputs": [
        {
          "output_type": "execute_result",
          "data": {
            "text/plain": [
              "['We',\n",
              " 've',\n",
              " 'already',\n",
              " 'used',\n",
              " 'it',\n",
              " 'to',\n",
              " 'look',\n",
              " 'for',\n",
              " 'splinters',\n",
              " 'and',\n",
              " 'a',\n",
              " 'few',\n",
              " 'other',\n",
              " 'uses']"
            ]
          },
          "metadata": {},
          "execution_count": 15
        }
      ]
    },
    {
      "cell_type": "code",
      "source": [
        "# clean each raw sentences and build the list of sentences\n",
        "sentences = []\n",
        "for raw_sent in raw_sentences:\n",
        "    if len(raw_sent) > 0:\n",
        "        sentences.append(clean_and_split_str(raw_sent))\n",
        "print(\"We have {0:,} clean sentences\".format(len(sentences)))"
      ],
      "metadata": {
        "colab": {
          "base_uri": "https://localhost:8080/"
        },
        "id": "Xdkxbt6gxFtn",
        "outputId": "6b771ff1-eeca-4e78-95ec-7da50f885073"
      },
      "execution_count": 16,
      "outputs": [
        {
          "output_type": "stream",
          "name": "stdout",
          "text": [
            "We have 46,953 clean sentences\n"
          ]
        }
      ]
    },
    {
      "cell_type": "code",
      "source": [
        "###Check one raw sentence and its equivalent clean sentence\n",
        "### You can change the index and evaluate for multiple sentences\n",
        "print(raw_sentences[30],'\\n')\n",
        "print(sentences[30])"
      ],
      "metadata": {
        "colab": {
          "base_uri": "https://localhost:8080/"
        },
        "id": "MKSxWSdfxSNm",
        "outputId": "17ff6a0b-fe52-4c97-9ee8-21aa46df5a78"
      },
      "execution_count": 17,
      "outputs": [
        {
          "output_type": "stream",
          "name": "stdout",
          "text": [
            "I use this magnifier to inspect seeds and leaves. \n",
            "\n",
            "['I', 'use', 'this', 'magnifier', 'to', 'inspect', 'seeds', 'and', 'leaves']\n"
          ]
        }
      ]
    },
    {
      "cell_type": "code",
      "source": [
        "token_count = sum([len(sentence) for sentence in sentences])\n",
        "print(\"The dataset corpus contains {0:,} tokens\".format(token_count))"
      ],
      "metadata": {
        "colab": {
          "base_uri": "https://localhost:8080/"
        },
        "id": "vam4QrTyxWM5",
        "outputId": "494b9c0e-ec1c-48c0-9a0c-7ef4a13beea1"
      },
      "execution_count": 18,
      "outputs": [
        {
          "output_type": "stream",
          "name": "stdout",
          "text": [
            "The dataset corpus contains 822,299 tokens\n"
          ]
        }
      ]
    },
    {
      "cell_type": "markdown",
      "source": [
        "### Step 2: Model Building"
      ],
      "metadata": {
        "id": "0HL6G2nQxm7O"
      }
    },
    {
      "cell_type": "code",
      "source": [
        "import multiprocessing\n",
        "\n",
        "#Dimensionality of the resulting word vectors\n",
        "num_features = 300\n",
        "\n",
        "#Minimum word count threshold\n",
        "min_word_count = 3\n",
        "\n",
        "#Number of threads to run in parallel\n",
        "num_workers = multiprocessing.cpu_count()\n",
        "\n",
        "#Context window length\n",
        "context_size = 7\n",
        "\n",
        "#Seed for the RNG, to make the result reproducible\n",
        "seed = 1"
      ],
      "metadata": {
        "id": "zrWcW4zRxhuQ"
      },
      "execution_count": 19,
      "outputs": []
    },
    {
      "cell_type": "code",
      "source": [
        "!pip install gensim"
      ],
      "metadata": {
        "colab": {
          "base_uri": "https://localhost:8080/"
        },
        "id": "OCEnFtpszqZb",
        "outputId": "2c4f27d3-9ec2-410b-d8b5-d11254824ecb"
      },
      "execution_count": 20,
      "outputs": [
        {
          "output_type": "stream",
          "name": "stdout",
          "text": [
            "Requirement already satisfied: gensim in /usr/local/lib/python3.10/dist-packages (4.3.2)\n",
            "Requirement already satisfied: numpy>=1.18.5 in /usr/local/lib/python3.10/dist-packages (from gensim) (1.23.5)\n",
            "Requirement already satisfied: scipy>=1.7.0 in /usr/local/lib/python3.10/dist-packages (from gensim) (1.11.2)\n",
            "Requirement already satisfied: smart-open>=1.8.1 in /usr/local/lib/python3.10/dist-packages (from gensim) (6.4.0)\n"
          ]
        }
      ]
    },
    {
      "cell_type": "code",
      "source": [
        "# Import necessary libraries\n",
        "from gensim.models import Word2Vec\n",
        "# Create a Word2Vec model\n",
        "model = Word2Vec(sentences, vector_size=300, window=7, min_count=3, sg=1)"
      ],
      "metadata": {
        "id": "OaqCCcTWAeYG"
      },
      "execution_count": 21,
      "outputs": []
    },
    {
      "cell_type": "code",
      "source": [
        "# Training the Word2Vec model\n",
        "model.train(sentences, total_examples=len(sentences), epochs=10)\n"
      ],
      "metadata": {
        "colab": {
          "base_uri": "https://localhost:8080/"
        },
        "id": "-oj2LBPVA854",
        "outputId": "c1872396-aa76-46b9-f9cd-f6e72728872d"
      },
      "execution_count": 22,
      "outputs": [
        {
          "output_type": "stream",
          "name": "stderr",
          "text": [
            "WARNING:gensim.models.word2vec:Effective 'alpha' higher than previous training cycles\n"
          ]
        },
        {
          "output_type": "execute_result",
          "data": {
            "text/plain": [
              "(6048440, 8222990)"
            ]
          },
          "metadata": {},
          "execution_count": 22
        }
      ]
    },
    {
      "cell_type": "code",
      "source": [
        "#Save the model\n",
        "model.save(\"/content/word2vec_model_trained_on_Health_and_Personal_Care.w2v\")\n",
        "print(\"Model saved\")"
      ],
      "metadata": {
        "colab": {
          "base_uri": "https://localhost:8080/"
        },
        "id": "dZ85egJpBQ5f",
        "outputId": "e597df55-25e3-43e0-cd08-0848aa9931b4"
      },
      "execution_count": 23,
      "outputs": [
        {
          "output_type": "stream",
          "name": "stdout",
          "text": [
            "Model saved\n"
          ]
        }
      ]
    },
    {
      "cell_type": "code",
      "source": [
        "# find top N similar word to a given word in the vocabulary\n",
        "print(model.wv.most_similar(\"water\",topn=5))\n"
      ],
      "metadata": {
        "colab": {
          "base_uri": "https://localhost:8080/"
        },
        "id": "fOHS-ii4B5yR",
        "outputId": "b8ccfba6-0efb-4a70-f740-cc0bf4a18139"
      },
      "execution_count": 24,
      "outputs": [
        {
          "output_type": "stream",
          "name": "stdout",
          "text": [
            "[('kettle', 0.46838831901550293), ('pot', 0.45810410380363464), ('suds', 0.4517161548137665), ('rinse', 0.4493551552295685), ('faucet', 0.4437199831008911)]\n"
          ]
        }
      ]
    },
    {
      "cell_type": "code",
      "source": [
        "# find top N similar word to a given word in the vocabulary\n",
        "print(model.wv.most_similar(\"gadget\",topn=5))\n"
      ],
      "metadata": {
        "colab": {
          "base_uri": "https://localhost:8080/"
        },
        "id": "lQJX4HdhCVhi",
        "outputId": "46d9615b-5d12-4d6b-9eb2-a1f4a3f44e39"
      },
      "execution_count": 25,
      "outputs": [
        {
          "output_type": "stream",
          "name": "stdout",
          "text": [
            "[('gem', 0.6163192987442017), ('Gross', 0.5993233919143677), ('mag', 0.5839505195617676), ('woth', 0.566505491733551), ('sounding', 0.5579785108566284)]\n"
          ]
        }
      ]
    },
    {
      "cell_type": "code",
      "source": [
        "# find top N similar word to a given word in the vocabulary\n",
        "print(model.wv.most_similar(\"OMRON\",topn=5))\n"
      ],
      "metadata": {
        "colab": {
          "base_uri": "https://localhost:8080/"
        },
        "id": "zN7f90Mc6irk",
        "outputId": "1da1c51e-cf01-4fd3-d745-eabd7e52ac7b"
      },
      "execution_count": 27,
      "outputs": [
        {
          "output_type": "stream",
          "name": "stdout",
          "text": [
            "[('Pressure', 0.7183316946029663), ('Blood', 0.7159221768379211), ('Accessory', 0.7126169800758362), ('incl', 0.7110934257507324), ('Optiva', 0.7105442881584167)]\n"
          ]
        }
      ]
    },
    {
      "cell_type": "code",
      "source": [
        "model.wv.similarity('OMRON','gadget')"
      ],
      "metadata": {
        "colab": {
          "base_uri": "https://localhost:8080/"
        },
        "id": "n_W9Qa0z7YaY",
        "outputId": "4e365b15-3eb0-4bbc-cd62-7a9c1eadb1b7"
      },
      "execution_count": 29,
      "outputs": [
        {
          "output_type": "execute_result",
          "data": {
            "text/plain": [
              "0.26706067"
            ]
          },
          "metadata": {},
          "execution_count": 29
        }
      ]
    },
    {
      "cell_type": "code",
      "source": [
        "model.wv.similarity('OMRON','Blood')"
      ],
      "metadata": {
        "colab": {
          "base_uri": "https://localhost:8080/"
        },
        "id": "jfyIBHHmAJ1l",
        "outputId": "78fbbeb8-101e-4bae-94a3-1de3ce5653af"
      },
      "execution_count": 30,
      "outputs": [
        {
          "output_type": "execute_result",
          "data": {
            "text/plain": [
              "0.7159222"
            ]
          },
          "metadata": {},
          "execution_count": 30
        }
      ]
    },
    {
      "cell_type": "code",
      "source": [
        "# find top N similar word to a given word in the vocabulary\n",
        "print(model.wv.most_similar(\"Duracell\",topn=5))\n"
      ],
      "metadata": {
        "colab": {
          "base_uri": "https://localhost:8080/"
        },
        "id": "yXf7SJbuAj2u",
        "outputId": "84ec319c-aec8-48d3-8fde-bf52eaffd4e1"
      },
      "execution_count": 32,
      "outputs": [
        {
          "output_type": "stream",
          "name": "stdout",
          "text": [
            "[('Maxell', 0.6987974643707275), ('Energizer', 0.6792564988136292), ('Procell', 0.6776551008224487), ('Coppertops', 0.6333888173103333), ('Coppertop', 0.632138192653656)]\n"
          ]
        }
      ]
    },
    {
      "cell_type": "code",
      "source": [
        "model.wv[\"Duracell\"]"
      ],
      "metadata": {
        "colab": {
          "base_uri": "https://localhost:8080/"
        },
        "id": "C09OsDqLGoK4",
        "outputId": "fc0383e3-8fc7-4073-db85-4e17700ab5b9"
      },
      "execution_count": 37,
      "outputs": [
        {
          "output_type": "execute_result",
          "data": {
            "text/plain": [
              "array([-2.60598838e-01, -4.38623130e-02,  1.58521056e-01,  6.00926459e-01,\n",
              "       -1.96570456e-01, -2.87018865e-01,  4.56014395e-01, -1.06914029e-01,\n",
              "        2.34253585e-01,  1.09944142e-01, -5.37605107e-01, -6.18112721e-02,\n",
              "        1.93524212e-01,  3.06071900e-03, -1.42543018e-01, -1.10967837e-01,\n",
              "        5.63448071e-01,  4.45138626e-02,  2.90649414e-01, -8.88369232e-02,\n",
              "       -1.70357618e-02,  3.02243114e-01,  7.92753231e-03,  2.09295422e-01,\n",
              "        3.74492019e-01, -3.06681156e-01, -1.42414868e-01,  2.26710424e-01,\n",
              "       -2.85753631e-03, -7.09159434e-01, -1.74335256e-01, -3.51907521e-01,\n",
              "        8.40604901e-02, -4.18184698e-02,  8.94318372e-02,  3.05299044e-01,\n",
              "        5.28163135e-01, -2.03131083e-02, -6.66462839e-01, -3.13157350e-01,\n",
              "        1.11693852e-01, -2.29197294e-01, -5.09344816e-01, -1.31846726e-01,\n",
              "        4.48593348e-01,  2.63343871e-01, -3.02440852e-01,  1.37320906e-02,\n",
              "        5.43555200e-01,  3.34723741e-01,  3.28231931e-01,  2.08989769e-01,\n",
              "        1.07380278e-01, -1.70951352e-01,  1.22598760e-01,  8.86328593e-02,\n",
              "       -3.86411846e-02, -3.28143030e-01,  2.93345749e-01,  7.25638494e-02,\n",
              "       -4.24885482e-01, -1.95116121e-02, -6.85693324e-02,  7.02648044e-01,\n",
              "       -6.49898946e-02,  1.54268414e-01, -7.84959197e-01,  8.06309655e-02,\n",
              "        1.77362606e-01, -2.60782033e-01, -2.18753248e-01, -5.29315054e-01,\n",
              "        5.29314339e-01, -2.02882960e-01, -3.33082914e-01,  1.87799916e-01,\n",
              "       -1.16546787e-01, -2.17228889e-01, -3.09630577e-02,  5.13880074e-01,\n",
              "        1.24713205e-01, -2.39662096e-01,  1.20189548e-01, -1.72129214e-01,\n",
              "        7.86199048e-02, -2.26587504e-02, -3.44962448e-01,  1.66313052e-01,\n",
              "        1.38336048e-01,  3.61163616e-01,  9.77216661e-02, -5.33139296e-02,\n",
              "        3.06473136e-01,  5.85220642e-02, -2.06376061e-01,  5.78039289e-02,\n",
              "       -1.11640602e-01, -3.33588570e-01,  2.98432976e-01, -3.80539179e-01,\n",
              "        3.52747738e-02, -3.60280685e-02,  3.07120174e-01, -2.74091750e-01,\n",
              "        5.06304741e-01,  2.29177535e-01,  8.68406296e-02, -3.96122575e-01,\n",
              "       -2.36861557e-01,  1.56933129e-01,  2.03957558e-01, -4.36089300e-02,\n",
              "       -2.24096682e-02,  5.01271188e-01, -3.92288685e-01,  1.54306561e-01,\n",
              "        2.02737171e-02,  1.53697819e-01,  5.64934164e-02, -7.89861195e-03,\n",
              "       -9.35388505e-02, -1.76034048e-02,  3.08769166e-01,  8.06135610e-02,\n",
              "       -4.81861502e-01, -1.26237735e-01,  5.79082295e-02,  8.40764493e-02,\n",
              "       -2.49828532e-01, -3.96071464e-01,  4.09739405e-01,  2.20842332e-01,\n",
              "        2.49039248e-01,  3.11743587e-01,  1.54272854e-01, -8.01819786e-02,\n",
              "        1.58887371e-01,  9.91451144e-02, -2.50806302e-01,  3.65555078e-01,\n",
              "       -1.28682882e-01,  7.55151780e-03, -8.81456584e-02,  2.93906450e-01,\n",
              "       -9.23587382e-03,  2.36721620e-01,  1.57583356e-02, -4.83388752e-02,\n",
              "        1.20461412e-01,  2.95897305e-01, -1.04429191e-02, -1.00166909e-01,\n",
              "        2.59912610e-01, -3.39414448e-01,  3.89282741e-02, -1.90809555e-02,\n",
              "       -3.22318733e-01,  1.12750746e-01,  1.75081611e-01,  9.69565287e-02,\n",
              "        1.17638223e-01,  1.02580421e-01,  1.93466414e-02,  5.34659505e-01,\n",
              "       -3.93621653e-01, -1.24131657e-01, -8.91347155e-02, -1.05924375e-01,\n",
              "        2.24928826e-01,  3.95240396e-01,  5.84834479e-02,  1.68927889e-02,\n",
              "       -3.05883706e-01, -2.94964202e-02,  5.43099307e-02, -4.58265096e-01,\n",
              "       -2.80505657e-01, -3.86761934e-01,  4.20606464e-01, -5.08859575e-01,\n",
              "        5.11978120e-02,  2.94860378e-02, -2.23769829e-01,  1.31744355e-01,\n",
              "        1.62759274e-01,  2.22900555e-01, -5.27361827e-03,  1.27667487e-01,\n",
              "       -8.34230632e-02, -4.66183126e-01,  3.08099151e-01, -1.40988782e-01,\n",
              "       -2.57945266e-02, -5.02835870e-01,  7.96441585e-02, -2.81510770e-01,\n",
              "        1.49638325e-01, -1.22208141e-01,  1.37544274e-01,  8.63204822e-02,\n",
              "       -1.34272605e-01, -1.39060691e-01, -1.31116301e-01, -2.53882289e-01,\n",
              "        2.46229619e-01, -2.43030995e-01, -3.74337099e-02, -3.80143106e-01,\n",
              "        4.11714092e-02,  1.02452487e-02, -2.33044684e-01,  1.25085503e-01,\n",
              "       -1.29932731e-01, -1.68756083e-01, -6.48628995e-02, -2.27658659e-01,\n",
              "       -1.70807794e-01, -5.41667104e-01,  2.78539062e-02,  1.24806210e-01,\n",
              "       -6.54122084e-02, -2.95282692e-01, -1.76765725e-01, -2.22178116e-01,\n",
              "       -1.80053949e-01,  3.20594460e-01, -1.68108568e-01,  2.12567151e-01,\n",
              "       -7.02145174e-02, -2.64454246e-01,  1.26688913e-01,  1.47882149e-01,\n",
              "       -2.09360898e-01,  2.59974092e-01, -4.19824749e-01,  9.24473107e-02,\n",
              "        7.96156526e-02, -1.17122335e-02,  1.06976004e-02, -5.76854110e-01,\n",
              "        6.95161596e-02, -4.00098599e-03,  4.54273191e-04,  6.55489266e-02,\n",
              "       -5.49416423e-01,  3.38893354e-01,  7.13892207e-02,  1.87421113e-01,\n",
              "       -3.05406213e-01, -2.06540197e-01, -2.05905885e-01,  9.24985483e-02,\n",
              "        1.23898424e-02, -9.94619168e-03, -1.80287853e-01, -1.52098507e-01,\n",
              "       -8.74953158e-03, -1.68115906e-02, -2.66861767e-01, -1.89082175e-01,\n",
              "       -1.97580293e-01,  1.90709397e-01, -6.47104755e-02,  8.87044594e-02,\n",
              "       -4.92051363e-01, -1.04144461e-01,  4.45737801e-02, -1.60359114e-01,\n",
              "       -1.64117217e-01, -2.42774040e-01, -4.87929359e-02,  1.66992992e-01,\n",
              "        3.52294236e-01, -1.75167963e-01, -3.52769107e-01, -2.01872677e-01,\n",
              "        1.35963619e-01, -3.10190588e-01,  5.93965128e-02, -1.96600229e-01,\n",
              "       -2.40515284e-02,  2.05237091e-01,  2.26244137e-01, -2.82024473e-01,\n",
              "        1.95818752e-01, -1.41338125e-01, -1.72303632e-01,  6.87516779e-02,\n",
              "        5.32611847e-01,  1.31101266e-01, -3.90193500e-02,  3.45667750e-01,\n",
              "        3.22569191e-01,  2.57912219e-01,  9.25938115e-02,  2.26888105e-01,\n",
              "        1.93600819e-01, -3.16500366e-01,  1.85725093e-01, -3.63705099e-01],\n",
              "      dtype=float32)"
            ]
          },
          "metadata": {},
          "execution_count": 37
        }
      ]
    },
    {
      "cell_type": "code",
      "source": [],
      "metadata": {
        "id": "UQsehHhJKRv0"
      },
      "execution_count": null,
      "outputs": []
    }
  ]
}