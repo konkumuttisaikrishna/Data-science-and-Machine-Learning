{
  "nbformat": 4,
  "nbformat_minor": 0,
  "metadata": {
    "colab": {
      "provenance": []
    },
    "kernelspec": {
      "name": "python3",
      "display_name": "Python 3"
    },
    "language_info": {
      "name": "python"
    }
  },
  "cells": [
    {
      "cell_type": "markdown",
      "source": [
        "## Importing Necessary Libaries"
      ],
      "metadata": {
        "id": "CwQZ46ko3wL2"
      }
    },
    {
      "cell_type": "code",
      "execution_count": null,
      "metadata": {
        "id": "g14cOs7FvI_F"
      },
      "outputs": [],
      "source": [
        "# Import 'numpy' and 'pandas' to work with numbers and dataframes\n",
        "import numpy as np\n",
        "import pandas as pd\n",
        "\n",
        "# Import 'pyplot' from 'matplotlib' and 'seaborn' for visualizations\n",
        "from matplotlib import pyplot as plt\n",
        "import seaborn as sns\n",
        "\n",
        "from tensorflow.keras.layers import Input, Lambda, Dense, Flatten\n",
        "from tensorflow.keras.models import Model\n",
        "from tensorflow.keras.applications.vgg16 import VGG16\n",
        "from tensorflow.keras.applications.vgg19 import VGG19\n",
        "from tensorflow.keras.preprocessing import image\n",
        "from tensorflow.keras.preprocessing.image import ImageDataGenerator,load_img\n",
        "from tensorflow.keras.models import Sequential\n",
        "import numpy as np\n",
        "from glob import glob\n",
        "\n",
        "# Import method to suppress warnings\n",
        "import warnings\n",
        "warnings.filterwarnings('ignore')\n",
        "\n",
        "import os\n",
        "from PIL import Image"
      ]
    },
    {
      "cell_type": "markdown",
      "source": [
        "## Loading the data"
      ],
      "metadata": {
        "id": "W22krreI32gp"
      }
    },
    {
      "cell_type": "code",
      "source": [
        "#  write the  code for mounting your Google Drive\n",
        "from google.colab import drive\n",
        "\n",
        "drive.mount('/content/gdrive/', force_remount=True)"
      ],
      "metadata": {
        "colab": {
          "base_uri": "https://localhost:8080/"
        },
        "id": "NSbD7UrJv6B_",
        "outputId": "776721e5-a851-4ee5-bd84-90defa604c5a"
      },
      "execution_count": null,
      "outputs": [
        {
          "output_type": "stream",
          "name": "stdout",
          "text": [
            "Mounted at /content/gdrive/\n"
          ]
        }
      ]
    },
    {
      "cell_type": "code",
      "source": [
        "#write the code for unzipping the data and storing it in Google Drive\n",
        "!unzip /content/weatherdata.zip"
      ],
      "metadata": {
        "colab": {
          "base_uri": "https://localhost:8080/"
        },
        "id": "FIDFwv-2wO68",
        "outputId": "c329de53-a0e2-4873-bc1a-3aac94606080"
      },
      "execution_count": null,
      "outputs": [
        {
          "output_type": "stream",
          "name": "stdout",
          "text": [
            "Archive:  /content/weatherdata.zip\n",
            "   creating: weather/test/\n",
            "   creating: weather/test/cloudy/\n",
            "  inflating: weather/test/cloudy/cloudy1.jpg  \n",
            "  inflating: weather/test/cloudy/cloudy103.jpg  \n",
            "  inflating: weather/test/cloudy/cloudy107.jpg  \n",
            "  inflating: weather/test/cloudy/cloudy112.jpg  \n",
            "  inflating: weather/test/cloudy/cloudy158.jpg  \n",
            "  inflating: weather/test/cloudy/cloudy178.jpg  \n",
            "  inflating: weather/test/cloudy/cloudy185.jpg  \n",
            "  inflating: weather/test/cloudy/cloudy202.jpg  \n",
            "  inflating: weather/test/cloudy/cloudy22.jpg  \n",
            "  inflating: weather/test/cloudy/cloudy257.jpg  \n",
            "  inflating: weather/test/cloudy/cloudy267.jpg  \n",
            "  inflating: weather/test/cloudy/cloudy275.jpg  \n",
            "  inflating: weather/test/cloudy/cloudy283.jpg  \n",
            "  inflating: weather/test/cloudy/cloudy40.jpg  \n",
            "  inflating: weather/test/cloudy/cloudy58.jpg  \n",
            "   creating: weather/test/rainy/\n",
            "  inflating: weather/test/rainy/rain1.jpg  \n",
            "  inflating: weather/test/rainy/rain140.jpg  \n",
            "  inflating: weather/test/rainy/rain158.jpg  \n",
            "  inflating: weather/test/rainy/rain175.jpg  \n",
            "  inflating: weather/test/rainy/rain184.jpg  \n",
            "  inflating: weather/test/rainy/rain189.jpg  \n",
            "  inflating: weather/test/rainy/rain209.jpg  \n",
            "  inflating: weather/test/rainy/rain213.jpg  \n",
            "  inflating: weather/test/rainy/rain215.jpg  \n",
            "  inflating: weather/test/rainy/rain32.jpg  \n",
            "  inflating: weather/test/rainy/rain36.jpg  \n",
            "  inflating: weather/test/rainy/rain41.jpg  \n",
            "  inflating: weather/test/rainy/rain52.jpg  \n",
            "  inflating: weather/test/rainy/rain63.jpg  \n",
            "  inflating: weather/test/rainy/rain72.jpg  \n",
            "   creating: weather/test/sunny/\n",
            "  inflating: weather/test/sunny/shine106.jpg  \n",
            "  inflating: weather/test/sunny/shine158.jpg  \n",
            "  inflating: weather/test/sunny/shine16.jpg  \n",
            "  inflating: weather/test/sunny/shine162.jpg  \n",
            "  inflating: weather/test/sunny/shine167.jpg  \n",
            "  inflating: weather/test/sunny/shine170.jpg  \n",
            "  inflating: weather/test/sunny/shine188.jpg  \n",
            "  inflating: weather/test/sunny/shine207.jpg  \n",
            "  inflating: weather/test/sunny/shine212.jpg  \n",
            "  inflating: weather/test/sunny/shine22.jpg  \n",
            "  inflating: weather/test/sunny/shine244.jpg  \n",
            "  inflating: weather/test/sunny/shine64.jpg  \n",
            "  inflating: weather/test/sunny/shine79.jpg  \n",
            "  inflating: weather/test/sunny/shine82.jpg  \n",
            "  inflating: weather/test/sunny/shine87.jpg  \n",
            "   creating: weather/train/\n",
            "   creating: weather/train/cloudy/\n",
            "  inflating: weather/train/cloudy/cloudy10.jpg  \n",
            "  inflating: weather/train/cloudy/cloudy100.jpg  \n",
            "  inflating: weather/train/cloudy/cloudy101.jpg  \n",
            "  inflating: weather/train/cloudy/cloudy102.jpg  \n",
            "  inflating: weather/train/cloudy/cloudy104.jpg  \n",
            "  inflating: weather/train/cloudy/cloudy105.jpg  \n",
            "  inflating: weather/train/cloudy/cloudy106.jpg  \n",
            "  inflating: weather/train/cloudy/cloudy108.jpg  \n",
            "  inflating: weather/train/cloudy/cloudy109.jpg  \n",
            "  inflating: weather/train/cloudy/cloudy11.jpg  \n",
            "  inflating: weather/train/cloudy/cloudy110.jpg  \n",
            "  inflating: weather/train/cloudy/cloudy111.jpg  \n",
            "  inflating: weather/train/cloudy/cloudy113.jpg  \n",
            "  inflating: weather/train/cloudy/cloudy114.jpg  \n",
            "  inflating: weather/train/cloudy/cloudy115.jpg  \n",
            "  inflating: weather/train/cloudy/cloudy116.jpg  \n",
            "  inflating: weather/train/cloudy/cloudy117.jpg  \n",
            "  inflating: weather/train/cloudy/cloudy118.jpg  \n",
            "  inflating: weather/train/cloudy/cloudy119.jpg  \n",
            "  inflating: weather/train/cloudy/cloudy12.jpg  \n",
            "  inflating: weather/train/cloudy/cloudy120.jpg  \n",
            "  inflating: weather/train/cloudy/cloudy121.jpg  \n",
            "  inflating: weather/train/cloudy/cloudy122.jpg  \n",
            "  inflating: weather/train/cloudy/cloudy123.jpg  \n",
            "  inflating: weather/train/cloudy/cloudy124.jpg  \n",
            "  inflating: weather/train/cloudy/cloudy125.jpg  \n",
            "  inflating: weather/train/cloudy/cloudy126.jpg  \n",
            "  inflating: weather/train/cloudy/cloudy127.jpg  \n",
            "  inflating: weather/train/cloudy/cloudy128.jpg  \n",
            "  inflating: weather/train/cloudy/cloudy129.jpg  \n",
            "  inflating: weather/train/cloudy/cloudy13.jpg  \n",
            "  inflating: weather/train/cloudy/cloudy130.jpg  \n",
            "  inflating: weather/train/cloudy/cloudy131.jpg  \n",
            "  inflating: weather/train/cloudy/cloudy132.jpg  \n",
            "  inflating: weather/train/cloudy/cloudy133.jpg  \n",
            "  inflating: weather/train/cloudy/cloudy134.jpg  \n",
            "  inflating: weather/train/cloudy/cloudy135.jpg  \n",
            "  inflating: weather/train/cloudy/cloudy136.jpg  \n",
            "  inflating: weather/train/cloudy/cloudy137.jpg  \n",
            "  inflating: weather/train/cloudy/cloudy138.jpg  \n",
            "  inflating: weather/train/cloudy/cloudy139.jpg  \n",
            "  inflating: weather/train/cloudy/cloudy14.jpg  \n",
            "  inflating: weather/train/cloudy/cloudy140.jpg  \n",
            "  inflating: weather/train/cloudy/cloudy141.jpg  \n",
            "  inflating: weather/train/cloudy/cloudy142.jpg  \n",
            "  inflating: weather/train/cloudy/cloudy143.jpg  \n",
            "  inflating: weather/train/cloudy/cloudy144.jpg  \n",
            "  inflating: weather/train/cloudy/cloudy145.jpg  \n",
            "  inflating: weather/train/cloudy/cloudy146.jpg  \n",
            "  inflating: weather/train/cloudy/cloudy147.jpg  \n",
            "  inflating: weather/train/cloudy/cloudy148.jpg  \n",
            "  inflating: weather/train/cloudy/cloudy149.jpg  \n",
            "  inflating: weather/train/cloudy/cloudy15.jpg  \n",
            "  inflating: weather/train/cloudy/cloudy150.jpg  \n",
            "  inflating: weather/train/cloudy/cloudy151.jpg  \n",
            "  inflating: weather/train/cloudy/cloudy152.jpg  \n",
            "  inflating: weather/train/cloudy/cloudy153.jpg  \n",
            "  inflating: weather/train/cloudy/cloudy154.jpg  \n",
            "  inflating: weather/train/cloudy/cloudy155.jpg  \n",
            "  inflating: weather/train/cloudy/cloudy156.jpg  \n",
            "  inflating: weather/train/cloudy/cloudy157.jpg  \n",
            "  inflating: weather/train/cloudy/cloudy159.jpg  \n",
            "  inflating: weather/train/cloudy/cloudy16.jpg  \n",
            "  inflating: weather/train/cloudy/cloudy160.jpg  \n",
            "  inflating: weather/train/cloudy/cloudy161.jpg  \n",
            "  inflating: weather/train/cloudy/cloudy162.jpg  \n",
            "  inflating: weather/train/cloudy/cloudy163.jpg  \n",
            "  inflating: weather/train/cloudy/cloudy164.jpg  \n",
            "  inflating: weather/train/cloudy/cloudy165.jpg  \n",
            "  inflating: weather/train/cloudy/cloudy166.jpg  \n",
            "  inflating: weather/train/cloudy/cloudy167.jpg  \n",
            "  inflating: weather/train/cloudy/cloudy168.jpg  \n",
            "  inflating: weather/train/cloudy/cloudy169.jpg  \n",
            "  inflating: weather/train/cloudy/cloudy17.jpg  \n",
            "  inflating: weather/train/cloudy/cloudy170.jpg  \n",
            "  inflating: weather/train/cloudy/cloudy171.jpg  \n",
            "  inflating: weather/train/cloudy/cloudy172.jpg  \n",
            "  inflating: weather/train/cloudy/cloudy173.jpg  \n",
            "  inflating: weather/train/cloudy/cloudy174.jpg  \n",
            "  inflating: weather/train/cloudy/cloudy175.jpg  \n",
            "  inflating: weather/train/cloudy/cloudy176.jpg  \n",
            "  inflating: weather/train/cloudy/cloudy177.jpg  \n",
            "  inflating: weather/train/cloudy/cloudy179.jpg  \n",
            "  inflating: weather/train/cloudy/cloudy18.jpg  \n",
            "  inflating: weather/train/cloudy/cloudy180.jpg  \n",
            "  inflating: weather/train/cloudy/cloudy181.jpg  \n",
            "  inflating: weather/train/cloudy/cloudy182.jpg  \n",
            "  inflating: weather/train/cloudy/cloudy183.jpg  \n",
            "  inflating: weather/train/cloudy/cloudy184.jpg  \n",
            "  inflating: weather/train/cloudy/cloudy186.jpg  \n",
            "  inflating: weather/train/cloudy/cloudy187.jpg  \n",
            "  inflating: weather/train/cloudy/cloudy188.jpg  \n",
            "  inflating: weather/train/cloudy/cloudy189.jpg  \n",
            "  inflating: weather/train/cloudy/cloudy19.jpg  \n",
            "  inflating: weather/train/cloudy/cloudy190.jpg  \n",
            "  inflating: weather/train/cloudy/cloudy191.jpg  \n",
            "  inflating: weather/train/cloudy/cloudy192.jpg  \n",
            "  inflating: weather/train/cloudy/cloudy193.jpg  \n",
            "  inflating: weather/train/cloudy/cloudy194.jpg  \n",
            "  inflating: weather/train/cloudy/cloudy195.jpg  \n",
            "  inflating: weather/train/cloudy/cloudy196.jpg  \n",
            "  inflating: weather/train/cloudy/cloudy197.jpg  \n",
            "  inflating: weather/train/cloudy/cloudy198.jpg  \n",
            "  inflating: weather/train/cloudy/cloudy199.jpg  \n",
            "  inflating: weather/train/cloudy/cloudy2.jpg  \n",
            "  inflating: weather/train/cloudy/cloudy20.jpg  \n",
            "  inflating: weather/train/cloudy/cloudy200.jpg  \n",
            "  inflating: weather/train/cloudy/cloudy201.jpg  \n",
            "  inflating: weather/train/cloudy/cloudy203.jpg  \n",
            "  inflating: weather/train/cloudy/cloudy204.jpg  \n",
            "  inflating: weather/train/cloudy/cloudy205.jpg  \n",
            "  inflating: weather/train/cloudy/cloudy206.jpg  \n",
            "  inflating: weather/train/cloudy/cloudy207.jpg  \n",
            "  inflating: weather/train/cloudy/cloudy208.jpg  \n",
            "  inflating: weather/train/cloudy/cloudy209.jpg  \n",
            "  inflating: weather/train/cloudy/cloudy21.jpg  \n",
            "  inflating: weather/train/cloudy/cloudy210.jpg  \n",
            "  inflating: weather/train/cloudy/cloudy211.jpg  \n",
            "  inflating: weather/train/cloudy/cloudy212.jpg  \n",
            "  inflating: weather/train/cloudy/cloudy213.jpg  \n",
            "  inflating: weather/train/cloudy/cloudy214.jpg  \n",
            "  inflating: weather/train/cloudy/cloudy215.jpg  \n",
            "  inflating: weather/train/cloudy/cloudy216.jpg  \n",
            "  inflating: weather/train/cloudy/cloudy217.jpg  \n",
            "  inflating: weather/train/cloudy/cloudy218.jpg  \n",
            "  inflating: weather/train/cloudy/cloudy219.jpg  \n",
            "  inflating: weather/train/cloudy/cloudy220.jpg  \n",
            "  inflating: weather/train/cloudy/cloudy221.jpg  \n",
            "  inflating: weather/train/cloudy/cloudy222.jpg  \n",
            "  inflating: weather/train/cloudy/cloudy223.jpg  \n",
            "  inflating: weather/train/cloudy/cloudy224.jpg  \n",
            "  inflating: weather/train/cloudy/cloudy225.jpg  \n",
            "  inflating: weather/train/cloudy/cloudy226.jpg  \n",
            "  inflating: weather/train/cloudy/cloudy227.jpg  \n",
            "  inflating: weather/train/cloudy/cloudy228.jpg  \n",
            "  inflating: weather/train/cloudy/cloudy229.jpg  \n",
            "  inflating: weather/train/cloudy/cloudy23.jpg  \n",
            "  inflating: weather/train/cloudy/cloudy230.jpg  \n",
            "  inflating: weather/train/cloudy/cloudy231.jpg  \n",
            "  inflating: weather/train/cloudy/cloudy232.jpg  \n",
            "  inflating: weather/train/cloudy/cloudy233.jpg  \n",
            "  inflating: weather/train/cloudy/cloudy234.jpg  \n",
            "  inflating: weather/train/cloudy/cloudy235.jpg  \n",
            "  inflating: weather/train/cloudy/cloudy236.jpg  \n",
            "  inflating: weather/train/cloudy/cloudy237.jpg  \n",
            "  inflating: weather/train/cloudy/cloudy238.jpg  \n",
            "  inflating: weather/train/cloudy/cloudy239.jpg  \n",
            "  inflating: weather/train/cloudy/cloudy24.jpg  \n",
            "  inflating: weather/train/cloudy/cloudy240.jpg  \n",
            "  inflating: weather/train/cloudy/cloudy241.jpg  \n",
            "  inflating: weather/train/cloudy/cloudy242.jpg  \n",
            "  inflating: weather/train/cloudy/cloudy243.jpg  \n",
            "  inflating: weather/train/cloudy/cloudy244.jpg  \n",
            "  inflating: weather/train/cloudy/cloudy245.jpg  \n",
            "  inflating: weather/train/cloudy/cloudy246.jpg  \n",
            "  inflating: weather/train/cloudy/cloudy247.jpg  \n",
            "  inflating: weather/train/cloudy/cloudy248.jpg  \n",
            "  inflating: weather/train/cloudy/cloudy249.jpg  \n",
            "  inflating: weather/train/cloudy/cloudy25.jpg  \n",
            "  inflating: weather/train/cloudy/cloudy250.jpg  \n",
            "  inflating: weather/train/cloudy/cloudy251.jpg  \n",
            "  inflating: weather/train/cloudy/cloudy252.jpg  \n",
            "  inflating: weather/train/cloudy/cloudy253.jpg  \n",
            "  inflating: weather/train/cloudy/cloudy254.jpg  \n",
            "  inflating: weather/train/cloudy/cloudy255.jpg  \n",
            "  inflating: weather/train/cloudy/cloudy256.jpg  \n",
            "  inflating: weather/train/cloudy/cloudy258.jpg  \n",
            "  inflating: weather/train/cloudy/cloudy259.jpg  \n",
            "  inflating: weather/train/cloudy/cloudy26.jpg  \n",
            "  inflating: weather/train/cloudy/cloudy260.jpg  \n",
            "  inflating: weather/train/cloudy/cloudy261.jpg  \n",
            "  inflating: weather/train/cloudy/cloudy262.jpg  \n",
            "  inflating: weather/train/cloudy/cloudy263.jpg  \n",
            "  inflating: weather/train/cloudy/cloudy264.jpg  \n",
            "  inflating: weather/train/cloudy/cloudy265.jpg  \n",
            "  inflating: weather/train/cloudy/cloudy266.jpg  \n",
            "  inflating: weather/train/cloudy/cloudy268.jpg  \n",
            "  inflating: weather/train/cloudy/cloudy269.jpg  \n",
            "  inflating: weather/train/cloudy/cloudy27.jpg  \n",
            "  inflating: weather/train/cloudy/cloudy270.jpg  \n",
            "  inflating: weather/train/cloudy/cloudy271.jpg  \n",
            "  inflating: weather/train/cloudy/cloudy272.jpg  \n",
            "  inflating: weather/train/cloudy/cloudy273.jpg  \n",
            "  inflating: weather/train/cloudy/cloudy274.jpg  \n",
            "  inflating: weather/train/cloudy/cloudy276.jpg  \n",
            "  inflating: weather/train/cloudy/cloudy277.jpg  \n",
            "  inflating: weather/train/cloudy/cloudy278.jpg  \n",
            "  inflating: weather/train/cloudy/cloudy279.jpg  \n",
            "  inflating: weather/train/cloudy/cloudy28.jpg  \n",
            "  inflating: weather/train/cloudy/cloudy280.jpg  \n",
            "  inflating: weather/train/cloudy/cloudy281.jpg  \n",
            "  inflating: weather/train/cloudy/cloudy282.jpg  \n",
            "  inflating: weather/train/cloudy/cloudy284.jpg  \n",
            "  inflating: weather/train/cloudy/cloudy285.jpg  \n",
            "  inflating: weather/train/cloudy/cloudy286.jpg  \n",
            "  inflating: weather/train/cloudy/cloudy287.jpg  \n",
            "  inflating: weather/train/cloudy/cloudy288.jpg  \n",
            "  inflating: weather/train/cloudy/cloudy289.jpg  \n",
            "  inflating: weather/train/cloudy/cloudy29.jpg  \n",
            "  inflating: weather/train/cloudy/cloudy290.jpg  \n",
            "  inflating: weather/train/cloudy/cloudy291.jpg  \n",
            "  inflating: weather/train/cloudy/cloudy292.jpg  \n",
            "  inflating: weather/train/cloudy/cloudy293.jpg  \n",
            "  inflating: weather/train/cloudy/cloudy294.jpg  \n",
            "  inflating: weather/train/cloudy/cloudy295.jpg  \n",
            "  inflating: weather/train/cloudy/cloudy296.jpg  \n",
            "  inflating: weather/train/cloudy/cloudy297.jpg  \n",
            "  inflating: weather/train/cloudy/cloudy298.jpg  \n",
            "  inflating: weather/train/cloudy/cloudy299.jpg  \n",
            "  inflating: weather/train/cloudy/cloudy3.jpg  \n",
            "  inflating: weather/train/cloudy/cloudy30.jpg  \n",
            "  inflating: weather/train/cloudy/cloudy300.jpg  \n",
            "  inflating: weather/train/cloudy/cloudy31.jpg  \n",
            "  inflating: weather/train/cloudy/cloudy32.jpg  \n",
            "  inflating: weather/train/cloudy/cloudy33.jpg  \n",
            "  inflating: weather/train/cloudy/cloudy34.jpg  \n",
            "  inflating: weather/train/cloudy/cloudy35.jpg  \n",
            "  inflating: weather/train/cloudy/cloudy36.jpg  \n",
            "  inflating: weather/train/cloudy/cloudy37.jpg  \n",
            "  inflating: weather/train/cloudy/cloudy38.jpg  \n",
            "  inflating: weather/train/cloudy/cloudy39.jpg  \n",
            "  inflating: weather/train/cloudy/cloudy4.jpg  \n",
            "  inflating: weather/train/cloudy/cloudy41.jpg  \n",
            "  inflating: weather/train/cloudy/cloudy42.jpg  \n",
            "  inflating: weather/train/cloudy/cloudy43.jpg  \n",
            "  inflating: weather/train/cloudy/cloudy44.jpg  \n",
            "  inflating: weather/train/cloudy/cloudy45.jpg  \n",
            "  inflating: weather/train/cloudy/cloudy46.jpg  \n",
            "  inflating: weather/train/cloudy/cloudy47.jpg  \n",
            "  inflating: weather/train/cloudy/cloudy48.jpg  \n",
            "  inflating: weather/train/cloudy/cloudy49.jpg  \n",
            "  inflating: weather/train/cloudy/cloudy5.jpg  \n",
            "  inflating: weather/train/cloudy/cloudy50.jpg  \n",
            "  inflating: weather/train/cloudy/cloudy51.jpg  \n",
            "  inflating: weather/train/cloudy/cloudy52.jpg  \n",
            "  inflating: weather/train/cloudy/cloudy53.jpg  \n",
            "  inflating: weather/train/cloudy/cloudy54.jpg  \n",
            "  inflating: weather/train/cloudy/cloudy55.jpg  \n",
            "  inflating: weather/train/cloudy/cloudy56.jpg  \n",
            "  inflating: weather/train/cloudy/cloudy57.jpg  \n",
            "  inflating: weather/train/cloudy/cloudy59.jpg  \n",
            "  inflating: weather/train/cloudy/cloudy6.jpg  \n",
            "  inflating: weather/train/cloudy/cloudy60.jpg  \n",
            "  inflating: weather/train/cloudy/cloudy61.jpg  \n",
            "  inflating: weather/train/cloudy/cloudy62.jpg  \n",
            "  inflating: weather/train/cloudy/cloudy63.jpg  \n",
            "  inflating: weather/train/cloudy/cloudy64.jpg  \n",
            "  inflating: weather/train/cloudy/cloudy65.jpg  \n",
            "  inflating: weather/train/cloudy/cloudy66.jpg  \n",
            "  inflating: weather/train/cloudy/cloudy67.jpg  \n",
            "  inflating: weather/train/cloudy/cloudy68.jpg  \n",
            "  inflating: weather/train/cloudy/cloudy69.jpg  \n",
            "  inflating: weather/train/cloudy/cloudy7.jpg  \n",
            "  inflating: weather/train/cloudy/cloudy70.jpg  \n",
            "  inflating: weather/train/cloudy/cloudy71.jpg  \n",
            "  inflating: weather/train/cloudy/cloudy72.jpg  \n",
            "  inflating: weather/train/cloudy/cloudy73.jpg  \n",
            "  inflating: weather/train/cloudy/cloudy74.jpg  \n",
            "  inflating: weather/train/cloudy/cloudy75.jpg  \n",
            "  inflating: weather/train/cloudy/cloudy76.jpg  \n",
            "  inflating: weather/train/cloudy/cloudy77.jpg  \n",
            "  inflating: weather/train/cloudy/cloudy78.jpg  \n",
            "  inflating: weather/train/cloudy/cloudy79.jpg  \n",
            "  inflating: weather/train/cloudy/cloudy8.jpg  \n",
            "  inflating: weather/train/cloudy/cloudy80.jpg  \n",
            "  inflating: weather/train/cloudy/cloudy81.jpg  \n",
            "  inflating: weather/train/cloudy/cloudy82.jpg  \n",
            "  inflating: weather/train/cloudy/cloudy83.jpg  \n",
            "  inflating: weather/train/cloudy/cloudy84.jpg  \n",
            "  inflating: weather/train/cloudy/cloudy85.jpg  \n",
            "  inflating: weather/train/cloudy/cloudy86.jpg  \n",
            "  inflating: weather/train/cloudy/cloudy87.jpg  \n",
            "  inflating: weather/train/cloudy/cloudy88.jpg  \n",
            "  inflating: weather/train/cloudy/cloudy89.jpg  \n",
            "  inflating: weather/train/cloudy/cloudy9.jpg  \n",
            "  inflating: weather/train/cloudy/cloudy90.jpg  \n",
            "  inflating: weather/train/cloudy/cloudy91.jpg  \n",
            "  inflating: weather/train/cloudy/cloudy92.jpg  \n",
            "  inflating: weather/train/cloudy/cloudy93.jpg  \n",
            "  inflating: weather/train/cloudy/cloudy94.jpg  \n",
            "  inflating: weather/train/cloudy/cloudy95.jpg  \n",
            "  inflating: weather/train/cloudy/cloudy96.jpg  \n",
            "  inflating: weather/train/cloudy/cloudy97.jpg  \n",
            "  inflating: weather/train/cloudy/cloudy98.jpg  \n",
            "  inflating: weather/train/cloudy/cloudy99.jpg  \n",
            "   creating: weather/train/rainy/\n",
            "  inflating: weather/train/rainy/rain100.jpg  \n",
            "  inflating: weather/train/rainy/rain13.jpg  \n",
            "  inflating: weather/train/rainy/rain2.jpg  \n",
            "  inflating: weather/train/rainy/rain24.jpeg  \n",
            "  inflating: weather/train/rainy/rain25.jpg  \n",
            "  inflating: weather/train/rainy/rain26.jpg  \n",
            "  inflating: weather/train/rainy/rain27.jpg  \n",
            "  inflating: weather/train/rainy/rain28.jpg  \n",
            "  inflating: weather/train/rainy/rain29.jpg  \n",
            "  inflating: weather/train/rainy/rain3.jpg  \n",
            "  inflating: weather/train/rainy/rain30.jpg  \n",
            "  inflating: weather/train/rainy/rain31.jpg  \n",
            "  inflating: weather/train/rainy/rain33.jpg  \n",
            "  inflating: weather/train/rainy/rain34.jpg  \n",
            "  inflating: weather/train/rainy/rain35.jpg  \n",
            "  inflating: weather/train/rainy/rain37.jpg  \n",
            "  inflating: weather/train/rainy/rain38.jpg  \n",
            "  inflating: weather/train/rainy/rain39.jpg  \n",
            "  inflating: weather/train/rainy/rain4.jpg  \n",
            "  inflating: weather/train/rainy/rain40.jpg  \n",
            "  inflating: weather/train/rainy/rain42.jpg  \n",
            "  inflating: weather/train/rainy/rain46.jpg  \n",
            "  inflating: weather/train/rainy/rain47.jpg  \n",
            "  inflating: weather/train/rainy/rain48.jpg  \n",
            "  inflating: weather/train/rainy/rain49.jpg  \n",
            "  inflating: weather/train/rainy/rain5.jpg  \n",
            "  inflating: weather/train/rainy/rain50.jpg  \n",
            "  inflating: weather/train/rainy/rain53.jpg  \n",
            "  inflating: weather/train/rainy/rain56.jpg  \n",
            "  inflating: weather/train/rainy/rain57.jpg  \n",
            "  inflating: weather/train/rainy/rain58.jpg  \n",
            "  inflating: weather/train/rainy/rain59.jpg  \n",
            "  inflating: weather/train/rainy/rain6.jpg  \n",
            "  inflating: weather/train/rainy/rain60.jpg  \n",
            "  inflating: weather/train/rainy/rain61.jpg  \n",
            "  inflating: weather/train/rainy/rain62.jpg  \n",
            "  inflating: weather/train/rainy/rain64.jpg  \n",
            "  inflating: weather/train/rainy/rain65.jpg  \n",
            "  inflating: weather/train/rainy/rain66.jpg  \n",
            "  inflating: weather/train/rainy/rain67.jpg  \n",
            "  inflating: weather/train/rainy/rain68.jpg  \n",
            "  inflating: weather/train/rainy/rain69.jpg  \n",
            "  inflating: weather/train/rainy/rain7.jpg  \n",
            "  inflating: weather/train/rainy/rain70.jpg  \n",
            "  inflating: weather/train/rainy/rain71.jpg  \n",
            "  inflating: weather/train/rainy/rain73.jpg  \n",
            "  inflating: weather/train/rainy/rain74.jpg  \n",
            "  inflating: weather/train/rainy/rain75.jpg  \n",
            "  inflating: weather/train/rainy/rain76.jpg  \n",
            "  inflating: weather/train/rainy/rain77.jpg  \n",
            "  inflating: weather/train/rainy/rain79.jpg  \n",
            "  inflating: weather/train/rainy/rain81.jpg  \n",
            "  inflating: weather/train/rainy/rain82.jpg  \n",
            "  inflating: weather/train/rainy/rain83.jpg  \n",
            "  inflating: weather/train/rainy/rain84.jpg  \n",
            "  inflating: weather/train/rainy/rain85.jpg  \n",
            "  inflating: weather/train/rainy/rain86.jpg  \n",
            "  inflating: weather/train/rainy/rain87.jpg  \n",
            "  inflating: weather/train/rainy/rain88.jpg  \n",
            "  inflating: weather/train/rainy/rain89.jpg  \n",
            "  inflating: weather/train/rainy/rain90.jpg  \n",
            "  inflating: weather/train/rainy/rain91.jpg  \n",
            "  inflating: weather/train/rainy/rain92.jpg  \n",
            "  inflating: weather/train/rainy/rain93.jpg  \n",
            "  inflating: weather/train/rainy/rain94.jpg  \n",
            "  inflating: weather/train/rainy/rain95.jpg  \n",
            "  inflating: weather/train/rainy/rain96.jpg  \n",
            "  inflating: weather/train/rainy/rain97.jpg  \n",
            "  inflating: weather/train/rainy/rain98.jpg  \n",
            "  inflating: weather/train/rainy/rain99.jpg  \n",
            "   creating: weather/train/sunny/\n",
            "  inflating: weather/train/sunny/shine100.jpg  \n",
            "  inflating: weather/train/sunny/shine101.jpg  \n",
            "  inflating: weather/train/sunny/shine102.jpg  \n",
            "  inflating: weather/train/sunny/shine103.jpg  \n",
            "  inflating: weather/train/sunny/shine104.jpg  \n",
            "  inflating: weather/train/sunny/shine105.jpg  \n",
            "  inflating: weather/train/sunny/shine107.jpg  \n",
            "  inflating: weather/train/sunny/shine108.jpg  \n",
            "  inflating: weather/train/sunny/shine109.jpg  \n",
            "  inflating: weather/train/sunny/shine110.jpg  \n",
            "  inflating: weather/train/sunny/shine111.jpg  \n",
            "  inflating: weather/train/sunny/shine112.jpg  \n",
            "  inflating: weather/train/sunny/shine113.jpg  \n",
            "  inflating: weather/train/sunny/shine114.jpg  \n",
            "  inflating: weather/train/sunny/shine115.jpg  \n",
            "  inflating: weather/train/sunny/shine116.jpg  \n",
            "  inflating: weather/train/sunny/shine117.jpg  \n",
            "  inflating: weather/train/sunny/shine118.jpg  \n",
            "  inflating: weather/train/sunny/shine119.jpg  \n",
            "  inflating: weather/train/sunny/shine120.jpg  \n",
            "  inflating: weather/train/sunny/shine121.jpg  \n",
            "  inflating: weather/train/sunny/shine122.jpg  \n",
            "  inflating: weather/train/sunny/shine123.jpg  \n",
            "  inflating: weather/train/sunny/shine124.jpg  \n",
            "  inflating: weather/train/sunny/shine125.jpg  \n",
            "  inflating: weather/train/sunny/shine126.jpg  \n",
            "  inflating: weather/train/sunny/shine127.jpg  \n",
            "  inflating: weather/train/sunny/shine128.jpg  \n",
            "  inflating: weather/train/sunny/shine129.jpg  \n",
            "  inflating: weather/train/sunny/shine130.jpg  \n",
            "  inflating: weather/train/sunny/shine131.jpg  \n",
            "  inflating: weather/train/sunny/shine132.jpg  \n",
            "  inflating: weather/train/sunny/shine133.jpg  \n",
            "  inflating: weather/train/sunny/shine134.jpg  \n",
            "  inflating: weather/train/sunny/shine135.jpg  \n",
            "  inflating: weather/train/sunny/shine136.jpg  \n",
            "  inflating: weather/train/sunny/shine137.jpg  \n",
            "  inflating: weather/train/sunny/shine138.jpg  \n",
            "  inflating: weather/train/sunny/shine139.jpg  \n",
            "  inflating: weather/train/sunny/shine140.jpg  \n",
            "  inflating: weather/train/sunny/shine141.jpg  \n",
            "  inflating: weather/train/sunny/shine142.jpg  \n",
            "  inflating: weather/train/sunny/shine143.jpg  \n",
            "  inflating: weather/train/sunny/shine144.jpg  \n",
            "  inflating: weather/train/sunny/shine145.jpg  \n",
            "  inflating: weather/train/sunny/shine146.jpg  \n",
            "  inflating: weather/train/sunny/shine147.jpg  \n",
            "  inflating: weather/train/sunny/shine148.jpg  \n",
            "  inflating: weather/train/sunny/shine149.jpg  \n",
            "  inflating: weather/train/sunny/shine150.jpg  \n",
            "  inflating: weather/train/sunny/shine151.jpg  \n",
            "  inflating: weather/train/sunny/shine152.jpg  \n",
            "  inflating: weather/train/sunny/shine153.jpg  \n",
            "  inflating: weather/train/sunny/shine154.jpg  \n",
            "  inflating: weather/train/sunny/shine155.jpg  \n",
            "  inflating: weather/train/sunny/shine156.jpg  \n",
            "  inflating: weather/train/sunny/shine157.jpg  \n",
            "  inflating: weather/train/sunny/shine159.jpg  \n",
            "  inflating: weather/train/sunny/shine160.jpg  \n",
            "  inflating: weather/train/sunny/shine161.jpg  \n",
            "  inflating: weather/train/sunny/shine163.jpg  \n",
            "  inflating: weather/train/sunny/shine164.jpg  \n",
            "  inflating: weather/train/sunny/shine165.jpg  \n",
            "  inflating: weather/train/sunny/shine166.jpg  \n",
            "  inflating: weather/train/sunny/shine168.jpg  \n",
            "  inflating: weather/train/sunny/shine169.jpg  \n",
            "  inflating: weather/train/sunny/shine171.jpg  \n",
            "  inflating: weather/train/sunny/shine172.jpg  \n",
            "  inflating: weather/train/sunny/shine173.jpg  \n",
            "  inflating: weather/train/sunny/shine174.jpg  \n",
            "  inflating: weather/train/sunny/shine175.jpg  \n",
            "  inflating: weather/train/sunny/shine176.jpg  \n",
            "  inflating: weather/train/sunny/shine177.jpg  \n",
            "  inflating: weather/train/sunny/shine178.jpg  \n",
            "  inflating: weather/train/sunny/shine179.jpg  \n",
            "  inflating: weather/train/sunny/shine180.jpg  \n",
            "  inflating: weather/train/sunny/shine181.jpg  \n",
            "  inflating: weather/train/sunny/shine182.jpg  \n",
            "  inflating: weather/train/sunny/shine183.jpg  \n",
            "  inflating: weather/train/sunny/shine184.jpg  \n",
            "  inflating: weather/train/sunny/shine185.jpg  \n",
            "  inflating: weather/train/sunny/shine186.jpg  \n",
            "  inflating: weather/train/sunny/shine187.jpg  \n",
            "  inflating: weather/train/sunny/shine189.jpg  \n",
            "  inflating: weather/train/sunny/shine190.jpg  \n",
            "  inflating: weather/train/sunny/shine191.jpg  \n",
            "  inflating: weather/train/sunny/shine192.jpg  \n",
            "  inflating: weather/train/sunny/shine193.jpg  \n",
            "  inflating: weather/train/sunny/shine194.jpg  \n",
            "  inflating: weather/train/sunny/shine195.jpg  \n",
            "  inflating: weather/train/sunny/shine196.jpg  \n",
            "  inflating: weather/train/sunny/shine197.jpg  \n",
            "  inflating: weather/train/sunny/shine198.jpg  \n",
            "  inflating: weather/train/sunny/shine199.jpg  \n",
            "  inflating: weather/train/sunny/shine200.jpg  \n",
            "  inflating: weather/train/sunny/shine201.jpg  \n",
            "  inflating: weather/train/sunny/shine202.jpg  \n",
            "  inflating: weather/train/sunny/shine203.jpg  \n",
            "  inflating: weather/train/sunny/shine204.jpg  \n",
            "  inflating: weather/train/sunny/shine205.jpg  \n",
            "  inflating: weather/train/sunny/shine206.jpg  \n",
            "  inflating: weather/train/sunny/shine208.jpg  \n",
            "  inflating: weather/train/sunny/shine209.jpg  \n",
            "  inflating: weather/train/sunny/shine210.jpg  \n",
            "  inflating: weather/train/sunny/shine211.jpg  \n",
            "  inflating: weather/train/sunny/shine213.jpg  \n",
            "  inflating: weather/train/sunny/shine214.jpg  \n",
            "  inflating: weather/train/sunny/shine215.jpg  \n",
            "  inflating: weather/train/sunny/shine216.jpg  \n",
            "  inflating: weather/train/sunny/shine217.jpg  \n",
            "  inflating: weather/train/sunny/shine218.jpg  \n",
            "  inflating: weather/train/sunny/shine219.jpg  \n",
            "  inflating: weather/train/sunny/shine220.jpg  \n",
            "  inflating: weather/train/sunny/shine221.jpg  \n",
            "  inflating: weather/train/sunny/shine222.jpg  \n",
            "  inflating: weather/train/sunny/shine223.jpg  \n",
            "  inflating: weather/train/sunny/shine224.jpg  \n",
            "  inflating: weather/train/sunny/shine225.jpg  \n",
            "  inflating: weather/train/sunny/shine226.jpg  \n",
            "  inflating: weather/train/sunny/shine227.jpg  \n",
            "  inflating: weather/train/sunny/shine228.jpg  \n",
            "  inflating: weather/train/sunny/shine229.jpg  \n",
            "  inflating: weather/train/sunny/shine230.jpg  \n",
            "  inflating: weather/train/sunny/shine231.jpg  \n",
            "  inflating: weather/train/sunny/shine232.jpg  \n",
            "  inflating: weather/train/sunny/shine233.jpg  \n",
            "  inflating: weather/train/sunny/shine234.jpg  \n",
            "  inflating: weather/train/sunny/shine235.jpg  \n",
            "  inflating: weather/train/sunny/shine236.jpg  \n",
            "  inflating: weather/train/sunny/shine237.jpg  \n",
            "  inflating: weather/train/sunny/shine238.jpg  \n",
            "  inflating: weather/train/sunny/shine239.jpg  \n",
            "  inflating: weather/train/sunny/shine240.jpg  \n",
            "  inflating: weather/train/sunny/shine241.jpg  \n",
            "  inflating: weather/train/sunny/shine242.jpg  \n",
            "  inflating: weather/train/sunny/shine243.jpg  \n",
            "  inflating: weather/train/sunny/shine245.jpg  \n",
            "  inflating: weather/train/sunny/shine246.jpg  \n",
            "  inflating: weather/train/sunny/shine247.jpg  \n",
            "  inflating: weather/train/sunny/shine248.jpg  \n",
            "  inflating: weather/train/sunny/shine249.jpg  \n",
            "  inflating: weather/train/sunny/shine250.jpg  \n",
            "  inflating: weather/train/sunny/shine251.jpg  \n",
            "  inflating: weather/train/sunny/shine252.jpg  \n",
            "  inflating: weather/train/sunny/shine253.jpg  \n",
            "  inflating: weather/train/sunny/shine95.jpg  \n",
            "  inflating: weather/train/sunny/shine96.jpg  \n",
            "  inflating: weather/train/sunny/shine97.jpg  \n",
            "  inflating: weather/train/sunny/shine98.jpg  \n",
            "  inflating: weather/train/sunny/shine99.jpg  \n"
          ]
        }
      ]
    },
    {
      "cell_type": "code",
      "source": [
        "# re-size all the images to this\n",
        "IMAGE_SIZE = [224, 224]\n",
        "\n",
        "train_path = \"/content/weather/train\"\n",
        "valid_path = \"/content/weather/test\""
      ],
      "metadata": {
        "id": "BwRTOm-wzHVI"
      },
      "execution_count": null,
      "outputs": []
    },
    {
      "cell_type": "markdown",
      "source": [
        "## Importing VGG16 Pre-trained Model"
      ],
      "metadata": {
        "id": "zbsDhp9L387d"
      }
    },
    {
      "cell_type": "code",
      "source": [
        "# Import the VGG16 library as shown below and add preprocessing layer to the front of VGG\n",
        "# Here we will be using imagenet weights\n",
        "\n",
        "vgg16 = VGG16(input_shape=IMAGE_SIZE + [3], weights='imagenet', include_top=False)"
      ],
      "metadata": {
        "colab": {
          "base_uri": "https://localhost:8080/"
        },
        "id": "AB22ixAazqQB",
        "outputId": "6bfb99fa-ea57-43e7-b772-f5cc85fa7b2d"
      },
      "execution_count": null,
      "outputs": [
        {
          "output_type": "stream",
          "name": "stdout",
          "text": [
            "Downloading data from https://storage.googleapis.com/tensorflow/keras-applications/vgg16/vgg16_weights_tf_dim_ordering_tf_kernels_notop.h5\n",
            "58889256/58889256 [==============================] - 0s 0us/step\n"
          ]
        }
      ]
    },
    {
      "cell_type": "code",
      "source": [
        "# don't train existing weights\n",
        "for layer in vgg16.layers:\n",
        "    layer.trainable = False"
      ],
      "metadata": {
        "id": "3ZjYV8rXzzLm"
      },
      "execution_count": null,
      "outputs": []
    },
    {
      "cell_type": "code",
      "source": [
        " # useful for getting number of output classes\n",
        "folders = glob('/content/weather/train/*')"
      ],
      "metadata": {
        "id": "QlohwBcR0BmP"
      },
      "execution_count": null,
      "outputs": []
    },
    {
      "cell_type": "code",
      "source": [
        "folders"
      ],
      "metadata": {
        "colab": {
          "base_uri": "https://localhost:8080/"
        },
        "id": "PllzH7uU0Jy5",
        "outputId": "7faa9864-5bd4-48ad-c8c1-cdc9ef2b67ed"
      },
      "execution_count": null,
      "outputs": [
        {
          "output_type": "execute_result",
          "data": {
            "text/plain": [
              "['/content/weather/train/rainy',\n",
              " '/content/weather/train/cloudy',\n",
              " '/content/weather/train/sunny']"
            ]
          },
          "metadata": {},
          "execution_count": 8
        }
      ]
    },
    {
      "cell_type": "code",
      "source": [
        "# our layers - you can add more if you want\n",
        "x = Flatten()(vgg16.output)"
      ],
      "metadata": {
        "id": "QLO6nwYO0Mrt"
      },
      "execution_count": null,
      "outputs": []
    },
    {
      "cell_type": "code",
      "source": [
        "len(folders)"
      ],
      "metadata": {
        "colab": {
          "base_uri": "https://localhost:8080/"
        },
        "id": "uICRasZE0Wu-",
        "outputId": "345464f6-940a-4e05-e18b-c416b33e8721"
      },
      "execution_count": null,
      "outputs": [
        {
          "output_type": "execute_result",
          "data": {
            "text/plain": [
              "3"
            ]
          },
          "metadata": {},
          "execution_count": 10
        }
      ]
    },
    {
      "cell_type": "code",
      "source": [
        "prediction = Dense(len(folders), activation='softmax')(x)\n",
        "\n",
        "# create a model object\n",
        "model = Model(inputs=vgg16.input, outputs=prediction)"
      ],
      "metadata": {
        "id": "mFLJ5CyX0Z6a"
      },
      "execution_count": null,
      "outputs": []
    },
    {
      "cell_type": "code",
      "source": [
        "# view the structure of the model\n",
        "model.summary()"
      ],
      "metadata": {
        "id": "H5vUVnQx0f8J",
        "outputId": "dfd439f5-8864-4d90-f4e1-42883a81342c",
        "colab": {
          "base_uri": "https://localhost:8080/"
        }
      },
      "execution_count": null,
      "outputs": [
        {
          "output_type": "stream",
          "name": "stdout",
          "text": [
            "Model: \"model\"\n",
            "_________________________________________________________________\n",
            " Layer (type)                Output Shape              Param #   \n",
            "=================================================================\n",
            " input_1 (InputLayer)        [(None, 224, 224, 3)]     0         \n",
            "                                                                 \n",
            " block1_conv1 (Conv2D)       (None, 224, 224, 64)      1792      \n",
            "                                                                 \n",
            " block1_conv2 (Conv2D)       (None, 224, 224, 64)      36928     \n",
            "                                                                 \n",
            " block1_pool (MaxPooling2D)  (None, 112, 112, 64)      0         \n",
            "                                                                 \n",
            " block2_conv1 (Conv2D)       (None, 112, 112, 128)     73856     \n",
            "                                                                 \n",
            " block2_conv2 (Conv2D)       (None, 112, 112, 128)     147584    \n",
            "                                                                 \n",
            " block2_pool (MaxPooling2D)  (None, 56, 56, 128)       0         \n",
            "                                                                 \n",
            " block3_conv1 (Conv2D)       (None, 56, 56, 256)       295168    \n",
            "                                                                 \n",
            " block3_conv2 (Conv2D)       (None, 56, 56, 256)       590080    \n",
            "                                                                 \n",
            " block3_conv3 (Conv2D)       (None, 56, 56, 256)       590080    \n",
            "                                                                 \n",
            " block3_pool (MaxPooling2D)  (None, 28, 28, 256)       0         \n",
            "                                                                 \n",
            " block4_conv1 (Conv2D)       (None, 28, 28, 512)       1180160   \n",
            "                                                                 \n",
            " block4_conv2 (Conv2D)       (None, 28, 28, 512)       2359808   \n",
            "                                                                 \n",
            " block4_conv3 (Conv2D)       (None, 28, 28, 512)       2359808   \n",
            "                                                                 \n",
            " block4_pool (MaxPooling2D)  (None, 14, 14, 512)       0         \n",
            "                                                                 \n",
            " block5_conv1 (Conv2D)       (None, 14, 14, 512)       2359808   \n",
            "                                                                 \n",
            " block5_conv2 (Conv2D)       (None, 14, 14, 512)       2359808   \n",
            "                                                                 \n",
            " block5_conv3 (Conv2D)       (None, 14, 14, 512)       2359808   \n",
            "                                                                 \n",
            " block5_pool (MaxPooling2D)  (None, 7, 7, 512)         0         \n",
            "                                                                 \n",
            " flatten (Flatten)           (None, 25088)             0         \n",
            "                                                                 \n",
            " dense (Dense)               (None, 3)                 75267     \n",
            "                                                                 \n",
            "=================================================================\n",
            "Total params: 14789955 (56.42 MB)\n",
            "Trainable params: 75267 (294.01 KB)\n",
            "Non-trainable params: 14714688 (56.13 MB)\n",
            "_________________________________________________________________\n"
          ]
        }
      ]
    },
    {
      "cell_type": "code",
      "source": [
        "# tell the model what cost and optimization method to use\n",
        "model.compile(loss=\"categorical_crossentropy\",optimizer='adam',metrics=['accuracy'])"
      ],
      "metadata": {
        "id": "aHXiu0cp0jAQ"
      },
      "execution_count": null,
      "outputs": []
    },
    {
      "cell_type": "markdown",
      "source": [
        "## ImageDataGenerator"
      ],
      "metadata": {
        "id": "_zW03JKa4Jbv"
      }
    },
    {
      "cell_type": "code",
      "source": [
        "# Use the Image Data Generator to import the images from the dataset\n",
        "from tensorflow.keras.preprocessing.image import ImageDataGenerator\n",
        "\n",
        "train_datagen = ImageDataGenerator(rescale=1./255,shear_range=0.2,zoom_range=0.2,horizontal_flip=True)\n",
        "\n",
        "test_datagen = ImageDataGenerator(rescale=1./255)"
      ],
      "metadata": {
        "id": "KVrAzPLKUtiS"
      },
      "execution_count": null,
      "outputs": []
    },
    {
      "cell_type": "code",
      "source": [
        "# Make sure you provide the same target size as initialied for the image size\n",
        "training_set = train_datagen.flow_from_directory('/content/weather/train',\n",
        "                                                 target_size = (224, 224),\n",
        "                                                 batch_size = 32,\n",
        "                                                 class_mode = 'categorical')"
      ],
      "metadata": {
        "colab": {
          "base_uri": "https://localhost:8080/"
        },
        "id": "tdA5b3OuVFbw",
        "outputId": "b8eb35ec-6367-4310-8d13-5add61a78782"
      },
      "execution_count": null,
      "outputs": [
        {
          "output_type": "stream",
          "name": "stdout",
          "text": [
            "Found 505 images belonging to 3 classes.\n"
          ]
        }
      ]
    },
    {
      "cell_type": "code",
      "source": [
        "test_set = test_datagen.flow_from_directory('/content/weather/test',\n",
        "                                            target_size = (224, 224),\n",
        "                                            batch_size = 32,\n",
        "                                            class_mode = 'categorical')"
      ],
      "metadata": {
        "colab": {
          "base_uri": "https://localhost:8080/"
        },
        "id": "R8lOKh06VehQ",
        "outputId": "d531c335-1dc8-47b3-e8d7-d41bfdcb5ca6"
      },
      "execution_count": null,
      "outputs": [
        {
          "output_type": "stream",
          "name": "stdout",
          "text": [
            "Found 45 images belonging to 3 classes.\n"
          ]
        }
      ]
    },
    {
      "cell_type": "markdown",
      "source": [
        "## Training and validation Data"
      ],
      "metadata": {
        "id": "fXnCRQnj4P4h"
      }
    },
    {
      "cell_type": "code",
      "source": [
        "# fit the model\n",
        "# Run the cell. It will take some time to execute\n",
        "r = model.fit_generator(\n",
        "  training_set,\n",
        "  validation_data=test_set,\n",
        "  epochs=20,\n",
        "  steps_per_epoch=len(training_set),\n",
        "  validation_steps=len(test_set)\n",
        ")"
      ],
      "metadata": {
        "colab": {
          "base_uri": "https://localhost:8080/"
        },
        "id": "oIvuxA1BVmPF",
        "outputId": "be0bf759-01f3-4114-e380-555309cf8897"
      },
      "execution_count": null,
      "outputs": [
        {
          "output_type": "stream",
          "name": "stdout",
          "text": [
            "Epoch 1/20\n",
            "16/16 [==============================] - 368s 23s/step - loss: 0.9232 - accuracy: 0.6139 - val_loss: 0.7227 - val_accuracy: 0.7111\n",
            "Epoch 2/20\n",
            "16/16 [==============================] - 359s 22s/step - loss: 0.2954 - accuracy: 0.8950 - val_loss: 0.5652 - val_accuracy: 0.7556\n",
            "Epoch 3/20\n",
            "16/16 [==============================] - 374s 23s/step - loss: 0.1810 - accuracy: 0.9327 - val_loss: 0.4629 - val_accuracy: 0.7778\n",
            "Epoch 4/20\n",
            "16/16 [==============================] - 370s 23s/step - loss: 0.1375 - accuracy: 0.9604 - val_loss: 0.4763 - val_accuracy: 0.8000\n",
            "Epoch 5/20\n",
            "16/16 [==============================] - 386s 25s/step - loss: 0.1689 - accuracy: 0.9347 - val_loss: 0.5910 - val_accuracy: 0.7778\n",
            "Epoch 6/20\n",
            "16/16 [==============================] - 372s 23s/step - loss: 0.0897 - accuracy: 0.9703 - val_loss: 0.4799 - val_accuracy: 0.8222\n",
            "Epoch 7/20\n",
            "16/16 [==============================] - 370s 23s/step - loss: 0.0842 - accuracy: 0.9762 - val_loss: 0.4448 - val_accuracy: 0.8222\n",
            "Epoch 8/20\n",
            "16/16 [==============================] - 373s 23s/step - loss: 0.0760 - accuracy: 0.9822 - val_loss: 0.3675 - val_accuracy: 0.8222\n",
            "Epoch 9/20\n",
            "16/16 [==============================] - 371s 23s/step - loss: 0.0515 - accuracy: 0.9941 - val_loss: 0.4842 - val_accuracy: 0.8222\n",
            "Epoch 10/20\n",
            "16/16 [==============================] - 374s 23s/step - loss: 0.0534 - accuracy: 0.9921 - val_loss: 0.4229 - val_accuracy: 0.8222\n",
            "Epoch 11/20\n",
            "16/16 [==============================] - 361s 23s/step - loss: 0.0742 - accuracy: 0.9782 - val_loss: 0.4191 - val_accuracy: 0.8444\n",
            "Epoch 12/20\n",
            "16/16 [==============================] - 374s 24s/step - loss: 0.0598 - accuracy: 0.9881 - val_loss: 0.4133 - val_accuracy: 0.8444\n",
            "Epoch 13/20\n",
            "16/16 [==============================] - 373s 23s/step - loss: 0.0386 - accuracy: 0.9941 - val_loss: 0.4518 - val_accuracy: 0.8444\n",
            "Epoch 14/20\n",
            "16/16 [==============================] - 373s 23s/step - loss: 0.0339 - accuracy: 0.9960 - val_loss: 0.4019 - val_accuracy: 0.8444\n",
            "Epoch 15/20\n",
            "16/16 [==============================] - 370s 24s/step - loss: 0.0331 - accuracy: 0.9960 - val_loss: 0.4759 - val_accuracy: 0.8444\n",
            "Epoch 16/20\n",
            "16/16 [==============================] - 372s 23s/step - loss: 0.0300 - accuracy: 0.9960 - val_loss: 0.3943 - val_accuracy: 0.8444\n",
            "Epoch 17/20\n",
            "16/16 [==============================] - 370s 23s/step - loss: 0.0430 - accuracy: 0.9901 - val_loss: 0.4410 - val_accuracy: 0.8444\n",
            "Epoch 18/20\n",
            "16/16 [==============================] - 361s 23s/step - loss: 0.0272 - accuracy: 0.9980 - val_loss: 0.4327 - val_accuracy: 0.8444\n",
            "Epoch 19/20\n",
            "16/16 [==============================] - 358s 22s/step - loss: 0.0274 - accuracy: 0.9960 - val_loss: 0.4467 - val_accuracy: 0.8444\n",
            "Epoch 20/20\n",
            "16/16 [==============================] - 374s 23s/step - loss: 0.0239 - accuracy: 0.9960 - val_loss: 0.3908 - val_accuracy: 0.8444\n"
          ]
        }
      ]
    },
    {
      "cell_type": "code",
      "source": [
        "import matplotlib.pyplot as plt\n",
        "\n",
        "# plot the loss\n",
        "plt.plot(r.history['loss'], label='train loss')\n",
        "plt.plot(r.history['val_loss'], label='val loss')\n",
        "plt.legend()\n",
        "plt.show()\n",
        "plt.savefig('LossVal_loss')\n",
        "\n",
        "# plot the accuracy\n",
        "plt.plot(r.history['accuracy'], label='train acc')\n",
        "plt.plot(r.history['val_accuracy'], label='val acc')\n",
        "plt.legend()\n",
        "plt.show()\n",
        "plt.savefig('AccVal_acc')"
      ],
      "metadata": {
        "colab": {
          "base_uri": "https://localhost:8080/",
          "height": 860
        },
        "id": "1Dxiis7uVxhX",
        "outputId": "729c67a5-f0d9-4ecd-8024-ee826842f54a"
      },
      "execution_count": null,
      "outputs": [
        {
          "output_type": "display_data",
          "data": {
            "text/plain": [
              "<Figure size 640x480 with 1 Axes>"
            ],
            "image/png": "[encoded data removed]"
          },
          "metadata": {}
        },
        {
          "output_type": "display_data",
          "data": {
            "text/plain": [
              "<Figure size 640x480 with 1 Axes>"
            ],
            "image/png": "[encoded data removed]"
          },
          "metadata": {}
        },
        {
          "output_type": "display_data",
          "data": {
            "text/plain": [
              "<Figure size 640x480 with 0 Axes>"
            ]
          },
          "metadata": {}
        }
      ]
    },
    {
      "cell_type": "code",
      "source": [],
      "metadata": {
        "id": "78FGGUq_y6uY"
      },
      "execution_count": null,
      "outputs": []
    }
  ]
}