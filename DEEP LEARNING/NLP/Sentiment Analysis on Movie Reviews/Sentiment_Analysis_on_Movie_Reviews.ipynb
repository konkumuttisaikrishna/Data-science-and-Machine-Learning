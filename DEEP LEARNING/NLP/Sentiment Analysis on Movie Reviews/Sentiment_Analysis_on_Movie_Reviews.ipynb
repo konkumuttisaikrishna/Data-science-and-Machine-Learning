{
  "nbformat": 4,
  "nbformat_minor": 0,
  "metadata": {
    "colab": {
      "provenance": []
    },
    "kernelspec": {
      "name": "python3",
      "display_name": "Python 3"
    },
    "language_info": {
      "name": "python"
    }
  },
  "cells": [
    {
      "cell_type": "markdown",
      "source": [
        "# 1. Import libraries"
      ],
      "metadata": {
        "id": "U1ZEUEcbwQFo"
      }
    },
    {
      "cell_type": "code",
      "source": [
        "#Load the libraries\n",
        "import numpy as np\n",
        "import pandas as pd\n",
        "import seaborn as sns\n",
        "import matplotlib.pyplot as plt\n",
        "import matplotlib.cm as cm\n",
        "import nltk\n",
        "import re\n",
        "\n",
        "\n",
        "import os\n",
        "import warnings\n",
        "warnings.filterwarnings('ignore')\n",
        "nltk.download('stopwords')\n",
        "nltk.download('punkt')"
      ],
      "metadata": {
        "id": "iAugX_vRRvKv",
        "colab": {
          "base_uri": "https://localhost:8080/"
        },
        "outputId": "7b3eec1c-6ba1-46e9-ae50-81225ac36dea"
      },
      "execution_count": 2,
      "outputs": [
        {
          "output_type": "stream",
          "name": "stderr",
          "text": [
            "[nltk_data] Downloading package stopwords to /root/nltk_data...\n",
            "[nltk_data]   Unzipping corpora/stopwords.zip.\n",
            "[nltk_data] Downloading package punkt to /root/nltk_data...\n",
            "[nltk_data]   Unzipping tokenizers/punkt.zip.\n"
          ]
        },
        {
          "output_type": "execute_result",
          "data": {
            "text/plain": [
              "True"
            ]
          },
          "metadata": {},
          "execution_count": 2
        }
      ]
    },
    {
      "cell_type": "markdown",
      "source": [
        "# 2. Load the data\n"
      ],
      "metadata": {
        "id": "9X2e8k4uwhfV"
      }
    },
    {
      "cell_type": "code",
      "source": [
        "# load data\n",
        "from google.colab import drive\n",
        "drive.mount('/content/drive')\n"
      ],
      "metadata": {
        "colab": {
          "base_uri": "https://localhost:8080/"
        },
        "id": "Ediv_sZMwcE7",
        "outputId": "abd1e20b-60a0-4b18-ff6e-aae64b3f26e8"
      },
      "execution_count": 3,
      "outputs": [
        {
          "output_type": "stream",
          "name": "stdout",
          "text": [
            "Mounted at /content/drive\n"
          ]
        }
      ]
    },
    {
      "cell_type": "code",
      "source": [
        "# Let's take only first 10000 rows for the rest of the analysis for the ease of computation\n",
        "df = pd.read_csv('/content/reviewsdata.csv')"
      ],
      "metadata": {
        "id": "-N6y4Gs7wm4K"
      },
      "execution_count": 4,
      "outputs": []
    },
    {
      "cell_type": "code",
      "source": [
        "df.head()"
      ],
      "metadata": {
        "colab": {
          "base_uri": "https://localhost:8080/",
          "height": 206
        },
        "id": "gVtI-jstw7ZE",
        "outputId": "071900ee-3384-4e4c-8adb-7d7535154de7"
      },
      "execution_count": 5,
      "outputs": [
        {
          "output_type": "execute_result",
          "data": {
            "text/plain": [
              "                                              Review Label\n",
              "0  the rock is destined to be the 21st century's ...   pos\n",
              "1  the gorgeously elaborate continuation of \" the...   pos\n",
              "2                     effective but too-tepid biopic   pos\n",
              "3  if you sometimes like to go to the movies to h...   pos\n",
              "4  emerges as something rare , an issue movie tha...   pos"
            ],
            "text/html": [
              "\n",
              "  <div id=\"df-248a75c6-fce9-4afe-93b2-2f9e70a0aad9\" class=\"colab-df-container\">\n",
              "    <div>\n",
              "<style scoped>\n",
              "    .dataframe tbody tr th:only-of-type {\n",
              "        vertical-align: middle;\n",
              "    }\n",
              "\n",
              "    .dataframe tbody tr th {\n",
              "        vertical-align: top;\n",
              "    }\n",
              "\n",
              "    .dataframe thead th {\n",
              "        text-align: right;\n",
              "    }\n",
              "</style>\n",
              "<table border=\"1\" class=\"dataframe\">\n",
              "  <thead>\n",
              "    <tr style=\"text-align: right;\">\n",
              "      <th></th>\n",
              "      <th>Review</th>\n",
              "      <th>Label</th>\n",
              "    </tr>\n",
              "  </thead>\n",
              "  <tbody>\n",
              "    <tr>\n",
              "      <th>0</th>\n",
              "      <td>the rock is destined to be the 21st century's ...</td>\n",
              "      <td>pos</td>\n",
              "    </tr>\n",
              "    <tr>\n",
              "      <th>1</th>\n",
              "      <td>the gorgeously elaborate continuation of \" the...</td>\n",
              "      <td>pos</td>\n",
              "    </tr>\n",
              "    <tr>\n",
              "      <th>2</th>\n",
              "      <td>effective but too-tepid biopic</td>\n",
              "      <td>pos</td>\n",
              "    </tr>\n",
              "    <tr>\n",
              "      <th>3</th>\n",
              "      <td>if you sometimes like to go to the movies to h...</td>\n",
              "      <td>pos</td>\n",
              "    </tr>\n",
              "    <tr>\n",
              "      <th>4</th>\n",
              "      <td>emerges as something rare , an issue movie tha...</td>\n",
              "      <td>pos</td>\n",
              "    </tr>\n",
              "  </tbody>\n",
              "</table>\n",
              "</div>\n",
              "    <div class=\"colab-df-buttons\">\n",
              "\n",
              "  <div class=\"colab-df-container\">\n",
              "    <button class=\"colab-df-convert\" onclick=\"convertToInteractive('df-248a75c6-fce9-4afe-93b2-2f9e70a0aad9')\"\n",
              "            title=\"Convert this dataframe to an interactive table.\"\n",
              "            style=\"display:none;\">\n",
              "\n",
              "  <svg xmlns=\"http://www.w3.org/2000/svg\" height=\"24px\" viewBox=\"0 -960 960 960\">\n",
              "    <path d=\"M120-120v-720h720v720H120Zm60-500h600v-160H180v160Zm220 220h160v-160H400v160Zm0 220h160v-160H400v160ZM180-400h160v-160H180v160Zm440 0h160v-160H620v160ZM180-180h160v-160H180v160Zm440 0h160v-160H620v160Z\"/>\n",
              "  </svg>\n",
              "    </button>\n",
              "\n",
              "  <style>\n",
              "    .colab-df-container {\n",
              "      display:flex;\n",
              "      gap: 12px;\n",
              "    }\n",
              "\n",
              "    .colab-df-convert {\n",
              "      background-color: #E8F0FE;\n",
              "      border: none;\n",
              "      border-radius: 50%;\n",
              "      cursor: pointer;\n",
              "      display: none;\n",
              "      fill: #1967D2;\n",
              "      height: 32px;\n",
              "      padding: 0 0 0 0;\n",
              "      width: 32px;\n",
              "    }\n",
              "\n",
              "    .colab-df-convert:hover {\n",
              "      background-color: #E2EBFA;\n",
              "      box-shadow: 0px 1px 2px rgba(60, 64, 67, 0.3), 0px 1px 3px 1px rgba(60, 64, 67, 0.15);\n",
              "      fill: #174EA6;\n",
              "    }\n",
              "\n",
              "    .colab-df-buttons div {\n",
              "      margin-bottom: 4px;\n",
              "    }\n",
              "\n",
              "    [theme=dark] .colab-df-convert {\n",
              "      background-color: #3B4455;\n",
              "      fill: #D2E3FC;\n",
              "    }\n",
              "\n",
              "    [theme=dark] .colab-df-convert:hover {\n",
              "      background-color: #434B5C;\n",
              "      box-shadow: 0px 1px 3px 1px rgba(0, 0, 0, 0.15);\n",
              "      filter: drop-shadow(0px 1px 2px rgba(0, 0, 0, 0.3));\n",
              "      fill: #FFFFFF;\n",
              "    }\n",
              "  </style>\n",
              "\n",
              "    <script>\n",
              "      const buttonEl =\n",
              "        document.querySelector('#df-248a75c6-fce9-4afe-93b2-2f9e70a0aad9 button.colab-df-convert');\n",
              "      buttonEl.style.display =\n",
              "        google.colab.kernel.accessAllowed ? 'block' : 'none';\n",
              "\n",
              "      async function convertToInteractive(key) {\n",
              "        const element = document.querySelector('#df-248a75c6-fce9-4afe-93b2-2f9e70a0aad9');\n",
              "        const dataTable =\n",
              "          await google.colab.kernel.invokeFunction('convertToInteractive',\n",
              "                                                    [key], {});\n",
              "        if (!dataTable) return;\n",
              "\n",
              "        const docLinkHtml = 'Like what you see? Visit the ' +\n",
              "          '<a target=\"_blank\" href=https://colab.research.google.com/notebooks/data_table.ipynb>data table notebook</a>'\n",
              "          + ' to learn more about interactive tables.';\n",
              "        element.innerHTML = '';\n",
              "        dataTable['output_type'] = 'display_data';\n",
              "        await google.colab.output.renderOutput(dataTable, element);\n",
              "        const docLink = document.createElement('div');\n",
              "        docLink.innerHTML = docLinkHtml;\n",
              "        element.appendChild(docLink);\n",
              "      }\n",
              "    </script>\n",
              "  </div>\n",
              "\n",
              "\n",
              "<div id=\"df-96ad39a6-6b60-4aed-97d4-713a734418cd\">\n",
              "  <button class=\"colab-df-quickchart\" onclick=\"quickchart('df-96ad39a6-6b60-4aed-97d4-713a734418cd')\"\n",
              "            title=\"Suggest charts.\"\n",
              "            style=\"display:none;\">\n",
              "\n",
              "<svg xmlns=\"http://www.w3.org/2000/svg\" height=\"24px\"viewBox=\"0 0 24 24\"\n",
              "     width=\"24px\">\n",
              "    <g>\n",
              "        <path d=\"M19 3H5c-1.1 0-2 .9-2 2v14c0 1.1.9 2 2 2h14c1.1 0 2-.9 2-2V5c0-1.1-.9-2-2-2zM9 17H7v-7h2v7zm4 0h-2V7h2v10zm4 0h-2v-4h2v4z\"/>\n",
              "    </g>\n",
              "</svg>\n",
              "  </button>\n",
              "\n",
              "<style>\n",
              "  .colab-df-quickchart {\n",
              "      --bg-color: #E8F0FE;\n",
              "      --fill-color: #1967D2;\n",
              "      --hover-bg-color: #E2EBFA;\n",
              "      --hover-fill-color: #174EA6;\n",
              "      --disabled-fill-color: #AAA;\n",
              "      --disabled-bg-color: #DDD;\n",
              "  }\n",
              "\n",
              "  [theme=dark] .colab-df-quickchart {\n",
              "      --bg-color: #3B4455;\n",
              "      --fill-color: #D2E3FC;\n",
              "      --hover-bg-color: #434B5C;\n",
              "      --hover-fill-color: #FFFFFF;\n",
              "      --disabled-bg-color: #3B4455;\n",
              "      --disabled-fill-color: #666;\n",
              "  }\n",
              "\n",
              "  .colab-df-quickchart {\n",
              "    background-color: var(--bg-color);\n",
              "    border: none;\n",
              "    border-radius: 50%;\n",
              "    cursor: pointer;\n",
              "    display: none;\n",
              "    fill: var(--fill-color);\n",
              "    height: 32px;\n",
              "    padding: 0;\n",
              "    width: 32px;\n",
              "  }\n",
              "\n",
              "  .colab-df-quickchart:hover {\n",
              "    background-color: var(--hover-bg-color);\n",
              "    box-shadow: 0 1px 2px rgba(60, 64, 67, 0.3), 0 1px 3px 1px rgba(60, 64, 67, 0.15);\n",
              "    fill: var(--button-hover-fill-color);\n",
              "  }\n",
              "\n",
              "  .colab-df-quickchart-complete:disabled,\n",
              "  .colab-df-quickchart-complete:disabled:hover {\n",
              "    background-color: var(--disabled-bg-color);\n",
              "    fill: var(--disabled-fill-color);\n",
              "    box-shadow: none;\n",
              "  }\n",
              "\n",
              "  .colab-df-spinner {\n",
              "    border: 2px solid var(--fill-color);\n",
              "    border-color: transparent;\n",
              "    border-bottom-color: var(--fill-color);\n",
              "    animation:\n",
              "      spin 1s steps(1) infinite;\n",
              "  }\n",
              "\n",
              "  @keyframes spin {\n",
              "    0% {\n",
              "      border-color: transparent;\n",
              "      border-bottom-color: var(--fill-color);\n",
              "      border-left-color: var(--fill-color);\n",
              "    }\n",
              "    20% {\n",
              "      border-color: transparent;\n",
              "      border-left-color: var(--fill-color);\n",
              "      border-top-color: var(--fill-color);\n",
              "    }\n",
              "    30% {\n",
              "      border-color: transparent;\n",
              "      border-left-color: var(--fill-color);\n",
              "      border-top-color: var(--fill-color);\n",
              "      border-right-color: var(--fill-color);\n",
              "    }\n",
              "    40% {\n",
              "      border-color: transparent;\n",
              "      border-right-color: var(--fill-color);\n",
              "      border-top-color: var(--fill-color);\n",
              "    }\n",
              "    60% {\n",
              "      border-color: transparent;\n",
              "      border-right-color: var(--fill-color);\n",
              "    }\n",
              "    80% {\n",
              "      border-color: transparent;\n",
              "      border-right-color: var(--fill-color);\n",
              "      border-bottom-color: var(--fill-color);\n",
              "    }\n",
              "    90% {\n",
              "      border-color: transparent;\n",
              "      border-bottom-color: var(--fill-color);\n",
              "    }\n",
              "  }\n",
              "</style>\n",
              "\n",
              "  <script>\n",
              "    async function quickchart(key) {\n",
              "      const quickchartButtonEl =\n",
              "        document.querySelector('#' + key + ' button');\n",
              "      quickchartButtonEl.disabled = true;  // To prevent multiple clicks.\n",
              "      quickchartButtonEl.classList.add('colab-df-spinner');\n",
              "      try {\n",
              "        const charts = await google.colab.kernel.invokeFunction(\n",
              "            'suggestCharts', [key], {});\n",
              "      } catch (error) {\n",
              "        console.error('Error during call to suggestCharts:', error);\n",
              "      }\n",
              "      quickchartButtonEl.classList.remove('colab-df-spinner');\n",
              "      quickchartButtonEl.classList.add('colab-df-quickchart-complete');\n",
              "    }\n",
              "    (() => {\n",
              "      let quickchartButtonEl =\n",
              "        document.querySelector('#df-96ad39a6-6b60-4aed-97d4-713a734418cd button');\n",
              "      quickchartButtonEl.style.display =\n",
              "        google.colab.kernel.accessAllowed ? 'block' : 'none';\n",
              "    })();\n",
              "  </script>\n",
              "</div>\n",
              "    </div>\n",
              "  </div>\n"
            ]
          },
          "metadata": {},
          "execution_count": 5
        }
      ]
    },
    {
      "cell_type": "code",
      "source": [
        "#shape of the dataset\n",
        "df.shape"
      ],
      "metadata": {
        "colab": {
          "base_uri": "https://localhost:8080/"
        },
        "id": "bTNEAGXZw_8I",
        "outputId": "eb5650da-dc67-4e09-bfdb-a2629df02e62"
      },
      "execution_count": 6,
      "outputs": [
        {
          "output_type": "execute_result",
          "data": {
            "text/plain": [
              "(10662, 2)"
            ]
          },
          "metadata": {},
          "execution_count": 6
        }
      ]
    },
    {
      "cell_type": "markdown",
      "source": [
        "# 3. Removing stopwords and tokenization"
      ],
      "metadata": {
        "id": "wRDgdNPKzFRx"
      }
    },
    {
      "cell_type": "code",
      "source": [
        "df['Review'] = df['Review'].apply(lambda x:re.sub(r\"[^A-Za-z0-9 ]+\",\"\",x))"
      ],
      "metadata": {
        "id": "xhUyCl0d2_vX"
      },
      "execution_count": 7,
      "outputs": []
    },
    {
      "cell_type": "code",
      "source": [
        "df.head()"
      ],
      "metadata": {
        "colab": {
          "base_uri": "https://localhost:8080/",
          "height": 206
        },
        "id": "vthnnaxS3coI",
        "outputId": "67cfb4fb-9208-44a1-a944-01e24bc3e682"
      },
      "execution_count": 8,
      "outputs": [
        {
          "output_type": "execute_result",
          "data": {
            "text/plain": [
              "                                              Review Label\n",
              "0  the rock is destined to be the 21st centurys n...   pos\n",
              "1  the gorgeously elaborate continuation of  the ...   pos\n",
              "2                      effective but tootepid biopic   pos\n",
              "3  if you sometimes like to go to the movies to h...   pos\n",
              "4  emerges as something rare  an issue movie that...   pos"
            ],
            "text/html": [
              "\n",
              "  <div id=\"df-211568c7-b966-4815-9ceb-8d4b41f170da\" class=\"colab-df-container\">\n",
              "    <div>\n",
              "<style scoped>\n",
              "    .dataframe tbody tr th:only-of-type {\n",
              "        vertical-align: middle;\n",
              "    }\n",
              "\n",
              "    .dataframe tbody tr th {\n",
              "        vertical-align: top;\n",
              "    }\n",
              "\n",
              "    .dataframe thead th {\n",
              "        text-align: right;\n",
              "    }\n",
              "</style>\n",
              "<table border=\"1\" class=\"dataframe\">\n",
              "  <thead>\n",
              "    <tr style=\"text-align: right;\">\n",
              "      <th></th>\n",
              "      <th>Review</th>\n",
              "      <th>Label</th>\n",
              "    </tr>\n",
              "  </thead>\n",
              "  <tbody>\n",
              "    <tr>\n",
              "      <th>0</th>\n",
              "      <td>the rock is destined to be the 21st centurys n...</td>\n",
              "      <td>pos</td>\n",
              "    </tr>\n",
              "    <tr>\n",
              "      <th>1</th>\n",
              "      <td>the gorgeously elaborate continuation of  the ...</td>\n",
              "      <td>pos</td>\n",
              "    </tr>\n",
              "    <tr>\n",
              "      <th>2</th>\n",
              "      <td>effective but tootepid biopic</td>\n",
              "      <td>pos</td>\n",
              "    </tr>\n",
              "    <tr>\n",
              "      <th>3</th>\n",
              "      <td>if you sometimes like to go to the movies to h...</td>\n",
              "      <td>pos</td>\n",
              "    </tr>\n",
              "    <tr>\n",
              "      <th>4</th>\n",
              "      <td>emerges as something rare  an issue movie that...</td>\n",
              "      <td>pos</td>\n",
              "    </tr>\n",
              "  </tbody>\n",
              "</table>\n",
              "</div>\n",
              "    <div class=\"colab-df-buttons\">\n",
              "\n",
              "  <div class=\"colab-df-container\">\n",
              "    <button class=\"colab-df-convert\" onclick=\"convertToInteractive('df-211568c7-b966-4815-9ceb-8d4b41f170da')\"\n",
              "            title=\"Convert this dataframe to an interactive table.\"\n",
              "            style=\"display:none;\">\n",
              "\n",
              "  <svg xmlns=\"http://www.w3.org/2000/svg\" height=\"24px\" viewBox=\"0 -960 960 960\">\n",
              "    <path d=\"M120-120v-720h720v720H120Zm60-500h600v-160H180v160Zm220 220h160v-160H400v160Zm0 220h160v-160H400v160ZM180-400h160v-160H180v160Zm440 0h160v-160H620v160ZM180-180h160v-160H180v160Zm440 0h160v-160H620v160Z\"/>\n",
              "  </svg>\n",
              "    </button>\n",
              "\n",
              "  <style>\n",
              "    .colab-df-container {\n",
              "      display:flex;\n",
              "      gap: 12px;\n",
              "    }\n",
              "\n",
              "    .colab-df-convert {\n",
              "      background-color: #E8F0FE;\n",
              "      border: none;\n",
              "      border-radius: 50%;\n",
              "      cursor: pointer;\n",
              "      display: none;\n",
              "      fill: #1967D2;\n",
              "      height: 32px;\n",
              "      padding: 0 0 0 0;\n",
              "      width: 32px;\n",
              "    }\n",
              "\n",
              "    .colab-df-convert:hover {\n",
              "      background-color: #E2EBFA;\n",
              "      box-shadow: 0px 1px 2px rgba(60, 64, 67, 0.3), 0px 1px 3px 1px rgba(60, 64, 67, 0.15);\n",
              "      fill: #174EA6;\n",
              "    }\n",
              "\n",
              "    .colab-df-buttons div {\n",
              "      margin-bottom: 4px;\n",
              "    }\n",
              "\n",
              "    [theme=dark] .colab-df-convert {\n",
              "      background-color: #3B4455;\n",
              "      fill: #D2E3FC;\n",
              "    }\n",
              "\n",
              "    [theme=dark] .colab-df-convert:hover {\n",
              "      background-color: #434B5C;\n",
              "      box-shadow: 0px 1px 3px 1px rgba(0, 0, 0, 0.15);\n",
              "      filter: drop-shadow(0px 1px 2px rgba(0, 0, 0, 0.3));\n",
              "      fill: #FFFFFF;\n",
              "    }\n",
              "  </style>\n",
              "\n",
              "    <script>\n",
              "      const buttonEl =\n",
              "        document.querySelector('#df-211568c7-b966-4815-9ceb-8d4b41f170da button.colab-df-convert');\n",
              "      buttonEl.style.display =\n",
              "        google.colab.kernel.accessAllowed ? 'block' : 'none';\n",
              "\n",
              "      async function convertToInteractive(key) {\n",
              "        const element = document.querySelector('#df-211568c7-b966-4815-9ceb-8d4b41f170da');\n",
              "        const dataTable =\n",
              "          await google.colab.kernel.invokeFunction('convertToInteractive',\n",
              "                                                    [key], {});\n",
              "        if (!dataTable) return;\n",
              "\n",
              "        const docLinkHtml = 'Like what you see? Visit the ' +\n",
              "          '<a target=\"_blank\" href=https://colab.research.google.com/notebooks/data_table.ipynb>data table notebook</a>'\n",
              "          + ' to learn more about interactive tables.';\n",
              "        element.innerHTML = '';\n",
              "        dataTable['output_type'] = 'display_data';\n",
              "        await google.colab.output.renderOutput(dataTable, element);\n",
              "        const docLink = document.createElement('div');\n",
              "        docLink.innerHTML = docLinkHtml;\n",
              "        element.appendChild(docLink);\n",
              "      }\n",
              "    </script>\n",
              "  </div>\n",
              "\n",
              "\n",
              "<div id=\"df-dc9e8027-3a13-4445-9670-292c6fd749b9\">\n",
              "  <button class=\"colab-df-quickchart\" onclick=\"quickchart('df-dc9e8027-3a13-4445-9670-292c6fd749b9')\"\n",
              "            title=\"Suggest charts.\"\n",
              "            style=\"display:none;\">\n",
              "\n",
              "<svg xmlns=\"http://www.w3.org/2000/svg\" height=\"24px\"viewBox=\"0 0 24 24\"\n",
              "     width=\"24px\">\n",
              "    <g>\n",
              "        <path d=\"M19 3H5c-1.1 0-2 .9-2 2v14c0 1.1.9 2 2 2h14c1.1 0 2-.9 2-2V5c0-1.1-.9-2-2-2zM9 17H7v-7h2v7zm4 0h-2V7h2v10zm4 0h-2v-4h2v4z\"/>\n",
              "    </g>\n",
              "</svg>\n",
              "  </button>\n",
              "\n",
              "<style>\n",
              "  .colab-df-quickchart {\n",
              "      --bg-color: #E8F0FE;\n",
              "      --fill-color: #1967D2;\n",
              "      --hover-bg-color: #E2EBFA;\n",
              "      --hover-fill-color: #174EA6;\n",
              "      --disabled-fill-color: #AAA;\n",
              "      --disabled-bg-color: #DDD;\n",
              "  }\n",
              "\n",
              "  [theme=dark] .colab-df-quickchart {\n",
              "      --bg-color: #3B4455;\n",
              "      --fill-color: #D2E3FC;\n",
              "      --hover-bg-color: #434B5C;\n",
              "      --hover-fill-color: #FFFFFF;\n",
              "      --disabled-bg-color: #3B4455;\n",
              "      --disabled-fill-color: #666;\n",
              "  }\n",
              "\n",
              "  .colab-df-quickchart {\n",
              "    background-color: var(--bg-color);\n",
              "    border: none;\n",
              "    border-radius: 50%;\n",
              "    cursor: pointer;\n",
              "    display: none;\n",
              "    fill: var(--fill-color);\n",
              "    height: 32px;\n",
              "    padding: 0;\n",
              "    width: 32px;\n",
              "  }\n",
              "\n",
              "  .colab-df-quickchart:hover {\n",
              "    background-color: var(--hover-bg-color);\n",
              "    box-shadow: 0 1px 2px rgba(60, 64, 67, 0.3), 0 1px 3px 1px rgba(60, 64, 67, 0.15);\n",
              "    fill: var(--button-hover-fill-color);\n",
              "  }\n",
              "\n",
              "  .colab-df-quickchart-complete:disabled,\n",
              "  .colab-df-quickchart-complete:disabled:hover {\n",
              "    background-color: var(--disabled-bg-color);\n",
              "    fill: var(--disabled-fill-color);\n",
              "    box-shadow: none;\n",
              "  }\n",
              "\n",
              "  .colab-df-spinner {\n",
              "    border: 2px solid var(--fill-color);\n",
              "    border-color: transparent;\n",
              "    border-bottom-color: var(--fill-color);\n",
              "    animation:\n",
              "      spin 1s steps(1) infinite;\n",
              "  }\n",
              "\n",
              "  @keyframes spin {\n",
              "    0% {\n",
              "      border-color: transparent;\n",
              "      border-bottom-color: var(--fill-color);\n",
              "      border-left-color: var(--fill-color);\n",
              "    }\n",
              "    20% {\n",
              "      border-color: transparent;\n",
              "      border-left-color: var(--fill-color);\n",
              "      border-top-color: var(--fill-color);\n",
              "    }\n",
              "    30% {\n",
              "      border-color: transparent;\n",
              "      border-left-color: var(--fill-color);\n",
              "      border-top-color: var(--fill-color);\n",
              "      border-right-color: var(--fill-color);\n",
              "    }\n",
              "    40% {\n",
              "      border-color: transparent;\n",
              "      border-right-color: var(--fill-color);\n",
              "      border-top-color: var(--fill-color);\n",
              "    }\n",
              "    60% {\n",
              "      border-color: transparent;\n",
              "      border-right-color: var(--fill-color);\n",
              "    }\n",
              "    80% {\n",
              "      border-color: transparent;\n",
              "      border-right-color: var(--fill-color);\n",
              "      border-bottom-color: var(--fill-color);\n",
              "    }\n",
              "    90% {\n",
              "      border-color: transparent;\n",
              "      border-bottom-color: var(--fill-color);\n",
              "    }\n",
              "  }\n",
              "</style>\n",
              "\n",
              "  <script>\n",
              "    async function quickchart(key) {\n",
              "      const quickchartButtonEl =\n",
              "        document.querySelector('#' + key + ' button');\n",
              "      quickchartButtonEl.disabled = true;  // To prevent multiple clicks.\n",
              "      quickchartButtonEl.classList.add('colab-df-spinner');\n",
              "      try {\n",
              "        const charts = await google.colab.kernel.invokeFunction(\n",
              "            'suggestCharts', [key], {});\n",
              "      } catch (error) {\n",
              "        console.error('Error during call to suggestCharts:', error);\n",
              "      }\n",
              "      quickchartButtonEl.classList.remove('colab-df-spinner');\n",
              "      quickchartButtonEl.classList.add('colab-df-quickchart-complete');\n",
              "    }\n",
              "    (() => {\n",
              "      let quickchartButtonEl =\n",
              "        document.querySelector('#df-dc9e8027-3a13-4445-9670-292c6fd749b9 button');\n",
              "      quickchartButtonEl.style.display =\n",
              "        google.colab.kernel.accessAllowed ? 'block' : 'none';\n",
              "    })();\n",
              "  </script>\n",
              "</div>\n",
              "    </div>\n",
              "  </div>\n"
            ]
          },
          "metadata": {},
          "execution_count": 8
        }
      ]
    },
    {
      "cell_type": "code",
      "source": [
        "from nltk.corpus import stopwords\n",
        "\n",
        "#setting english stopwords\n",
        "stopword_list = nltk.corpus.stopwords.words(\"english\")"
      ],
      "metadata": {
        "id": "7lvyKhrEyZHP"
      },
      "execution_count": 9,
      "outputs": []
    },
    {
      "cell_type": "code",
      "source": [
        "from nltk.tokenize import word_tokenize,sent_tokenize\n",
        "\n",
        "def remove_stopwords(text):\n",
        "  tokens = word_tokenize(text)\n",
        "  ##Strip any extra spaces in each word of the list tokens\n",
        "  tokens = [token.strip() for token in tokens]\n",
        "\n",
        "\n",
        "  #Removing stop words from the tokens and creating a list containing only non-stopword tokens\n",
        "  # Logic - convert each token in tokens to lowercase and check if it is a stopword.\n",
        "  #If it is not a stopword, then add it to the filtered_tokens list\n",
        "\n",
        "  filterted_tokens = []\n",
        "  for token in tokens:\n",
        "    if token.lower() not in stopword_list:\n",
        "      filterted_tokens.append(token)\n",
        "  # Individual tokens(words) are joined with whitespace as a separator to create a complete sentence\n",
        "  filterted_text = \" \".join(filterted_tokens)\n",
        "\n",
        "\n",
        "  return filterted_text\n",
        "\n",
        "\n"
      ],
      "metadata": {
        "id": "Ku5Vr1R8zgHu"
      },
      "execution_count": 10,
      "outputs": []
    },
    {
      "cell_type": "code",
      "source": [
        "len(df['Review'][678])"
      ],
      "metadata": {
        "colab": {
          "base_uri": "https://localhost:8080/"
        },
        "id": "QpxDIT_82UEq",
        "outputId": "fc669a45-0841-4ad3-9dde-3456d7194f25"
      },
      "execution_count": 11,
      "outputs": [
        {
          "output_type": "execute_result",
          "data": {
            "text/plain": [
              "67"
            ]
          },
          "metadata": {},
          "execution_count": 11
        }
      ]
    },
    {
      "cell_type": "code",
      "source": [
        "len(remove_stopwords(df['Review'][678]))"
      ],
      "metadata": {
        "colab": {
          "base_uri": "https://localhost:8080/"
        },
        "id": "XxURExoP2dUc",
        "outputId": "f6440f54-f6cf-45f3-97b2-b473e519694e"
      },
      "execution_count": 12,
      "outputs": [
        {
          "output_type": "execute_result",
          "data": {
            "text/plain": [
              "44"
            ]
          },
          "metadata": {},
          "execution_count": 12
        }
      ]
    },
    {
      "cell_type": "code",
      "source": [
        "#Apply function on review column. Removing stopwords from each review in the dataframe\n",
        "df['Review'] = df['Review'].apply(remove_stopwords)"
      ],
      "metadata": {
        "id": "W_saNlvF2roU"
      },
      "execution_count": 13,
      "outputs": []
    },
    {
      "cell_type": "code",
      "source": [
        "df.head()"
      ],
      "metadata": {
        "colab": {
          "base_uri": "https://localhost:8080/",
          "height": 206
        },
        "id": "hjgAADIP26MT",
        "outputId": "73c23e9e-b601-41ec-8e9b-6c0c06a619a8"
      },
      "execution_count": 14,
      "outputs": [
        {
          "output_type": "execute_result",
          "data": {
            "text/plain": [
              "                                              Review Label\n",
              "0  rock destined 21st centurys new conan hes goin...   pos\n",
              "1  gorgeously elaborate continuation lord rings t...   pos\n",
              "2                          effective tootepid biopic   pos\n",
              "3  sometimes like go movies fun wasabi good place...   pos\n",
              "4  emerges something rare issue movie thats hones...   pos"
            ],
            "text/html": [
              "\n",
              "  <div id=\"df-98d1b74d-36a6-49c5-93ca-638682f980a9\" class=\"colab-df-container\">\n",
              "    <div>\n",
              "<style scoped>\n",
              "    .dataframe tbody tr th:only-of-type {\n",
              "        vertical-align: middle;\n",
              "    }\n",
              "\n",
              "    .dataframe tbody tr th {\n",
              "        vertical-align: top;\n",
              "    }\n",
              "\n",
              "    .dataframe thead th {\n",
              "        text-align: right;\n",
              "    }\n",
              "</style>\n",
              "<table border=\"1\" class=\"dataframe\">\n",
              "  <thead>\n",
              "    <tr style=\"text-align: right;\">\n",
              "      <th></th>\n",
              "      <th>Review</th>\n",
              "      <th>Label</th>\n",
              "    </tr>\n",
              "  </thead>\n",
              "  <tbody>\n",
              "    <tr>\n",
              "      <th>0</th>\n",
              "      <td>rock destined 21st centurys new conan hes goin...</td>\n",
              "      <td>pos</td>\n",
              "    </tr>\n",
              "    <tr>\n",
              "      <th>1</th>\n",
              "      <td>gorgeously elaborate continuation lord rings t...</td>\n",
              "      <td>pos</td>\n",
              "    </tr>\n",
              "    <tr>\n",
              "      <th>2</th>\n",
              "      <td>effective tootepid biopic</td>\n",
              "      <td>pos</td>\n",
              "    </tr>\n",
              "    <tr>\n",
              "      <th>3</th>\n",
              "      <td>sometimes like go movies fun wasabi good place...</td>\n",
              "      <td>pos</td>\n",
              "    </tr>\n",
              "    <tr>\n",
              "      <th>4</th>\n",
              "      <td>emerges something rare issue movie thats hones...</td>\n",
              "      <td>pos</td>\n",
              "    </tr>\n",
              "  </tbody>\n",
              "</table>\n",
              "</div>\n",
              "    <div class=\"colab-df-buttons\">\n",
              "\n",
              "  <div class=\"colab-df-container\">\n",
              "    <button class=\"colab-df-convert\" onclick=\"convertToInteractive('df-98d1b74d-36a6-49c5-93ca-638682f980a9')\"\n",
              "            title=\"Convert this dataframe to an interactive table.\"\n",
              "            style=\"display:none;\">\n",
              "\n",
              "  <svg xmlns=\"http://www.w3.org/2000/svg\" height=\"24px\" viewBox=\"0 -960 960 960\">\n",
              "    <path d=\"M120-120v-720h720v720H120Zm60-500h600v-160H180v160Zm220 220h160v-160H400v160Zm0 220h160v-160H400v160ZM180-400h160v-160H180v160Zm440 0h160v-160H620v160ZM180-180h160v-160H180v160Zm440 0h160v-160H620v160Z\"/>\n",
              "  </svg>\n",
              "    </button>\n",
              "\n",
              "  <style>\n",
              "    .colab-df-container {\n",
              "      display:flex;\n",
              "      gap: 12px;\n",
              "    }\n",
              "\n",
              "    .colab-df-convert {\n",
              "      background-color: #E8F0FE;\n",
              "      border: none;\n",
              "      border-radius: 50%;\n",
              "      cursor: pointer;\n",
              "      display: none;\n",
              "      fill: #1967D2;\n",
              "      height: 32px;\n",
              "      padding: 0 0 0 0;\n",
              "      width: 32px;\n",
              "    }\n",
              "\n",
              "    .colab-df-convert:hover {\n",
              "      background-color: #E2EBFA;\n",
              "      box-shadow: 0px 1px 2px rgba(60, 64, 67, 0.3), 0px 1px 3px 1px rgba(60, 64, 67, 0.15);\n",
              "      fill: #174EA6;\n",
              "    }\n",
              "\n",
              "    .colab-df-buttons div {\n",
              "      margin-bottom: 4px;\n",
              "    }\n",
              "\n",
              "    [theme=dark] .colab-df-convert {\n",
              "      background-color: #3B4455;\n",
              "      fill: #D2E3FC;\n",
              "    }\n",
              "\n",
              "    [theme=dark] .colab-df-convert:hover {\n",
              "      background-color: #434B5C;\n",
              "      box-shadow: 0px 1px 3px 1px rgba(0, 0, 0, 0.15);\n",
              "      filter: drop-shadow(0px 1px 2px rgba(0, 0, 0, 0.3));\n",
              "      fill: #FFFFFF;\n",
              "    }\n",
              "  </style>\n",
              "\n",
              "    <script>\n",
              "      const buttonEl =\n",
              "        document.querySelector('#df-98d1b74d-36a6-49c5-93ca-638682f980a9 button.colab-df-convert');\n",
              "      buttonEl.style.display =\n",
              "        google.colab.kernel.accessAllowed ? 'block' : 'none';\n",
              "\n",
              "      async function convertToInteractive(key) {\n",
              "        const element = document.querySelector('#df-98d1b74d-36a6-49c5-93ca-638682f980a9');\n",
              "        const dataTable =\n",
              "          await google.colab.kernel.invokeFunction('convertToInteractive',\n",
              "                                                    [key], {});\n",
              "        if (!dataTable) return;\n",
              "\n",
              "        const docLinkHtml = 'Like what you see? Visit the ' +\n",
              "          '<a target=\"_blank\" href=https://colab.research.google.com/notebooks/data_table.ipynb>data table notebook</a>'\n",
              "          + ' to learn more about interactive tables.';\n",
              "        element.innerHTML = '';\n",
              "        dataTable['output_type'] = 'display_data';\n",
              "        await google.colab.output.renderOutput(dataTable, element);\n",
              "        const docLink = document.createElement('div');\n",
              "        docLink.innerHTML = docLinkHtml;\n",
              "        element.appendChild(docLink);\n",
              "      }\n",
              "    </script>\n",
              "  </div>\n",
              "\n",
              "\n",
              "<div id=\"df-cb0c1a59-ad34-4098-b930-d23758ecd795\">\n",
              "  <button class=\"colab-df-quickchart\" onclick=\"quickchart('df-cb0c1a59-ad34-4098-b930-d23758ecd795')\"\n",
              "            title=\"Suggest charts.\"\n",
              "            style=\"display:none;\">\n",
              "\n",
              "<svg xmlns=\"http://www.w3.org/2000/svg\" height=\"24px\"viewBox=\"0 0 24 24\"\n",
              "     width=\"24px\">\n",
              "    <g>\n",
              "        <path d=\"M19 3H5c-1.1 0-2 .9-2 2v14c0 1.1.9 2 2 2h14c1.1 0 2-.9 2-2V5c0-1.1-.9-2-2-2zM9 17H7v-7h2v7zm4 0h-2V7h2v10zm4 0h-2v-4h2v4z\"/>\n",
              "    </g>\n",
              "</svg>\n",
              "  </button>\n",
              "\n",
              "<style>\n",
              "  .colab-df-quickchart {\n",
              "      --bg-color: #E8F0FE;\n",
              "      --fill-color: #1967D2;\n",
              "      --hover-bg-color: #E2EBFA;\n",
              "      --hover-fill-color: #174EA6;\n",
              "      --disabled-fill-color: #AAA;\n",
              "      --disabled-bg-color: #DDD;\n",
              "  }\n",
              "\n",
              "  [theme=dark] .colab-df-quickchart {\n",
              "      --bg-color: #3B4455;\n",
              "      --fill-color: #D2E3FC;\n",
              "      --hover-bg-color: #434B5C;\n",
              "      --hover-fill-color: #FFFFFF;\n",
              "      --disabled-bg-color: #3B4455;\n",
              "      --disabled-fill-color: #666;\n",
              "  }\n",
              "\n",
              "  .colab-df-quickchart {\n",
              "    background-color: var(--bg-color);\n",
              "    border: none;\n",
              "    border-radius: 50%;\n",
              "    cursor: pointer;\n",
              "    display: none;\n",
              "    fill: var(--fill-color);\n",
              "    height: 32px;\n",
              "    padding: 0;\n",
              "    width: 32px;\n",
              "  }\n",
              "\n",
              "  .colab-df-quickchart:hover {\n",
              "    background-color: var(--hover-bg-color);\n",
              "    box-shadow: 0 1px 2px rgba(60, 64, 67, 0.3), 0 1px 3px 1px rgba(60, 64, 67, 0.15);\n",
              "    fill: var(--button-hover-fill-color);\n",
              "  }\n",
              "\n",
              "  .colab-df-quickchart-complete:disabled,\n",
              "  .colab-df-quickchart-complete:disabled:hover {\n",
              "    background-color: var(--disabled-bg-color);\n",
              "    fill: var(--disabled-fill-color);\n",
              "    box-shadow: none;\n",
              "  }\n",
              "\n",
              "  .colab-df-spinner {\n",
              "    border: 2px solid var(--fill-color);\n",
              "    border-color: transparent;\n",
              "    border-bottom-color: var(--fill-color);\n",
              "    animation:\n",
              "      spin 1s steps(1) infinite;\n",
              "  }\n",
              "\n",
              "  @keyframes spin {\n",
              "    0% {\n",
              "      border-color: transparent;\n",
              "      border-bottom-color: var(--fill-color);\n",
              "      border-left-color: var(--fill-color);\n",
              "    }\n",
              "    20% {\n",
              "      border-color: transparent;\n",
              "      border-left-color: var(--fill-color);\n",
              "      border-top-color: var(--fill-color);\n",
              "    }\n",
              "    30% {\n",
              "      border-color: transparent;\n",
              "      border-left-color: var(--fill-color);\n",
              "      border-top-color: var(--fill-color);\n",
              "      border-right-color: var(--fill-color);\n",
              "    }\n",
              "    40% {\n",
              "      border-color: transparent;\n",
              "      border-right-color: var(--fill-color);\n",
              "      border-top-color: var(--fill-color);\n",
              "    }\n",
              "    60% {\n",
              "      border-color: transparent;\n",
              "      border-right-color: var(--fill-color);\n",
              "    }\n",
              "    80% {\n",
              "      border-color: transparent;\n",
              "      border-right-color: var(--fill-color);\n",
              "      border-bottom-color: var(--fill-color);\n",
              "    }\n",
              "    90% {\n",
              "      border-color: transparent;\n",
              "      border-bottom-color: var(--fill-color);\n",
              "    }\n",
              "  }\n",
              "</style>\n",
              "\n",
              "  <script>\n",
              "    async function quickchart(key) {\n",
              "      const quickchartButtonEl =\n",
              "        document.querySelector('#' + key + ' button');\n",
              "      quickchartButtonEl.disabled = true;  // To prevent multiple clicks.\n",
              "      quickchartButtonEl.classList.add('colab-df-spinner');\n",
              "      try {\n",
              "        const charts = await google.colab.kernel.invokeFunction(\n",
              "            'suggestCharts', [key], {});\n",
              "      } catch (error) {\n",
              "        console.error('Error during call to suggestCharts:', error);\n",
              "      }\n",
              "      quickchartButtonEl.classList.remove('colab-df-spinner');\n",
              "      quickchartButtonEl.classList.add('colab-df-quickchart-complete');\n",
              "    }\n",
              "    (() => {\n",
              "      let quickchartButtonEl =\n",
              "        document.querySelector('#df-cb0c1a59-ad34-4098-b930-d23758ecd795 button');\n",
              "      quickchartButtonEl.style.display =\n",
              "        google.colab.kernel.accessAllowed ? 'block' : 'none';\n",
              "    })();\n",
              "  </script>\n",
              "</div>\n",
              "    </div>\n",
              "  </div>\n"
            ]
          },
          "metadata": {},
          "execution_count": 14
        }
      ]
    },
    {
      "cell_type": "markdown",
      "source": [
        "## 4.Stemming"
      ],
      "metadata": {
        "id": "GWOsoYgP4KrQ"
      }
    },
    {
      "cell_type": "code",
      "source": [
        "#Import the necessary libraries\n",
        "from nltk.stem import PorterStemmer\n",
        "\n",
        "def simple_stemmer(text):\n",
        "  porter = PorterStemmer()\n",
        "  stemmed_words = []\n",
        "  for word in word_tokenize(text):\n",
        "    stem_word = porter.stem(word)\n",
        "    stemmed_words.append(stem_word)\n",
        "\n",
        "  return ' '.join(stemmed_words)\n"
      ],
      "metadata": {
        "id": "wYD6pFHn28S2"
      },
      "execution_count": 15,
      "outputs": []
    },
    {
      "cell_type": "code",
      "source": [
        "len(df['Review'][456])"
      ],
      "metadata": {
        "colab": {
          "base_uri": "https://localhost:8080/"
        },
        "id": "XL9DCyn268wz",
        "outputId": "962d0546-05d0-439e-f60c-adad55343723"
      },
      "execution_count": 16,
      "outputs": [
        {
          "output_type": "execute_result",
          "data": {
            "text/plain": [
              "145"
            ]
          },
          "metadata": {},
          "execution_count": 16
        }
      ]
    },
    {
      "cell_type": "code",
      "source": [
        "len(simple_stemmer(df['Review'][456]))"
      ],
      "metadata": {
        "colab": {
          "base_uri": "https://localhost:8080/"
        },
        "id": "KgjD72Ho7FDs",
        "outputId": "09aa6d49-f6ff-4127-d559-adafb803c21c"
      },
      "execution_count": 17,
      "outputs": [
        {
          "output_type": "execute_result",
          "data": {
            "text/plain": [
              "124"
            ]
          },
          "metadata": {},
          "execution_count": 17
        }
      ]
    },
    {
      "cell_type": "code",
      "source": [
        "# Applying stemming to all reviews in the dataframe column 'review'\n",
        "df['Review_stemming'] = df['Review'].apply(simple_stemmer)"
      ],
      "metadata": {
        "id": "OYbZ6vJh7SGl"
      },
      "execution_count": 18,
      "outputs": []
    },
    {
      "cell_type": "code",
      "source": [
        "df.head()"
      ],
      "metadata": {
        "colab": {
          "base_uri": "https://localhost:8080/",
          "height": 206
        },
        "id": "jFCBqhuu7uH8",
        "outputId": "e956a4b1-4a44-4567-eb29-0166474522b2"
      },
      "execution_count": 19,
      "outputs": [
        {
          "output_type": "execute_result",
          "data": {
            "text/plain": [
              "                                              Review Label  \\\n",
              "0  rock destined 21st centurys new conan hes goin...   pos   \n",
              "1  gorgeously elaborate continuation lord rings t...   pos   \n",
              "2                          effective tootepid biopic   pos   \n",
              "3  sometimes like go movies fun wasabi good place...   pos   \n",
              "4  emerges something rare issue movie thats hones...   pos   \n",
              "\n",
              "                                     Review_stemming  \n",
              "0  rock destin 21st centuri new conan he go make ...  \n",
              "1  gorgeous elabor continu lord ring trilog huge ...  \n",
              "2                             effect tootepid biopic  \n",
              "3   sometim like go movi fun wasabi good place start  \n",
              "4  emerg someth rare issu movi that honest keenli...  "
            ],
            "text/html": [
              "\n",
              "  <div id=\"df-95be65a2-e0ab-4334-a664-2024665fb309\" class=\"colab-df-container\">\n",
              "    <div>\n",
              "<style scoped>\n",
              "    .dataframe tbody tr th:only-of-type {\n",
              "        vertical-align: middle;\n",
              "    }\n",
              "\n",
              "    .dataframe tbody tr th {\n",
              "        vertical-align: top;\n",
              "    }\n",
              "\n",
              "    .dataframe thead th {\n",
              "        text-align: right;\n",
              "    }\n",
              "</style>\n",
              "<table border=\"1\" class=\"dataframe\">\n",
              "  <thead>\n",
              "    <tr style=\"text-align: right;\">\n",
              "      <th></th>\n",
              "      <th>Review</th>\n",
              "      <th>Label</th>\n",
              "      <th>Review_stemming</th>\n",
              "    </tr>\n",
              "  </thead>\n",
              "  <tbody>\n",
              "    <tr>\n",
              "      <th>0</th>\n",
              "      <td>rock destined 21st centurys new conan hes goin...</td>\n",
              "      <td>pos</td>\n",
              "      <td>rock destin 21st centuri new conan he go make ...</td>\n",
              "    </tr>\n",
              "    <tr>\n",
              "      <th>1</th>\n",
              "      <td>gorgeously elaborate continuation lord rings t...</td>\n",
              "      <td>pos</td>\n",
              "      <td>gorgeous elabor continu lord ring trilog huge ...</td>\n",
              "    </tr>\n",
              "    <tr>\n",
              "      <th>2</th>\n",
              "      <td>effective tootepid biopic</td>\n",
              "      <td>pos</td>\n",
              "      <td>effect tootepid biopic</td>\n",
              "    </tr>\n",
              "    <tr>\n",
              "      <th>3</th>\n",
              "      <td>sometimes like go movies fun wasabi good place...</td>\n",
              "      <td>pos</td>\n",
              "      <td>sometim like go movi fun wasabi good place start</td>\n",
              "    </tr>\n",
              "    <tr>\n",
              "      <th>4</th>\n",
              "      <td>emerges something rare issue movie thats hones...</td>\n",
              "      <td>pos</td>\n",
              "      <td>emerg someth rare issu movi that honest keenli...</td>\n",
              "    </tr>\n",
              "  </tbody>\n",
              "</table>\n",
              "</div>\n",
              "    <div class=\"colab-df-buttons\">\n",
              "\n",
              "  <div class=\"colab-df-container\">\n",
              "    <button class=\"colab-df-convert\" onclick=\"convertToInteractive('df-95be65a2-e0ab-4334-a664-2024665fb309')\"\n",
              "            title=\"Convert this dataframe to an interactive table.\"\n",
              "            style=\"display:none;\">\n",
              "\n",
              "  <svg xmlns=\"http://www.w3.org/2000/svg\" height=\"24px\" viewBox=\"0 -960 960 960\">\n",
              "    <path d=\"M120-120v-720h720v720H120Zm60-500h600v-160H180v160Zm220 220h160v-160H400v160Zm0 220h160v-160H400v160ZM180-400h160v-160H180v160Zm440 0h160v-160H620v160ZM180-180h160v-160H180v160Zm440 0h160v-160H620v160Z\"/>\n",
              "  </svg>\n",
              "    </button>\n",
              "\n",
              "  <style>\n",
              "    .colab-df-container {\n",
              "      display:flex;\n",
              "      gap: 12px;\n",
              "    }\n",
              "\n",
              "    .colab-df-convert {\n",
              "      background-color: #E8F0FE;\n",
              "      border: none;\n",
              "      border-radius: 50%;\n",
              "      cursor: pointer;\n",
              "      display: none;\n",
              "      fill: #1967D2;\n",
              "      height: 32px;\n",
              "      padding: 0 0 0 0;\n",
              "      width: 32px;\n",
              "    }\n",
              "\n",
              "    .colab-df-convert:hover {\n",
              "      background-color: #E2EBFA;\n",
              "      box-shadow: 0px 1px 2px rgba(60, 64, 67, 0.3), 0px 1px 3px 1px rgba(60, 64, 67, 0.15);\n",
              "      fill: #174EA6;\n",
              "    }\n",
              "\n",
              "    .colab-df-buttons div {\n",
              "      margin-bottom: 4px;\n",
              "    }\n",
              "\n",
              "    [theme=dark] .colab-df-convert {\n",
              "      background-color: #3B4455;\n",
              "      fill: #D2E3FC;\n",
              "    }\n",
              "\n",
              "    [theme=dark] .colab-df-convert:hover {\n",
              "      background-color: #434B5C;\n",
              "      box-shadow: 0px 1px 3px 1px rgba(0, 0, 0, 0.15);\n",
              "      filter: drop-shadow(0px 1px 2px rgba(0, 0, 0, 0.3));\n",
              "      fill: #FFFFFF;\n",
              "    }\n",
              "  </style>\n",
              "\n",
              "    <script>\n",
              "      const buttonEl =\n",
              "        document.querySelector('#df-95be65a2-e0ab-4334-a664-2024665fb309 button.colab-df-convert');\n",
              "      buttonEl.style.display =\n",
              "        google.colab.kernel.accessAllowed ? 'block' : 'none';\n",
              "\n",
              "      async function convertToInteractive(key) {\n",
              "        const element = document.querySelector('#df-95be65a2-e0ab-4334-a664-2024665fb309');\n",
              "        const dataTable =\n",
              "          await google.colab.kernel.invokeFunction('convertToInteractive',\n",
              "                                                    [key], {});\n",
              "        if (!dataTable) return;\n",
              "\n",
              "        const docLinkHtml = 'Like what you see? Visit the ' +\n",
              "          '<a target=\"_blank\" href=https://colab.research.google.com/notebooks/data_table.ipynb>data table notebook</a>'\n",
              "          + ' to learn more about interactive tables.';\n",
              "        element.innerHTML = '';\n",
              "        dataTable['output_type'] = 'display_data';\n",
              "        await google.colab.output.renderOutput(dataTable, element);\n",
              "        const docLink = document.createElement('div');\n",
              "        docLink.innerHTML = docLinkHtml;\n",
              "        element.appendChild(docLink);\n",
              "      }\n",
              "    </script>\n",
              "  </div>\n",
              "\n",
              "\n",
              "<div id=\"df-160a7018-e9d9-4fd5-95a3-7bb8e3133776\">\n",
              "  <button class=\"colab-df-quickchart\" onclick=\"quickchart('df-160a7018-e9d9-4fd5-95a3-7bb8e3133776')\"\n",
              "            title=\"Suggest charts.\"\n",
              "            style=\"display:none;\">\n",
              "\n",
              "<svg xmlns=\"http://www.w3.org/2000/svg\" height=\"24px\"viewBox=\"0 0 24 24\"\n",
              "     width=\"24px\">\n",
              "    <g>\n",
              "        <path d=\"M19 3H5c-1.1 0-2 .9-2 2v14c0 1.1.9 2 2 2h14c1.1 0 2-.9 2-2V5c0-1.1-.9-2-2-2zM9 17H7v-7h2v7zm4 0h-2V7h2v10zm4 0h-2v-4h2v4z\"/>\n",
              "    </g>\n",
              "</svg>\n",
              "  </button>\n",
              "\n",
              "<style>\n",
              "  .colab-df-quickchart {\n",
              "      --bg-color: #E8F0FE;\n",
              "      --fill-color: #1967D2;\n",
              "      --hover-bg-color: #E2EBFA;\n",
              "      --hover-fill-color: #174EA6;\n",
              "      --disabled-fill-color: #AAA;\n",
              "      --disabled-bg-color: #DDD;\n",
              "  }\n",
              "\n",
              "  [theme=dark] .colab-df-quickchart {\n",
              "      --bg-color: #3B4455;\n",
              "      --fill-color: #D2E3FC;\n",
              "      --hover-bg-color: #434B5C;\n",
              "      --hover-fill-color: #FFFFFF;\n",
              "      --disabled-bg-color: #3B4455;\n",
              "      --disabled-fill-color: #666;\n",
              "  }\n",
              "\n",
              "  .colab-df-quickchart {\n",
              "    background-color: var(--bg-color);\n",
              "    border: none;\n",
              "    border-radius: 50%;\n",
              "    cursor: pointer;\n",
              "    display: none;\n",
              "    fill: var(--fill-color);\n",
              "    height: 32px;\n",
              "    padding: 0;\n",
              "    width: 32px;\n",
              "  }\n",
              "\n",
              "  .colab-df-quickchart:hover {\n",
              "    background-color: var(--hover-bg-color);\n",
              "    box-shadow: 0 1px 2px rgba(60, 64, 67, 0.3), 0 1px 3px 1px rgba(60, 64, 67, 0.15);\n",
              "    fill: var(--button-hover-fill-color);\n",
              "  }\n",
              "\n",
              "  .colab-df-quickchart-complete:disabled,\n",
              "  .colab-df-quickchart-complete:disabled:hover {\n",
              "    background-color: var(--disabled-bg-color);\n",
              "    fill: var(--disabled-fill-color);\n",
              "    box-shadow: none;\n",
              "  }\n",
              "\n",
              "  .colab-df-spinner {\n",
              "    border: 2px solid var(--fill-color);\n",
              "    border-color: transparent;\n",
              "    border-bottom-color: var(--fill-color);\n",
              "    animation:\n",
              "      spin 1s steps(1) infinite;\n",
              "  }\n",
              "\n",
              "  @keyframes spin {\n",
              "    0% {\n",
              "      border-color: transparent;\n",
              "      border-bottom-color: var(--fill-color);\n",
              "      border-left-color: var(--fill-color);\n",
              "    }\n",
              "    20% {\n",
              "      border-color: transparent;\n",
              "      border-left-color: var(--fill-color);\n",
              "      border-top-color: var(--fill-color);\n",
              "    }\n",
              "    30% {\n",
              "      border-color: transparent;\n",
              "      border-left-color: var(--fill-color);\n",
              "      border-top-color: var(--fill-color);\n",
              "      border-right-color: var(--fill-color);\n",
              "    }\n",
              "    40% {\n",
              "      border-color: transparent;\n",
              "      border-right-color: var(--fill-color);\n",
              "      border-top-color: var(--fill-color);\n",
              "    }\n",
              "    60% {\n",
              "      border-color: transparent;\n",
              "      border-right-color: var(--fill-color);\n",
              "    }\n",
              "    80% {\n",
              "      border-color: transparent;\n",
              "      border-right-color: var(--fill-color);\n",
              "      border-bottom-color: var(--fill-color);\n",
              "    }\n",
              "    90% {\n",
              "      border-color: transparent;\n",
              "      border-bottom-color: var(--fill-color);\n",
              "    }\n",
              "  }\n",
              "</style>\n",
              "\n",
              "  <script>\n",
              "    async function quickchart(key) {\n",
              "      const quickchartButtonEl =\n",
              "        document.querySelector('#' + key + ' button');\n",
              "      quickchartButtonEl.disabled = true;  // To prevent multiple clicks.\n",
              "      quickchartButtonEl.classList.add('colab-df-spinner');\n",
              "      try {\n",
              "        const charts = await google.colab.kernel.invokeFunction(\n",
              "            'suggestCharts', [key], {});\n",
              "      } catch (error) {\n",
              "        console.error('Error during call to suggestCharts:', error);\n",
              "      }\n",
              "      quickchartButtonEl.classList.remove('colab-df-spinner');\n",
              "      quickchartButtonEl.classList.add('colab-df-quickchart-complete');\n",
              "    }\n",
              "    (() => {\n",
              "      let quickchartButtonEl =\n",
              "        document.querySelector('#df-160a7018-e9d9-4fd5-95a3-7bb8e3133776 button');\n",
              "      quickchartButtonEl.style.display =\n",
              "        google.colab.kernel.accessAllowed ? 'block' : 'none';\n",
              "    })();\n",
              "  </script>\n",
              "</div>\n",
              "    </div>\n",
              "  </div>\n"
            ]
          },
          "metadata": {},
          "execution_count": 19
        }
      ]
    },
    {
      "cell_type": "markdown",
      "source": [
        "### Lemmatization"
      ],
      "metadata": {
        "id": "vz17yYyD85dr"
      }
    },
    {
      "cell_type": "code",
      "source": [
        "nltk.download('wordnet')\n",
        "nltk.download('omw-1.4')\n",
        "\n",
        "from nltk.stem import WordNetLemmatizer\n",
        "\n",
        "lemmatizer = WordNetLemmatizer()"
      ],
      "metadata": {
        "colab": {
          "base_uri": "https://localhost:8080/"
        },
        "id": "G4uMfM-l7wxZ",
        "outputId": "9415b3c9-7609-42f3-ff88-49622f53e3a6"
      },
      "execution_count": 20,
      "outputs": [
        {
          "output_type": "stream",
          "name": "stderr",
          "text": [
            "[nltk_data] Downloading package wordnet to /root/nltk_data...\n",
            "[nltk_data] Downloading package omw-1.4 to /root/nltk_data...\n"
          ]
        }
      ]
    },
    {
      "cell_type": "code",
      "source": [
        "def simple_lemmatizer(text):\n",
        "  lemmatizer = WordNetLemmatizer()\n",
        "  lemmatizer_words = []\n",
        "  for word in word_tokenize(text):\n",
        "    lemmatizing_word = lemmatizer.lemmatize(word)\n",
        "    lemmatizer_words.append(lemmatizing_word)\n",
        "  return ' '.join(lemmatizer_words)"
      ],
      "metadata": {
        "id": "K3zQ1Uzu98AT"
      },
      "execution_count": 21,
      "outputs": []
    },
    {
      "cell_type": "code",
      "source": [
        "len(df['Review'][456])"
      ],
      "metadata": {
        "colab": {
          "base_uri": "https://localhost:8080/"
        },
        "id": "liHdfgiqi8Ii",
        "outputId": "f3bcc93d-dcb5-43d3-c0e2-ca3f1c344737"
      },
      "execution_count": 22,
      "outputs": [
        {
          "output_type": "execute_result",
          "data": {
            "text/plain": [
              "145"
            ]
          },
          "metadata": {},
          "execution_count": 22
        }
      ]
    },
    {
      "cell_type": "code",
      "source": [
        "len(simple_lemmatizer(df['Review'][456]))"
      ],
      "metadata": {
        "colab": {
          "base_uri": "https://localhost:8080/"
        },
        "id": "TXYxi0SejAht",
        "outputId": "21d4f3fe-81b6-47c1-d5ec-5adb948fe1c3"
      },
      "execution_count": 23,
      "outputs": [
        {
          "output_type": "execute_result",
          "data": {
            "text/plain": [
              "142"
            ]
          },
          "metadata": {},
          "execution_count": 23
        }
      ]
    },
    {
      "cell_type": "code",
      "source": [
        "# Applying stemming to all reviews in the dataframe column 'review'\n",
        "df['Review_lemmatizing'] = df['Review'].apply(simple_lemmatizer)"
      ],
      "metadata": {
        "id": "3x7Ax0U-jfUJ"
      },
      "execution_count": 24,
      "outputs": []
    },
    {
      "cell_type": "code",
      "source": [
        "df.head()"
      ],
      "metadata": {
        "colab": {
          "base_uri": "https://localhost:8080/",
          "height": 275
        },
        "id": "UGOujnQ0jou3",
        "outputId": "2650deeb-45b9-4916-cde7-4771847c3e8a"
      },
      "execution_count": 25,
      "outputs": [
        {
          "output_type": "execute_result",
          "data": {
            "text/plain": [
              "                                              Review Label  \\\n",
              "0  rock destined 21st centurys new conan hes goin...   pos   \n",
              "1  gorgeously elaborate continuation lord rings t...   pos   \n",
              "2                          effective tootepid biopic   pos   \n",
              "3  sometimes like go movies fun wasabi good place...   pos   \n",
              "4  emerges something rare issue movie thats hones...   pos   \n",
              "\n",
              "                                     Review_stemming  \\\n",
              "0  rock destin 21st centuri new conan he go make ...   \n",
              "1  gorgeous elabor continu lord ring trilog huge ...   \n",
              "2                             effect tootepid biopic   \n",
              "3   sometim like go movi fun wasabi good place start   \n",
              "4  emerg someth rare issu movi that honest keenli...   \n",
              "\n",
              "                                  Review_lemmatizing  \n",
              "0  rock destined 21st century new conan he going ...  \n",
              "1  gorgeously elaborate continuation lord ring tr...  \n",
              "2                          effective tootepid biopic  \n",
              "3  sometimes like go movie fun wasabi good place ...  \n",
              "4  emerges something rare issue movie thats hones...  "
            ],
            "text/html": [
              "\n",
              "  <div id=\"df-a54d5571-a511-488b-b203-c95e9e4ecb57\" class=\"colab-df-container\">\n",
              "    <div>\n",
              "<style scoped>\n",
              "    .dataframe tbody tr th:only-of-type {\n",
              "        vertical-align: middle;\n",
              "    }\n",
              "\n",
              "    .dataframe tbody tr th {\n",
              "        vertical-align: top;\n",
              "    }\n",
              "\n",
              "    .dataframe thead th {\n",
              "        text-align: right;\n",
              "    }\n",
              "</style>\n",
              "<table border=\"1\" class=\"dataframe\">\n",
              "  <thead>\n",
              "    <tr style=\"text-align: right;\">\n",
              "      <th></th>\n",
              "      <th>Review</th>\n",
              "      <th>Label</th>\n",
              "      <th>Review_stemming</th>\n",
              "      <th>Review_lemmatizing</th>\n",
              "    </tr>\n",
              "  </thead>\n",
              "  <tbody>\n",
              "    <tr>\n",
              "      <th>0</th>\n",
              "      <td>rock destined 21st centurys new conan hes goin...</td>\n",
              "      <td>pos</td>\n",
              "      <td>rock destin 21st centuri new conan he go make ...</td>\n",
              "      <td>rock destined 21st century new conan he going ...</td>\n",
              "    </tr>\n",
              "    <tr>\n",
              "      <th>1</th>\n",
              "      <td>gorgeously elaborate continuation lord rings t...</td>\n",
              "      <td>pos</td>\n",
              "      <td>gorgeous elabor continu lord ring trilog huge ...</td>\n",
              "      <td>gorgeously elaborate continuation lord ring tr...</td>\n",
              "    </tr>\n",
              "    <tr>\n",
              "      <th>2</th>\n",
              "      <td>effective tootepid biopic</td>\n",
              "      <td>pos</td>\n",
              "      <td>effect tootepid biopic</td>\n",
              "      <td>effective tootepid biopic</td>\n",
              "    </tr>\n",
              "    <tr>\n",
              "      <th>3</th>\n",
              "      <td>sometimes like go movies fun wasabi good place...</td>\n",
              "      <td>pos</td>\n",
              "      <td>sometim like go movi fun wasabi good place start</td>\n",
              "      <td>sometimes like go movie fun wasabi good place ...</td>\n",
              "    </tr>\n",
              "    <tr>\n",
              "      <th>4</th>\n",
              "      <td>emerges something rare issue movie thats hones...</td>\n",
              "      <td>pos</td>\n",
              "      <td>emerg someth rare issu movi that honest keenli...</td>\n",
              "      <td>emerges something rare issue movie thats hones...</td>\n",
              "    </tr>\n",
              "  </tbody>\n",
              "</table>\n",
              "</div>\n",
              "    <div class=\"colab-df-buttons\">\n",
              "\n",
              "  <div class=\"colab-df-container\">\n",
              "    <button class=\"colab-df-convert\" onclick=\"convertToInteractive('df-a54d5571-a511-488b-b203-c95e9e4ecb57')\"\n",
              "            title=\"Convert this dataframe to an interactive table.\"\n",
              "            style=\"display:none;\">\n",
              "\n",
              "  <svg xmlns=\"http://www.w3.org/2000/svg\" height=\"24px\" viewBox=\"0 -960 960 960\">\n",
              "    <path d=\"M120-120v-720h720v720H120Zm60-500h600v-160H180v160Zm220 220h160v-160H400v160Zm0 220h160v-160H400v160ZM180-400h160v-160H180v160Zm440 0h160v-160H620v160ZM180-180h160v-160H180v160Zm440 0h160v-160H620v160Z\"/>\n",
              "  </svg>\n",
              "    </button>\n",
              "\n",
              "  <style>\n",
              "    .colab-df-container {\n",
              "      display:flex;\n",
              "      gap: 12px;\n",
              "    }\n",
              "\n",
              "    .colab-df-convert {\n",
              "      background-color: #E8F0FE;\n",
              "      border: none;\n",
              "      border-radius: 50%;\n",
              "      cursor: pointer;\n",
              "      display: none;\n",
              "      fill: #1967D2;\n",
              "      height: 32px;\n",
              "      padding: 0 0 0 0;\n",
              "      width: 32px;\n",
              "    }\n",
              "\n",
              "    .colab-df-convert:hover {\n",
              "      background-color: #E2EBFA;\n",
              "      box-shadow: 0px 1px 2px rgba(60, 64, 67, 0.3), 0px 1px 3px 1px rgba(60, 64, 67, 0.15);\n",
              "      fill: #174EA6;\n",
              "    }\n",
              "\n",
              "    .colab-df-buttons div {\n",
              "      margin-bottom: 4px;\n",
              "    }\n",
              "\n",
              "    [theme=dark] .colab-df-convert {\n",
              "      background-color: #3B4455;\n",
              "      fill: #D2E3FC;\n",
              "    }\n",
              "\n",
              "    [theme=dark] .colab-df-convert:hover {\n",
              "      background-color: #434B5C;\n",
              "      box-shadow: 0px 1px 3px 1px rgba(0, 0, 0, 0.15);\n",
              "      filter: drop-shadow(0px 1px 2px rgba(0, 0, 0, 0.3));\n",
              "      fill: #FFFFFF;\n",
              "    }\n",
              "  </style>\n",
              "\n",
              "    <script>\n",
              "      const buttonEl =\n",
              "        document.querySelector('#df-a54d5571-a511-488b-b203-c95e9e4ecb57 button.colab-df-convert');\n",
              "      buttonEl.style.display =\n",
              "        google.colab.kernel.accessAllowed ? 'block' : 'none';\n",
              "\n",
              "      async function convertToInteractive(key) {\n",
              "        const element = document.querySelector('#df-a54d5571-a511-488b-b203-c95e9e4ecb57');\n",
              "        const dataTable =\n",
              "          await google.colab.kernel.invokeFunction('convertToInteractive',\n",
              "                                                    [key], {});\n",
              "        if (!dataTable) return;\n",
              "\n",
              "        const docLinkHtml = 'Like what you see? Visit the ' +\n",
              "          '<a target=\"_blank\" href=https://colab.research.google.com/notebooks/data_table.ipynb>data table notebook</a>'\n",
              "          + ' to learn more about interactive tables.';\n",
              "        element.innerHTML = '';\n",
              "        dataTable['output_type'] = 'display_data';\n",
              "        await google.colab.output.renderOutput(dataTable, element);\n",
              "        const docLink = document.createElement('div');\n",
              "        docLink.innerHTML = docLinkHtml;\n",
              "        element.appendChild(docLink);\n",
              "      }\n",
              "    </script>\n",
              "  </div>\n",
              "\n",
              "\n",
              "<div id=\"df-4525de63-3147-4462-ad63-d0636a05921e\">\n",
              "  <button class=\"colab-df-quickchart\" onclick=\"quickchart('df-4525de63-3147-4462-ad63-d0636a05921e')\"\n",
              "            title=\"Suggest charts.\"\n",
              "            style=\"display:none;\">\n",
              "\n",
              "<svg xmlns=\"http://www.w3.org/2000/svg\" height=\"24px\"viewBox=\"0 0 24 24\"\n",
              "     width=\"24px\">\n",
              "    <g>\n",
              "        <path d=\"M19 3H5c-1.1 0-2 .9-2 2v14c0 1.1.9 2 2 2h14c1.1 0 2-.9 2-2V5c0-1.1-.9-2-2-2zM9 17H7v-7h2v7zm4 0h-2V7h2v10zm4 0h-2v-4h2v4z\"/>\n",
              "    </g>\n",
              "</svg>\n",
              "  </button>\n",
              "\n",
              "<style>\n",
              "  .colab-df-quickchart {\n",
              "      --bg-color: #E8F0FE;\n",
              "      --fill-color: #1967D2;\n",
              "      --hover-bg-color: #E2EBFA;\n",
              "      --hover-fill-color: #174EA6;\n",
              "      --disabled-fill-color: #AAA;\n",
              "      --disabled-bg-color: #DDD;\n",
              "  }\n",
              "\n",
              "  [theme=dark] .colab-df-quickchart {\n",
              "      --bg-color: #3B4455;\n",
              "      --fill-color: #D2E3FC;\n",
              "      --hover-bg-color: #434B5C;\n",
              "      --hover-fill-color: #FFFFFF;\n",
              "      --disabled-bg-color: #3B4455;\n",
              "      --disabled-fill-color: #666;\n",
              "  }\n",
              "\n",
              "  .colab-df-quickchart {\n",
              "    background-color: var(--bg-color);\n",
              "    border: none;\n",
              "    border-radius: 50%;\n",
              "    cursor: pointer;\n",
              "    display: none;\n",
              "    fill: var(--fill-color);\n",
              "    height: 32px;\n",
              "    padding: 0;\n",
              "    width: 32px;\n",
              "  }\n",
              "\n",
              "  .colab-df-quickchart:hover {\n",
              "    background-color: var(--hover-bg-color);\n",
              "    box-shadow: 0 1px 2px rgba(60, 64, 67, 0.3), 0 1px 3px 1px rgba(60, 64, 67, 0.15);\n",
              "    fill: var(--button-hover-fill-color);\n",
              "  }\n",
              "\n",
              "  .colab-df-quickchart-complete:disabled,\n",
              "  .colab-df-quickchart-complete:disabled:hover {\n",
              "    background-color: var(--disabled-bg-color);\n",
              "    fill: var(--disabled-fill-color);\n",
              "    box-shadow: none;\n",
              "  }\n",
              "\n",
              "  .colab-df-spinner {\n",
              "    border: 2px solid var(--fill-color);\n",
              "    border-color: transparent;\n",
              "    border-bottom-color: var(--fill-color);\n",
              "    animation:\n",
              "      spin 1s steps(1) infinite;\n",
              "  }\n",
              "\n",
              "  @keyframes spin {\n",
              "    0% {\n",
              "      border-color: transparent;\n",
              "      border-bottom-color: var(--fill-color);\n",
              "      border-left-color: var(--fill-color);\n",
              "    }\n",
              "    20% {\n",
              "      border-color: transparent;\n",
              "      border-left-color: var(--fill-color);\n",
              "      border-top-color: var(--fill-color);\n",
              "    }\n",
              "    30% {\n",
              "      border-color: transparent;\n",
              "      border-left-color: var(--fill-color);\n",
              "      border-top-color: var(--fill-color);\n",
              "      border-right-color: var(--fill-color);\n",
              "    }\n",
              "    40% {\n",
              "      border-color: transparent;\n",
              "      border-right-color: var(--fill-color);\n",
              "      border-top-color: var(--fill-color);\n",
              "    }\n",
              "    60% {\n",
              "      border-color: transparent;\n",
              "      border-right-color: var(--fill-color);\n",
              "    }\n",
              "    80% {\n",
              "      border-color: transparent;\n",
              "      border-right-color: var(--fill-color);\n",
              "      border-bottom-color: var(--fill-color);\n",
              "    }\n",
              "    90% {\n",
              "      border-color: transparent;\n",
              "      border-bottom-color: var(--fill-color);\n",
              "    }\n",
              "  }\n",
              "</style>\n",
              "\n",
              "  <script>\n",
              "    async function quickchart(key) {\n",
              "      const quickchartButtonEl =\n",
              "        document.querySelector('#' + key + ' button');\n",
              "      quickchartButtonEl.disabled = true;  // To prevent multiple clicks.\n",
              "      quickchartButtonEl.classList.add('colab-df-spinner');\n",
              "      try {\n",
              "        const charts = await google.colab.kernel.invokeFunction(\n",
              "            'suggestCharts', [key], {});\n",
              "      } catch (error) {\n",
              "        console.error('Error during call to suggestCharts:', error);\n",
              "      }\n",
              "      quickchartButtonEl.classList.remove('colab-df-spinner');\n",
              "      quickchartButtonEl.classList.add('colab-df-quickchart-complete');\n",
              "    }\n",
              "    (() => {\n",
              "      let quickchartButtonEl =\n",
              "        document.querySelector('#df-4525de63-3147-4462-ad63-d0636a05921e button');\n",
              "      quickchartButtonEl.style.display =\n",
              "        google.colab.kernel.accessAllowed ? 'block' : 'none';\n",
              "    })();\n",
              "  </script>\n",
              "</div>\n",
              "    </div>\n",
              "  </div>\n"
            ]
          },
          "metadata": {},
          "execution_count": 25
        }
      ]
    },
    {
      "cell_type": "markdown",
      "source": [
        "### Label Encoding sentiments"
      ],
      "metadata": {
        "id": "-YHaLrZqlm88"
      }
    },
    {
      "cell_type": "code",
      "source": [
        "df.head()"
      ],
      "metadata": {
        "colab": {
          "base_uri": "https://localhost:8080/",
          "height": 275
        },
        "id": "K0Va2ctFjsCo",
        "outputId": "db0e93e5-23ec-4818-9f98-5ebf72794f93"
      },
      "execution_count": 26,
      "outputs": [
        {
          "output_type": "execute_result",
          "data": {
            "text/plain": [
              "                                              Review Label  \\\n",
              "0  rock destined 21st centurys new conan hes goin...   pos   \n",
              "1  gorgeously elaborate continuation lord rings t...   pos   \n",
              "2                          effective tootepid biopic   pos   \n",
              "3  sometimes like go movies fun wasabi good place...   pos   \n",
              "4  emerges something rare issue movie thats hones...   pos   \n",
              "\n",
              "                                     Review_stemming  \\\n",
              "0  rock destin 21st centuri new conan he go make ...   \n",
              "1  gorgeous elabor continu lord ring trilog huge ...   \n",
              "2                             effect tootepid biopic   \n",
              "3   sometim like go movi fun wasabi good place start   \n",
              "4  emerg someth rare issu movi that honest keenli...   \n",
              "\n",
              "                                  Review_lemmatizing  \n",
              "0  rock destined 21st century new conan he going ...  \n",
              "1  gorgeously elaborate continuation lord ring tr...  \n",
              "2                          effective tootepid biopic  \n",
              "3  sometimes like go movie fun wasabi good place ...  \n",
              "4  emerges something rare issue movie thats hones...  "
            ],
            "text/html": [
              "\n",
              "  <div id=\"df-0a1e50cf-70fe-4c27-a837-efabcdccbb41\" class=\"colab-df-container\">\n",
              "    <div>\n",
              "<style scoped>\n",
              "    .dataframe tbody tr th:only-of-type {\n",
              "        vertical-align: middle;\n",
              "    }\n",
              "\n",
              "    .dataframe tbody tr th {\n",
              "        vertical-align: top;\n",
              "    }\n",
              "\n",
              "    .dataframe thead th {\n",
              "        text-align: right;\n",
              "    }\n",
              "</style>\n",
              "<table border=\"1\" class=\"dataframe\">\n",
              "  <thead>\n",
              "    <tr style=\"text-align: right;\">\n",
              "      <th></th>\n",
              "      <th>Review</th>\n",
              "      <th>Label</th>\n",
              "      <th>Review_stemming</th>\n",
              "      <th>Review_lemmatizing</th>\n",
              "    </tr>\n",
              "  </thead>\n",
              "  <tbody>\n",
              "    <tr>\n",
              "      <th>0</th>\n",
              "      <td>rock destined 21st centurys new conan hes goin...</td>\n",
              "      <td>pos</td>\n",
              "      <td>rock destin 21st centuri new conan he go make ...</td>\n",
              "      <td>rock destined 21st century new conan he going ...</td>\n",
              "    </tr>\n",
              "    <tr>\n",
              "      <th>1</th>\n",
              "      <td>gorgeously elaborate continuation lord rings t...</td>\n",
              "      <td>pos</td>\n",
              "      <td>gorgeous elabor continu lord ring trilog huge ...</td>\n",
              "      <td>gorgeously elaborate continuation lord ring tr...</td>\n",
              "    </tr>\n",
              "    <tr>\n",
              "      <th>2</th>\n",
              "      <td>effective tootepid biopic</td>\n",
              "      <td>pos</td>\n",
              "      <td>effect tootepid biopic</td>\n",
              "      <td>effective tootepid biopic</td>\n",
              "    </tr>\n",
              "    <tr>\n",
              "      <th>3</th>\n",
              "      <td>sometimes like go movies fun wasabi good place...</td>\n",
              "      <td>pos</td>\n",
              "      <td>sometim like go movi fun wasabi good place start</td>\n",
              "      <td>sometimes like go movie fun wasabi good place ...</td>\n",
              "    </tr>\n",
              "    <tr>\n",
              "      <th>4</th>\n",
              "      <td>emerges something rare issue movie thats hones...</td>\n",
              "      <td>pos</td>\n",
              "      <td>emerg someth rare issu movi that honest keenli...</td>\n",
              "      <td>emerges something rare issue movie thats hones...</td>\n",
              "    </tr>\n",
              "  </tbody>\n",
              "</table>\n",
              "</div>\n",
              "    <div class=\"colab-df-buttons\">\n",
              "\n",
              "  <div class=\"colab-df-container\">\n",
              "    <button class=\"colab-df-convert\" onclick=\"convertToInteractive('df-0a1e50cf-70fe-4c27-a837-efabcdccbb41')\"\n",
              "            title=\"Convert this dataframe to an interactive table.\"\n",
              "            style=\"display:none;\">\n",
              "\n",
              "  <svg xmlns=\"http://www.w3.org/2000/svg\" height=\"24px\" viewBox=\"0 -960 960 960\">\n",
              "    <path d=\"M120-120v-720h720v720H120Zm60-500h600v-160H180v160Zm220 220h160v-160H400v160Zm0 220h160v-160H400v160ZM180-400h160v-160H180v160Zm440 0h160v-160H620v160ZM180-180h160v-160H180v160Zm440 0h160v-160H620v160Z\"/>\n",
              "  </svg>\n",
              "    </button>\n",
              "\n",
              "  <style>\n",
              "    .colab-df-container {\n",
              "      display:flex;\n",
              "      gap: 12px;\n",
              "    }\n",
              "\n",
              "    .colab-df-convert {\n",
              "      background-color: #E8F0FE;\n",
              "      border: none;\n",
              "      border-radius: 50%;\n",
              "      cursor: pointer;\n",
              "      display: none;\n",
              "      fill: #1967D2;\n",
              "      height: 32px;\n",
              "      padding: 0 0 0 0;\n",
              "      width: 32px;\n",
              "    }\n",
              "\n",
              "    .colab-df-convert:hover {\n",
              "      background-color: #E2EBFA;\n",
              "      box-shadow: 0px 1px 2px rgba(60, 64, 67, 0.3), 0px 1px 3px 1px rgba(60, 64, 67, 0.15);\n",
              "      fill: #174EA6;\n",
              "    }\n",
              "\n",
              "    .colab-df-buttons div {\n",
              "      margin-bottom: 4px;\n",
              "    }\n",
              "\n",
              "    [theme=dark] .colab-df-convert {\n",
              "      background-color: #3B4455;\n",
              "      fill: #D2E3FC;\n",
              "    }\n",
              "\n",
              "    [theme=dark] .colab-df-convert:hover {\n",
              "      background-color: #434B5C;\n",
              "      box-shadow: 0px 1px 3px 1px rgba(0, 0, 0, 0.15);\n",
              "      filter: drop-shadow(0px 1px 2px rgba(0, 0, 0, 0.3));\n",
              "      fill: #FFFFFF;\n",
              "    }\n",
              "  </style>\n",
              "\n",
              "    <script>\n",
              "      const buttonEl =\n",
              "        document.querySelector('#df-0a1e50cf-70fe-4c27-a837-efabcdccbb41 button.colab-df-convert');\n",
              "      buttonEl.style.display =\n",
              "        google.colab.kernel.accessAllowed ? 'block' : 'none';\n",
              "\n",
              "      async function convertToInteractive(key) {\n",
              "        const element = document.querySelector('#df-0a1e50cf-70fe-4c27-a837-efabcdccbb41');\n",
              "        const dataTable =\n",
              "          await google.colab.kernel.invokeFunction('convertToInteractive',\n",
              "                                                    [key], {});\n",
              "        if (!dataTable) return;\n",
              "\n",
              "        const docLinkHtml = 'Like what you see? Visit the ' +\n",
              "          '<a target=\"_blank\" href=https://colab.research.google.com/notebooks/data_table.ipynb>data table notebook</a>'\n",
              "          + ' to learn more about interactive tables.';\n",
              "        element.innerHTML = '';\n",
              "        dataTable['output_type'] = 'display_data';\n",
              "        await google.colab.output.renderOutput(dataTable, element);\n",
              "        const docLink = document.createElement('div');\n",
              "        docLink.innerHTML = docLinkHtml;\n",
              "        element.appendChild(docLink);\n",
              "      }\n",
              "    </script>\n",
              "  </div>\n",
              "\n",
              "\n",
              "<div id=\"df-df6b3dd6-b41a-4134-81ab-af085b22e378\">\n",
              "  <button class=\"colab-df-quickchart\" onclick=\"quickchart('df-df6b3dd6-b41a-4134-81ab-af085b22e378')\"\n",
              "            title=\"Suggest charts.\"\n",
              "            style=\"display:none;\">\n",
              "\n",
              "<svg xmlns=\"http://www.w3.org/2000/svg\" height=\"24px\"viewBox=\"0 0 24 24\"\n",
              "     width=\"24px\">\n",
              "    <g>\n",
              "        <path d=\"M19 3H5c-1.1 0-2 .9-2 2v14c0 1.1.9 2 2 2h14c1.1 0 2-.9 2-2V5c0-1.1-.9-2-2-2zM9 17H7v-7h2v7zm4 0h-2V7h2v10zm4 0h-2v-4h2v4z\"/>\n",
              "    </g>\n",
              "</svg>\n",
              "  </button>\n",
              "\n",
              "<style>\n",
              "  .colab-df-quickchart {\n",
              "      --bg-color: #E8F0FE;\n",
              "      --fill-color: #1967D2;\n",
              "      --hover-bg-color: #E2EBFA;\n",
              "      --hover-fill-color: #174EA6;\n",
              "      --disabled-fill-color: #AAA;\n",
              "      --disabled-bg-color: #DDD;\n",
              "  }\n",
              "\n",
              "  [theme=dark] .colab-df-quickchart {\n",
              "      --bg-color: #3B4455;\n",
              "      --fill-color: #D2E3FC;\n",
              "      --hover-bg-color: #434B5C;\n",
              "      --hover-fill-color: #FFFFFF;\n",
              "      --disabled-bg-color: #3B4455;\n",
              "      --disabled-fill-color: #666;\n",
              "  }\n",
              "\n",
              "  .colab-df-quickchart {\n",
              "    background-color: var(--bg-color);\n",
              "    border: none;\n",
              "    border-radius: 50%;\n",
              "    cursor: pointer;\n",
              "    display: none;\n",
              "    fill: var(--fill-color);\n",
              "    height: 32px;\n",
              "    padding: 0;\n",
              "    width: 32px;\n",
              "  }\n",
              "\n",
              "  .colab-df-quickchart:hover {\n",
              "    background-color: var(--hover-bg-color);\n",
              "    box-shadow: 0 1px 2px rgba(60, 64, 67, 0.3), 0 1px 3px 1px rgba(60, 64, 67, 0.15);\n",
              "    fill: var(--button-hover-fill-color);\n",
              "  }\n",
              "\n",
              "  .colab-df-quickchart-complete:disabled,\n",
              "  .colab-df-quickchart-complete:disabled:hover {\n",
              "    background-color: var(--disabled-bg-color);\n",
              "    fill: var(--disabled-fill-color);\n",
              "    box-shadow: none;\n",
              "  }\n",
              "\n",
              "  .colab-df-spinner {\n",
              "    border: 2px solid var(--fill-color);\n",
              "    border-color: transparent;\n",
              "    border-bottom-color: var(--fill-color);\n",
              "    animation:\n",
              "      spin 1s steps(1) infinite;\n",
              "  }\n",
              "\n",
              "  @keyframes spin {\n",
              "    0% {\n",
              "      border-color: transparent;\n",
              "      border-bottom-color: var(--fill-color);\n",
              "      border-left-color: var(--fill-color);\n",
              "    }\n",
              "    20% {\n",
              "      border-color: transparent;\n",
              "      border-left-color: var(--fill-color);\n",
              "      border-top-color: var(--fill-color);\n",
              "    }\n",
              "    30% {\n",
              "      border-color: transparent;\n",
              "      border-left-color: var(--fill-color);\n",
              "      border-top-color: var(--fill-color);\n",
              "      border-right-color: var(--fill-color);\n",
              "    }\n",
              "    40% {\n",
              "      border-color: transparent;\n",
              "      border-right-color: var(--fill-color);\n",
              "      border-top-color: var(--fill-color);\n",
              "    }\n",
              "    60% {\n",
              "      border-color: transparent;\n",
              "      border-right-color: var(--fill-color);\n",
              "    }\n",
              "    80% {\n",
              "      border-color: transparent;\n",
              "      border-right-color: var(--fill-color);\n",
              "      border-bottom-color: var(--fill-color);\n",
              "    }\n",
              "    90% {\n",
              "      border-color: transparent;\n",
              "      border-bottom-color: var(--fill-color);\n",
              "    }\n",
              "  }\n",
              "</style>\n",
              "\n",
              "  <script>\n",
              "    async function quickchart(key) {\n",
              "      const quickchartButtonEl =\n",
              "        document.querySelector('#' + key + ' button');\n",
              "      quickchartButtonEl.disabled = true;  // To prevent multiple clicks.\n",
              "      quickchartButtonEl.classList.add('colab-df-spinner');\n",
              "      try {\n",
              "        const charts = await google.colab.kernel.invokeFunction(\n",
              "            'suggestCharts', [key], {});\n",
              "      } catch (error) {\n",
              "        console.error('Error during call to suggestCharts:', error);\n",
              "      }\n",
              "      quickchartButtonEl.classList.remove('colab-df-spinner');\n",
              "      quickchartButtonEl.classList.add('colab-df-quickchart-complete');\n",
              "    }\n",
              "    (() => {\n",
              "      let quickchartButtonEl =\n",
              "        document.querySelector('#df-df6b3dd6-b41a-4134-81ab-af085b22e378 button');\n",
              "      quickchartButtonEl.style.display =\n",
              "        google.colab.kernel.accessAllowed ? 'block' : 'none';\n",
              "    })();\n",
              "  </script>\n",
              "</div>\n",
              "    </div>\n",
              "  </div>\n"
            ]
          },
          "metadata": {},
          "execution_count": 26
        }
      ]
    },
    {
      "cell_type": "code",
      "source": [
        "#Labelling the sentiment data.\n",
        "\n",
        "#Label Binarizer converts Categorical data and outputs into a Numpy array of 0s and 1s. Label Binarizer is used to encode column data.\n",
        "\n",
        "from sklearn.preprocessing import LabelBinarizer\n",
        "\n",
        "lb=LabelBinarizer()\n",
        "\n",
        "#Transformed sentiment data\n",
        "df['Label']=lb.fit_transform(df['Label'])"
      ],
      "metadata": {
        "id": "_cP6ERJJlxUH"
      },
      "execution_count": 27,
      "outputs": []
    },
    {
      "cell_type": "code",
      "source": [
        "### Check the DataFrame again\n",
        "df.head()"
      ],
      "metadata": {
        "colab": {
          "base_uri": "https://localhost:8080/",
          "height": 275
        },
        "id": "Io4N1-pLmAE-",
        "outputId": "726f24d3-c187-4ce1-878a-326dd108445b"
      },
      "execution_count": 28,
      "outputs": [
        {
          "output_type": "execute_result",
          "data": {
            "text/plain": [
              "                                              Review  Label  \\\n",
              "0  rock destined 21st centurys new conan hes goin...      1   \n",
              "1  gorgeously elaborate continuation lord rings t...      1   \n",
              "2                          effective tootepid biopic      1   \n",
              "3  sometimes like go movies fun wasabi good place...      1   \n",
              "4  emerges something rare issue movie thats hones...      1   \n",
              "\n",
              "                                     Review_stemming  \\\n",
              "0  rock destin 21st centuri new conan he go make ...   \n",
              "1  gorgeous elabor continu lord ring trilog huge ...   \n",
              "2                             effect tootepid biopic   \n",
              "3   sometim like go movi fun wasabi good place start   \n",
              "4  emerg someth rare issu movi that honest keenli...   \n",
              "\n",
              "                                  Review_lemmatizing  \n",
              "0  rock destined 21st century new conan he going ...  \n",
              "1  gorgeously elaborate continuation lord ring tr...  \n",
              "2                          effective tootepid biopic  \n",
              "3  sometimes like go movie fun wasabi good place ...  \n",
              "4  emerges something rare issue movie thats hones...  "
            ],
            "text/html": [
              "\n",
              "  <div id=\"df-fda6aad6-45cc-4b14-9c6a-1e4ace0d3d6c\" class=\"colab-df-container\">\n",
              "    <div>\n",
              "<style scoped>\n",
              "    .dataframe tbody tr th:only-of-type {\n",
              "        vertical-align: middle;\n",
              "    }\n",
              "\n",
              "    .dataframe tbody tr th {\n",
              "        vertical-align: top;\n",
              "    }\n",
              "\n",
              "    .dataframe thead th {\n",
              "        text-align: right;\n",
              "    }\n",
              "</style>\n",
              "<table border=\"1\" class=\"dataframe\">\n",
              "  <thead>\n",
              "    <tr style=\"text-align: right;\">\n",
              "      <th></th>\n",
              "      <th>Review</th>\n",
              "      <th>Label</th>\n",
              "      <th>Review_stemming</th>\n",
              "      <th>Review_lemmatizing</th>\n",
              "    </tr>\n",
              "  </thead>\n",
              "  <tbody>\n",
              "    <tr>\n",
              "      <th>0</th>\n",
              "      <td>rock destined 21st centurys new conan hes goin...</td>\n",
              "      <td>1</td>\n",
              "      <td>rock destin 21st centuri new conan he go make ...</td>\n",
              "      <td>rock destined 21st century new conan he going ...</td>\n",
              "    </tr>\n",
              "    <tr>\n",
              "      <th>1</th>\n",
              "      <td>gorgeously elaborate continuation lord rings t...</td>\n",
              "      <td>1</td>\n",
              "      <td>gorgeous elabor continu lord ring trilog huge ...</td>\n",
              "      <td>gorgeously elaborate continuation lord ring tr...</td>\n",
              "    </tr>\n",
              "    <tr>\n",
              "      <th>2</th>\n",
              "      <td>effective tootepid biopic</td>\n",
              "      <td>1</td>\n",
              "      <td>effect tootepid biopic</td>\n",
              "      <td>effective tootepid biopic</td>\n",
              "    </tr>\n",
              "    <tr>\n",
              "      <th>3</th>\n",
              "      <td>sometimes like go movies fun wasabi good place...</td>\n",
              "      <td>1</td>\n",
              "      <td>sometim like go movi fun wasabi good place start</td>\n",
              "      <td>sometimes like go movie fun wasabi good place ...</td>\n",
              "    </tr>\n",
              "    <tr>\n",
              "      <th>4</th>\n",
              "      <td>emerges something rare issue movie thats hones...</td>\n",
              "      <td>1</td>\n",
              "      <td>emerg someth rare issu movi that honest keenli...</td>\n",
              "      <td>emerges something rare issue movie thats hones...</td>\n",
              "    </tr>\n",
              "  </tbody>\n",
              "</table>\n",
              "</div>\n",
              "    <div class=\"colab-df-buttons\">\n",
              "\n",
              "  <div class=\"colab-df-container\">\n",
              "    <button class=\"colab-df-convert\" onclick=\"convertToInteractive('df-fda6aad6-45cc-4b14-9c6a-1e4ace0d3d6c')\"\n",
              "            title=\"Convert this dataframe to an interactive table.\"\n",
              "            style=\"display:none;\">\n",
              "\n",
              "  <svg xmlns=\"http://www.w3.org/2000/svg\" height=\"24px\" viewBox=\"0 -960 960 960\">\n",
              "    <path d=\"M120-120v-720h720v720H120Zm60-500h600v-160H180v160Zm220 220h160v-160H400v160Zm0 220h160v-160H400v160ZM180-400h160v-160H180v160Zm440 0h160v-160H620v160ZM180-180h160v-160H180v160Zm440 0h160v-160H620v160Z\"/>\n",
              "  </svg>\n",
              "    </button>\n",
              "\n",
              "  <style>\n",
              "    .colab-df-container {\n",
              "      display:flex;\n",
              "      gap: 12px;\n",
              "    }\n",
              "\n",
              "    .colab-df-convert {\n",
              "      background-color: #E8F0FE;\n",
              "      border: none;\n",
              "      border-radius: 50%;\n",
              "      cursor: pointer;\n",
              "      display: none;\n",
              "      fill: #1967D2;\n",
              "      height: 32px;\n",
              "      padding: 0 0 0 0;\n",
              "      width: 32px;\n",
              "    }\n",
              "\n",
              "    .colab-df-convert:hover {\n",
              "      background-color: #E2EBFA;\n",
              "      box-shadow: 0px 1px 2px rgba(60, 64, 67, 0.3), 0px 1px 3px 1px rgba(60, 64, 67, 0.15);\n",
              "      fill: #174EA6;\n",
              "    }\n",
              "\n",
              "    .colab-df-buttons div {\n",
              "      margin-bottom: 4px;\n",
              "    }\n",
              "\n",
              "    [theme=dark] .colab-df-convert {\n",
              "      background-color: #3B4455;\n",
              "      fill: #D2E3FC;\n",
              "    }\n",
              "\n",
              "    [theme=dark] .colab-df-convert:hover {\n",
              "      background-color: #434B5C;\n",
              "      box-shadow: 0px 1px 3px 1px rgba(0, 0, 0, 0.15);\n",
              "      filter: drop-shadow(0px 1px 2px rgba(0, 0, 0, 0.3));\n",
              "      fill: #FFFFFF;\n",
              "    }\n",
              "  </style>\n",
              "\n",
              "    <script>\n",
              "      const buttonEl =\n",
              "        document.querySelector('#df-fda6aad6-45cc-4b14-9c6a-1e4ace0d3d6c button.colab-df-convert');\n",
              "      buttonEl.style.display =\n",
              "        google.colab.kernel.accessAllowed ? 'block' : 'none';\n",
              "\n",
              "      async function convertToInteractive(key) {\n",
              "        const element = document.querySelector('#df-fda6aad6-45cc-4b14-9c6a-1e4ace0d3d6c');\n",
              "        const dataTable =\n",
              "          await google.colab.kernel.invokeFunction('convertToInteractive',\n",
              "                                                    [key], {});\n",
              "        if (!dataTable) return;\n",
              "\n",
              "        const docLinkHtml = 'Like what you see? Visit the ' +\n",
              "          '<a target=\"_blank\" href=https://colab.research.google.com/notebooks/data_table.ipynb>data table notebook</a>'\n",
              "          + ' to learn more about interactive tables.';\n",
              "        element.innerHTML = '';\n",
              "        dataTable['output_type'] = 'display_data';\n",
              "        await google.colab.output.renderOutput(dataTable, element);\n",
              "        const docLink = document.createElement('div');\n",
              "        docLink.innerHTML = docLinkHtml;\n",
              "        element.appendChild(docLink);\n",
              "      }\n",
              "    </script>\n",
              "  </div>\n",
              "\n",
              "\n",
              "<div id=\"df-6e899f78-c2e9-431e-b613-411db8a016ae\">\n",
              "  <button class=\"colab-df-quickchart\" onclick=\"quickchart('df-6e899f78-c2e9-431e-b613-411db8a016ae')\"\n",
              "            title=\"Suggest charts.\"\n",
              "            style=\"display:none;\">\n",
              "\n",
              "<svg xmlns=\"http://www.w3.org/2000/svg\" height=\"24px\"viewBox=\"0 0 24 24\"\n",
              "     width=\"24px\">\n",
              "    <g>\n",
              "        <path d=\"M19 3H5c-1.1 0-2 .9-2 2v14c0 1.1.9 2 2 2h14c1.1 0 2-.9 2-2V5c0-1.1-.9-2-2-2zM9 17H7v-7h2v7zm4 0h-2V7h2v10zm4 0h-2v-4h2v4z\"/>\n",
              "    </g>\n",
              "</svg>\n",
              "  </button>\n",
              "\n",
              "<style>\n",
              "  .colab-df-quickchart {\n",
              "      --bg-color: #E8F0FE;\n",
              "      --fill-color: #1967D2;\n",
              "      --hover-bg-color: #E2EBFA;\n",
              "      --hover-fill-color: #174EA6;\n",
              "      --disabled-fill-color: #AAA;\n",
              "      --disabled-bg-color: #DDD;\n",
              "  }\n",
              "\n",
              "  [theme=dark] .colab-df-quickchart {\n",
              "      --bg-color: #3B4455;\n",
              "      --fill-color: #D2E3FC;\n",
              "      --hover-bg-color: #434B5C;\n",
              "      --hover-fill-color: #FFFFFF;\n",
              "      --disabled-bg-color: #3B4455;\n",
              "      --disabled-fill-color: #666;\n",
              "  }\n",
              "\n",
              "  .colab-df-quickchart {\n",
              "    background-color: var(--bg-color);\n",
              "    border: none;\n",
              "    border-radius: 50%;\n",
              "    cursor: pointer;\n",
              "    display: none;\n",
              "    fill: var(--fill-color);\n",
              "    height: 32px;\n",
              "    padding: 0;\n",
              "    width: 32px;\n",
              "  }\n",
              "\n",
              "  .colab-df-quickchart:hover {\n",
              "    background-color: var(--hover-bg-color);\n",
              "    box-shadow: 0 1px 2px rgba(60, 64, 67, 0.3), 0 1px 3px 1px rgba(60, 64, 67, 0.15);\n",
              "    fill: var(--button-hover-fill-color);\n",
              "  }\n",
              "\n",
              "  .colab-df-quickchart-complete:disabled,\n",
              "  .colab-df-quickchart-complete:disabled:hover {\n",
              "    background-color: var(--disabled-bg-color);\n",
              "    fill: var(--disabled-fill-color);\n",
              "    box-shadow: none;\n",
              "  }\n",
              "\n",
              "  .colab-df-spinner {\n",
              "    border: 2px solid var(--fill-color);\n",
              "    border-color: transparent;\n",
              "    border-bottom-color: var(--fill-color);\n",
              "    animation:\n",
              "      spin 1s steps(1) infinite;\n",
              "  }\n",
              "\n",
              "  @keyframes spin {\n",
              "    0% {\n",
              "      border-color: transparent;\n",
              "      border-bottom-color: var(--fill-color);\n",
              "      border-left-color: var(--fill-color);\n",
              "    }\n",
              "    20% {\n",
              "      border-color: transparent;\n",
              "      border-left-color: var(--fill-color);\n",
              "      border-top-color: var(--fill-color);\n",
              "    }\n",
              "    30% {\n",
              "      border-color: transparent;\n",
              "      border-left-color: var(--fill-color);\n",
              "      border-top-color: var(--fill-color);\n",
              "      border-right-color: var(--fill-color);\n",
              "    }\n",
              "    40% {\n",
              "      border-color: transparent;\n",
              "      border-right-color: var(--fill-color);\n",
              "      border-top-color: var(--fill-color);\n",
              "    }\n",
              "    60% {\n",
              "      border-color: transparent;\n",
              "      border-right-color: var(--fill-color);\n",
              "    }\n",
              "    80% {\n",
              "      border-color: transparent;\n",
              "      border-right-color: var(--fill-color);\n",
              "      border-bottom-color: var(--fill-color);\n",
              "    }\n",
              "    90% {\n",
              "      border-color: transparent;\n",
              "      border-bottom-color: var(--fill-color);\n",
              "    }\n",
              "  }\n",
              "</style>\n",
              "\n",
              "  <script>\n",
              "    async function quickchart(key) {\n",
              "      const quickchartButtonEl =\n",
              "        document.querySelector('#' + key + ' button');\n",
              "      quickchartButtonEl.disabled = true;  // To prevent multiple clicks.\n",
              "      quickchartButtonEl.classList.add('colab-df-spinner');\n",
              "      try {\n",
              "        const charts = await google.colab.kernel.invokeFunction(\n",
              "            'suggestCharts', [key], {});\n",
              "      } catch (error) {\n",
              "        console.error('Error during call to suggestCharts:', error);\n",
              "      }\n",
              "      quickchartButtonEl.classList.remove('colab-df-spinner');\n",
              "      quickchartButtonEl.classList.add('colab-df-quickchart-complete');\n",
              "    }\n",
              "    (() => {\n",
              "      let quickchartButtonEl =\n",
              "        document.querySelector('#df-6e899f78-c2e9-431e-b613-411db8a016ae button');\n",
              "      quickchartButtonEl.style.display =\n",
              "        google.colab.kernel.accessAllowed ? 'block' : 'none';\n",
              "    })();\n",
              "  </script>\n",
              "</div>\n",
              "    </div>\n",
              "  </div>\n"
            ]
          },
          "metadata": {},
          "execution_count": 28
        }
      ]
    },
    {
      "cell_type": "markdown",
      "source": [
        "# Additional Reading - Building Models using Bag of Words Model"
      ],
      "metadata": {
        "id": "62IlmJJmmclq"
      }
    },
    {
      "cell_type": "code",
      "source": [
        "norm_reviews = df.Review_lemmatizing"
      ],
      "metadata": {
        "id": "GJs35H3smOOu"
      },
      "execution_count": 29,
      "outputs": []
    },
    {
      "cell_type": "code",
      "source": [
        "norm_reviews"
      ],
      "metadata": {
        "colab": {
          "base_uri": "https://localhost:8080/"
        },
        "id": "P2E2VusAmnRd",
        "outputId": "222eaf0d-38ec-4965-c9db-688ba5b5651e"
      },
      "execution_count": 30,
      "outputs": [
        {
          "output_type": "execute_result",
          "data": {
            "text/plain": [
              "0        rock destined 21st century new conan he going ...\n",
              "1        gorgeously elaborate continuation lord ring tr...\n",
              "2                                effective tootepid biopic\n",
              "3        sometimes like go movie fun wasabi good place ...\n",
              "4        emerges something rare issue movie thats hones...\n",
              "                               ...                        \n",
              "10657       terrible movie people nevertheless find moving\n",
              "10658    many definition time waster movie must surely one\n",
              "10659    stand crocodile hunter hurried badly cobbled l...\n",
              "10660             thing look like madeforhomevideo quickie\n",
              "10661                           enigma wellmade dry placid\n",
              "Name: Review_lemmatizing, Length: 10662, dtype: object"
            ]
          },
          "metadata": {},
          "execution_count": 30
        }
      ]
    },
    {
      "cell_type": "code",
      "source": [
        "from sklearn.feature_extraction.text import CountVectorizer\n",
        "\n",
        "#Creating a matrix with reviews in row and unique words as columns and frequency of word in review as values.\n",
        "#Count vectorizer for bag of words\n",
        "cv=CountVectorizer()\n",
        "\n",
        "#Fitting model on entire data\n",
        "cv_fit = cv.fit(norm_reviews)"
      ],
      "metadata": {
        "id": "D6RCp1iOm9bx"
      },
      "execution_count": 31,
      "outputs": []
    },
    {
      "cell_type": "code",
      "source": [
        "#Calculating sentiment count. imdb['sentiment'] now has the cleaned review text\n",
        "df['Label'].value_counts()"
      ],
      "metadata": {
        "colab": {
          "base_uri": "https://localhost:8080/"
        },
        "id": "j6kI0BRjnlEi",
        "outputId": "7912ec58-16fa-457d-f61a-c33be55cccf4"
      },
      "execution_count": 32,
      "outputs": [
        {
          "output_type": "execute_result",
          "data": {
            "text/plain": [
              "1    5331\n",
              "0    5331\n",
              "Name: Label, dtype: int64"
            ]
          },
          "metadata": {},
          "execution_count": 32
        }
      ]
    },
    {
      "cell_type": "code",
      "source": [
        "# Split the data into training and train sets\n",
        "from sklearn.model_selection import train_test_split\n",
        "X_cv_fit_train, X_cv_fit_test, y_train, y_test = train_test_split(norm_reviews, df['Label'], test_size = 0.3, random_state = 1)"
      ],
      "metadata": {
        "id": "MJYHufonnxS6"
      },
      "execution_count": 33,
      "outputs": []
    },
    {
      "cell_type": "code",
      "source": [
        "# Normalizing train reviews with bag of words model\n",
        "X_cv_fit_train = cv_fit.transform(X_cv_fit_train)\n",
        "\n",
        "#Normalised test reviews with bag of words model\n",
        "X_cv_fit_test = cv_fit.transform(X_cv_fit_test)"
      ],
      "metadata": {
        "id": "i8XrF4Aon5km"
      },
      "execution_count": 34,
      "outputs": []
    },
    {
      "cell_type": "code",
      "source": [
        "print(X_cv_fit_train.shape)\n",
        "print(X_cv_fit_test.shape)"
      ],
      "metadata": {
        "colab": {
          "base_uri": "https://localhost:8080/"
        },
        "id": "dC_gBsDrn-wt",
        "outputId": "2bb28d05-fd7a-4b86-a589-f4d2302eb4b2"
      },
      "execution_count": 35,
      "outputs": [
        {
          "output_type": "stream",
          "name": "stdout",
          "text": [
            "(7463, 18402)\n",
            "(3199, 18402)\n"
          ]
        }
      ]
    },
    {
      "cell_type": "code",
      "source": [
        "# Build the logistic regression model for the data\n",
        "from sklearn.linear_model import LogisticRegression\n",
        "\n",
        "#Training the model\n",
        "lr = LogisticRegression(penalty = 'l2', max_iter = 500, C=1, random_state=42).fit(X_cv_fit_train, y_train)\n",
        "\n",
        "\n",
        "#Fitting the model for tf-idf features\n",
        "lr_bow=lr.fit(X_cv_fit_train,y_train)\n",
        "print(lr_bow)"
      ],
      "metadata": {
        "colab": {
          "base_uri": "https://localhost:8080/"
        },
        "id": "Zezb9loJoBmo",
        "outputId": "e774735b-6fea-47f6-d8d1-be35c65119b6"
      },
      "execution_count": 36,
      "outputs": [
        {
          "output_type": "stream",
          "name": "stdout",
          "text": [
            "LogisticRegression(C=1, max_iter=500, random_state=42)\n"
          ]
        }
      ]
    },
    {
      "cell_type": "code",
      "source": [
        "y_pred_bow = lr_bow.predict(X_cv_fit_test)"
      ],
      "metadata": {
        "id": "_z9OfG8PoG6J"
      },
      "execution_count": 37,
      "outputs": []
    },
    {
      "cell_type": "code",
      "source": [
        "## Model Evaluation\n",
        "from sklearn.metrics import accuracy_score\n",
        "\n",
        "print('Validation set Accuracy: %.3f' % accuracy_score(y_test,y_pred_bow))"
      ],
      "metadata": {
        "colab": {
          "base_uri": "https://localhost:8080/"
        },
        "id": "ubNGX21doK6y",
        "outputId": "a8ae7b9b-9ee2-4d85-8b4f-b694b2050d22"
      },
      "execution_count": 38,
      "outputs": [
        {
          "output_type": "stream",
          "name": "stdout",
          "text": [
            "Validation set Accuracy: 0.746\n"
          ]
        }
      ]
    },
    {
      "cell_type": "code",
      "source": [
        "#Classification report for bag of words\n",
        "from sklearn.metrics import classification_report\n",
        "lr_bow_report=classification_report(y_test, y_pred_bow,target_names=['Positive','Negative'])\n",
        "print(lr_bow_report)"
      ],
      "metadata": {
        "colab": {
          "base_uri": "https://localhost:8080/"
        },
        "id": "Jkec-7HmoOlD",
        "outputId": "b310bce7-b8ca-4473-b854-52b50d482792"
      },
      "execution_count": 39,
      "outputs": [
        {
          "output_type": "stream",
          "name": "stdout",
          "text": [
            "              precision    recall  f1-score   support\n",
            "\n",
            "    Positive       0.74      0.75      0.75      1595\n",
            "    Negative       0.75      0.74      0.75      1604\n",
            "\n",
            "    accuracy                           0.75      3199\n",
            "   macro avg       0.75      0.75      0.75      3199\n",
            "weighted avg       0.75      0.75      0.75      3199\n",
            "\n"
          ]
        }
      ]
    },
    {
      "cell_type": "code",
      "source": [
        "from sklearn.tree import DecisionTreeClassifier\n",
        "\n",
        "#Training the model\n",
        "dt = DecisionTreeClassifier().fit(X_cv_fit_train, y_train)\n",
        "\n",
        "\n",
        "#Fitting the model for tf-idf features\n",
        "dt_bow=dt.fit(X_cv_fit_train,y_train)\n",
        "print(dt_bow)"
      ],
      "metadata": {
        "colab": {
          "base_uri": "https://localhost:8080/"
        },
        "id": "l_kcz6TooR1G",
        "outputId": "87e9d26b-3564-49b6-a7ed-08358657d589"
      },
      "execution_count": 40,
      "outputs": [
        {
          "output_type": "stream",
          "name": "stdout",
          "text": [
            "DecisionTreeClassifier()\n"
          ]
        }
      ]
    },
    {
      "cell_type": "code",
      "source": [
        "y_pred_bow = dt_bow.predict(X_cv_fit_test)"
      ],
      "metadata": {
        "id": "2tKhbQnjpGIN"
      },
      "execution_count": 41,
      "outputs": []
    },
    {
      "cell_type": "code",
      "source": [
        "## Model Evaluation\n",
        "from sklearn.metrics import accuracy_score\n",
        "\n",
        "print('Validation set Accuracy: %.3f' % accuracy_score(y_test,y_pred_bow))"
      ],
      "metadata": {
        "colab": {
          "base_uri": "https://localhost:8080/"
        },
        "id": "7mXwB2zQpPVZ",
        "outputId": "a5495bd3-cb7e-4330-c790-ce4908221e29"
      },
      "execution_count": 42,
      "outputs": [
        {
          "output_type": "stream",
          "name": "stdout",
          "text": [
            "Validation set Accuracy: 0.647\n"
          ]
        }
      ]
    },
    {
      "cell_type": "code",
      "source": [
        "#Classification report for bag of words\n",
        "from sklearn.metrics import classification_report\n",
        "dt_bow_report=classification_report(y_test, y_pred_bow,target_names=['Positive','Negative'])\n",
        "print(dt_bow_report)"
      ],
      "metadata": {
        "colab": {
          "base_uri": "https://localhost:8080/"
        },
        "id": "2XJrNm3CpULr",
        "outputId": "2355ab17-73f8-4153-cdc5-922de27f83b6"
      },
      "execution_count": 43,
      "outputs": [
        {
          "output_type": "stream",
          "name": "stdout",
          "text": [
            "              precision    recall  f1-score   support\n",
            "\n",
            "    Positive       0.64      0.67      0.65      1595\n",
            "    Negative       0.65      0.63      0.64      1604\n",
            "\n",
            "    accuracy                           0.65      3199\n",
            "   macro avg       0.65      0.65      0.65      3199\n",
            "weighted avg       0.65      0.65      0.65      3199\n",
            "\n"
          ]
        }
      ]
    },
    {
      "cell_type": "code",
      "source": [
        "from sklearn.neighbors import KNeighborsClassifier\n",
        "\n",
        "#Training the model\n",
        "knn = KNeighborsClassifier().fit(X_cv_fit_train, y_train)\n",
        "\n",
        "\n",
        "#Fitting the model for tf-idf features\n",
        "knn_bow=knn.fit(X_cv_fit_train,y_train)\n",
        "print(knn_bow)"
      ],
      "metadata": {
        "colab": {
          "base_uri": "https://localhost:8080/"
        },
        "id": "HZDMN_a2pb9Y",
        "outputId": "7f088696-87c5-4855-aaf6-9583f3b8f768"
      },
      "execution_count": 44,
      "outputs": [
        {
          "output_type": "stream",
          "name": "stdout",
          "text": [
            "KNeighborsClassifier()\n"
          ]
        }
      ]
    },
    {
      "cell_type": "code",
      "source": [
        "y_pred_bow = knn_bow.predict(X_cv_fit_test)"
      ],
      "metadata": {
        "id": "hoz9Qom4pwUv"
      },
      "execution_count": 45,
      "outputs": []
    },
    {
      "cell_type": "code",
      "source": [
        "## Model Evaluation\n",
        "from sklearn.metrics import accuracy_score\n",
        "\n",
        "print('Validation set Accuracy: %.3f' % accuracy_score(y_test,y_pred_bow))"
      ],
      "metadata": {
        "colab": {
          "base_uri": "https://localhost:8080/"
        },
        "id": "hs60rTo1p5MP",
        "outputId": "46da01b6-e313-42ff-88c0-56d89e68953d"
      },
      "execution_count": 46,
      "outputs": [
        {
          "output_type": "stream",
          "name": "stdout",
          "text": [
            "Validation set Accuracy: 0.560\n"
          ]
        }
      ]
    },
    {
      "cell_type": "code",
      "source": [
        "#Classification report for bag of words\n",
        "from sklearn.metrics import classification_report\n",
        "knn_bow_report=classification_report(y_test, y_pred_bow,target_names=['Positive','Negative'])\n",
        "print(knn_bow_report)"
      ],
      "metadata": {
        "colab": {
          "base_uri": "https://localhost:8080/"
        },
        "id": "xRBFOxj0p9Qg",
        "outputId": "7a3d7821-2a77-42b7-c691-b664e0ab7aef"
      },
      "execution_count": 47,
      "outputs": [
        {
          "output_type": "stream",
          "name": "stdout",
          "text": [
            "              precision    recall  f1-score   support\n",
            "\n",
            "    Positive       0.54      0.74      0.63      1595\n",
            "    Negative       0.60      0.38      0.47      1604\n",
            "\n",
            "    accuracy                           0.56      3199\n",
            "   macro avg       0.57      0.56      0.55      3199\n",
            "weighted avg       0.57      0.56      0.55      3199\n",
            "\n"
          ]
        }
      ]
    },
    {
      "cell_type": "code",
      "source": [
        "from sklearn.ensemble import RandomForestClassifier\n",
        "\n",
        "#Training the model\n",
        "rf = RandomForestClassifier().fit(X_cv_fit_train, y_train)\n",
        "\n",
        "\n",
        "#Fitting the model for tf-idf features\n",
        "rf_bow=rf.fit(X_cv_fit_train,y_train)\n",
        "print(rf_bow)\n"
      ],
      "metadata": {
        "colab": {
          "base_uri": "https://localhost:8080/"
        },
        "id": "Jfov0yMsqD4g",
        "outputId": "59faf5b4-1e35-4848-9359-deffb6996aaf"
      },
      "execution_count": 48,
      "outputs": [
        {
          "output_type": "stream",
          "name": "stdout",
          "text": [
            "RandomForestClassifier()\n"
          ]
        }
      ]
    },
    {
      "cell_type": "code",
      "source": [
        "y_pred_bow = rf_bow.predict(X_cv_fit_test)"
      ],
      "metadata": {
        "id": "tYWg6QFwqkV5"
      },
      "execution_count": 49,
      "outputs": []
    },
    {
      "cell_type": "code",
      "source": [
        "## Model Evaluation\n",
        "from sklearn.metrics import accuracy_score\n",
        "\n",
        "print('Validation set Accuracy: %.3f' % accuracy_score(y_test,y_pred_bow))"
      ],
      "metadata": {
        "colab": {
          "base_uri": "https://localhost:8080/"
        },
        "id": "4cgN7e0Sq0Mv",
        "outputId": "4c5802fa-188b-40a5-c691-16c79747530e"
      },
      "execution_count": 50,
      "outputs": [
        {
          "output_type": "stream",
          "name": "stdout",
          "text": [
            "Validation set Accuracy: 0.703\n"
          ]
        }
      ]
    },
    {
      "cell_type": "code",
      "source": [
        "#Classification report for bag of words\n",
        "from sklearn.metrics import classification_report\n",
        "rf_bow_report=classification_report(y_test, y_pred_bow,target_names=['Positive','Negative'])\n",
        "print(rf_bow_report)"
      ],
      "metadata": {
        "colab": {
          "base_uri": "https://localhost:8080/"
        },
        "id": "5cH5t_ZKq5il",
        "outputId": "25ad46e8-1adb-446b-abb5-dc0c92471092"
      },
      "execution_count": 51,
      "outputs": [
        {
          "output_type": "stream",
          "name": "stdout",
          "text": [
            "              precision    recall  f1-score   support\n",
            "\n",
            "    Positive       0.68      0.75      0.72      1595\n",
            "    Negative       0.72      0.66      0.69      1604\n",
            "\n",
            "    accuracy                           0.70      3199\n",
            "   macro avg       0.70      0.70      0.70      3199\n",
            "weighted avg       0.70      0.70      0.70      3199\n",
            "\n"
          ]
        }
      ]
    },
    {
      "cell_type": "markdown",
      "source": [
        "##  Create a Tf-Idf object and fit the reviews"
      ],
      "metadata": {
        "id": "H3sC0q0htri9"
      }
    },
    {
      "cell_type": "code",
      "source": [
        "from sklearn.feature_extraction.text import TfidfVectorizer\n",
        "\n",
        "tfidf_vectorizer = TfidfVectorizer()\n",
        "\n",
        "#Normalize the reviews for fitting the tf-idf model\n",
        "norm_reviews = df.Review_lemmatizing\n",
        "\n",
        "## Fit the tfidf_vectorizer\n",
        "tv_fit = tfidf_vectorizer.fit(norm_reviews)"
      ],
      "metadata": {
        "id": "OfM876e1rBuP"
      },
      "execution_count": 52,
      "outputs": []
    },
    {
      "cell_type": "code",
      "source": [
        "## Split the data into training and train sets\n",
        "from sklearn.model_selection import train_test_split\n",
        "X_tv_fit_train, X_tv_fit_test, y_train, y_test = train_test_split(norm_reviews, df['Label'], test_size = 0.3, random_state = 1)"
      ],
      "metadata": {
        "id": "ZGRxlLVzt1vw"
      },
      "execution_count": 53,
      "outputs": []
    },
    {
      "cell_type": "code",
      "source": [
        "# Normalizing train reviews with tfidf model\n",
        "X_tv_fit_train = tv_fit.transform(X_tv_fit_train)"
      ],
      "metadata": {
        "id": "2NzlRnuIuGyA"
      },
      "execution_count": 54,
      "outputs": []
    },
    {
      "cell_type": "code",
      "source": [
        "#Normalised test reviews with tfidf model\n",
        "X_tv_fit_test = tv_fit.transform(X_tv_fit_test)"
      ],
      "metadata": {
        "id": "ENvw25pYuKJR"
      },
      "execution_count": 55,
      "outputs": []
    },
    {
      "cell_type": "code",
      "source": [
        "print(X_tv_fit_train.shape)\n",
        "print(X_tv_fit_test.shape)"
      ],
      "metadata": {
        "colab": {
          "base_uri": "https://localhost:8080/"
        },
        "id": "hTE6AsBLuP6g",
        "outputId": "b02e6ce9-9986-4fde-a2f6-e6ba7ee7a0d0"
      },
      "execution_count": 56,
      "outputs": [
        {
          "output_type": "stream",
          "name": "stdout",
          "text": [
            "(7463, 18402)\n",
            "(3199, 18402)\n"
          ]
        }
      ]
    },
    {
      "cell_type": "code",
      "source": [
        "# Build the logistic regression model for the data\n",
        "from sklearn.linear_model import LogisticRegression\n",
        "\n",
        "#Training the model\n",
        "lr = LogisticRegression(penalty = 'l2', max_iter = 500, C=1, random_state=42).fit(X_tv_fit_train, y_train)"
      ],
      "metadata": {
        "id": "CxlhRCDSuTZE"
      },
      "execution_count": 57,
      "outputs": []
    },
    {
      "cell_type": "code",
      "source": [
        "## Model Evaluation\n",
        "from sklearn.metrics import accuracy_score\n",
        "\n",
        "# Predictions at threshold = 0.5\n",
        "y_pred = lr.predict(X_tv_fit_test)\n",
        "\n",
        "print('Validation set Accuracy: %.3f' % accuracy_score(y_test,y_pred))"
      ],
      "metadata": {
        "colab": {
          "base_uri": "https://localhost:8080/"
        },
        "id": "7bCkw8q3udWa",
        "outputId": "ec69b505-ffec-4f8b-f7da-4d87f5ef30c3"
      },
      "execution_count": 58,
      "outputs": [
        {
          "output_type": "stream",
          "name": "stdout",
          "text": [
            "Validation set Accuracy: 0.751\n"
          ]
        }
      ]
    },
    {
      "cell_type": "code",
      "source": [
        "#Classification report for tf-idf\n",
        "from sklearn.metrics import classification_report\n",
        "lr_bow_report=classification_report(y_test, y_pred,target_names=['Positive','Negative'])\n",
        "print(lr_bow_report)"
      ],
      "metadata": {
        "colab": {
          "base_uri": "https://localhost:8080/"
        },
        "id": "S6QWlaWquiq7",
        "outputId": "0db10cf8-4ddd-49a4-a2bf-0677f0646821"
      },
      "execution_count": 59,
      "outputs": [
        {
          "output_type": "stream",
          "name": "stdout",
          "text": [
            "              precision    recall  f1-score   support\n",
            "\n",
            "    Positive       0.74      0.76      0.75      1595\n",
            "    Negative       0.76      0.74      0.75      1604\n",
            "\n",
            "    accuracy                           0.75      3199\n",
            "   macro avg       0.75      0.75      0.75      3199\n",
            "weighted avg       0.75      0.75      0.75      3199\n",
            "\n"
          ]
        }
      ]
    },
    {
      "cell_type": "code",
      "source": [
        "from sklearn.tree import DecisionTreeClassifier\n",
        "\n",
        "#Training the model\n",
        "dt = DecisionTreeClassifier().fit(X_tv_fit_train, y_train)\n",
        "\n",
        "\n",
        "#Fitting the model for tf-idf features\n",
        "dt_bow=dt.fit(X_tv_fit_train,y_train)\n",
        "print(dt_bow)"
      ],
      "metadata": {
        "colab": {
          "base_uri": "https://localhost:8080/"
        },
        "id": "1nRaGflsunRV",
        "outputId": "5c550e54-085f-446f-db31-ceef6bfa1744"
      },
      "execution_count": 60,
      "outputs": [
        {
          "output_type": "stream",
          "name": "stdout",
          "text": [
            "DecisionTreeClassifier()\n"
          ]
        }
      ]
    },
    {
      "cell_type": "code",
      "source": [
        "## Model Evaluation\n",
        "from sklearn.metrics import accuracy_score\n",
        "\n",
        "# Predictions at threshold = 0.5\n",
        "y_pred = dt_bow.predict(X_tv_fit_test)\n",
        "\n",
        "print('Validation set Accuracy: %.3f' % accuracy_score(y_test,y_pred))"
      ],
      "metadata": {
        "colab": {
          "base_uri": "https://localhost:8080/"
        },
        "id": "jKCvRiKxu4g6",
        "outputId": "8d009ca9-8762-4be8-d4f1-debbbf54a203"
      },
      "execution_count": 61,
      "outputs": [
        {
          "output_type": "stream",
          "name": "stdout",
          "text": [
            "Validation set Accuracy: 0.609\n"
          ]
        }
      ]
    },
    {
      "cell_type": "code",
      "source": [
        "#Classification report for tf-idf\n",
        "from sklearn.metrics import classification_report\n",
        "dt_bow_report=classification_report(y_test, y_pred,target_names=['Positive','Negative'])\n",
        "print(dt_bow_report)"
      ],
      "metadata": {
        "colab": {
          "base_uri": "https://localhost:8080/"
        },
        "id": "ANlcoLWNvD8n",
        "outputId": "adbca664-0da2-4bb3-9c8f-87709864abf1"
      },
      "execution_count": 62,
      "outputs": [
        {
          "output_type": "stream",
          "name": "stdout",
          "text": [
            "              precision    recall  f1-score   support\n",
            "\n",
            "    Positive       0.60      0.63      0.62      1595\n",
            "    Negative       0.61      0.59      0.60      1604\n",
            "\n",
            "    accuracy                           0.61      3199\n",
            "   macro avg       0.61      0.61      0.61      3199\n",
            "weighted avg       0.61      0.61      0.61      3199\n",
            "\n"
          ]
        }
      ]
    },
    {
      "cell_type": "code",
      "source": [
        "from sklearn.neighbors import KNeighborsClassifier\n",
        "\n",
        "#Training the model\n",
        "knn = KNeighborsClassifier().fit(X_tv_fit_train, y_train)\n",
        "\n",
        "\n",
        "#Fitting the model for tf-idf features\n",
        "knn_bow=knn.fit(X_tv_fit_train,y_train)\n",
        "print(knn_bow)"
      ],
      "metadata": {
        "colab": {
          "base_uri": "https://localhost:8080/"
        },
        "id": "8--j4MJwvP8y",
        "outputId": "01bbd59c-307d-4bf5-e67d-18bb82bf48df"
      },
      "execution_count": 63,
      "outputs": [
        {
          "output_type": "stream",
          "name": "stdout",
          "text": [
            "KNeighborsClassifier()\n"
          ]
        }
      ]
    },
    {
      "cell_type": "code",
      "source": [
        "## Model Evaluation\n",
        "from sklearn.metrics import accuracy_score\n",
        "\n",
        "# Predictions at threshold = 0.5\n",
        "y_pred = knn_bow.predict(X_tv_fit_test)\n",
        "\n",
        "print('Validation set Accuracy: %.3f' % accuracy_score(y_test,y_pred))"
      ],
      "metadata": {
        "colab": {
          "base_uri": "https://localhost:8080/"
        },
        "id": "wzBkpNSvvakT",
        "outputId": "1e817178-7bcd-4689-a79c-4588080d5ad4"
      },
      "execution_count": 64,
      "outputs": [
        {
          "output_type": "stream",
          "name": "stdout",
          "text": [
            "Validation set Accuracy: 0.695\n"
          ]
        }
      ]
    },
    {
      "cell_type": "code",
      "source": [
        "#Classification report for tf-idf\n",
        "from sklearn.metrics import classification_report\n",
        "knn_bow_report=classification_report(y_test, y_pred,target_names=['Positive','Negative'])\n",
        "print(knn_bow_report)"
      ],
      "metadata": {
        "colab": {
          "base_uri": "https://localhost:8080/"
        },
        "id": "lk5gyM4Ovf8L",
        "outputId": "fdd7dc60-16c4-432e-859f-d291128eef15"
      },
      "execution_count": 65,
      "outputs": [
        {
          "output_type": "stream",
          "name": "stdout",
          "text": [
            "              precision    recall  f1-score   support\n",
            "\n",
            "    Positive       0.70      0.68      0.69      1595\n",
            "    Negative       0.69      0.71      0.70      1604\n",
            "\n",
            "    accuracy                           0.70      3199\n",
            "   macro avg       0.70      0.70      0.70      3199\n",
            "weighted avg       0.70      0.70      0.70      3199\n",
            "\n"
          ]
        }
      ]
    },
    {
      "cell_type": "code",
      "source": [
        "from sklearn.ensemble import RandomForestClassifier\n",
        "\n",
        "#Training the model\n",
        "rf = RandomForestClassifier().fit(X_tv_fit_train, y_train)\n",
        "\n",
        "\n",
        "#Fitting the model for tf-idf features\n",
        "rf_bow=rf.fit(X_tv_fit_train,y_train)\n",
        "print(rf_bow)\n"
      ],
      "metadata": {
        "colab": {
          "base_uri": "https://localhost:8080/"
        },
        "id": "S1YNATy4vmjy",
        "outputId": "25769af9-9659-4c47-f5fc-93fa8b80694b"
      },
      "execution_count": 66,
      "outputs": [
        {
          "output_type": "stream",
          "name": "stdout",
          "text": [
            "RandomForestClassifier()\n"
          ]
        }
      ]
    },
    {
      "cell_type": "code",
      "source": [
        "## Model Evaluation\n",
        "from sklearn.metrics import accuracy_score\n",
        "\n",
        "# Predictions at threshold = 0.5\n",
        "y_pred = rf_bow.predict(X_tv_fit_test)\n",
        "\n",
        "print('Validation set Accuracy: %.3f' % accuracy_score(y_test,y_pred))"
      ],
      "metadata": {
        "colab": {
          "base_uri": "https://localhost:8080/"
        },
        "id": "THFt2iL2vwGV",
        "outputId": "b3991dd0-74d2-42b6-8cfc-2f21faf18764"
      },
      "execution_count": 67,
      "outputs": [
        {
          "output_type": "stream",
          "name": "stdout",
          "text": [
            "Validation set Accuracy: 0.690\n"
          ]
        }
      ]
    },
    {
      "cell_type": "code",
      "source": [
        "#Classification report for tf-idf\n",
        "from sklearn.metrics import classification_report\n",
        "rf_bow_report=classification_report(y_test, y_pred,target_names=['Positive','Negative'])\n",
        "print(rf_bow_report)"
      ],
      "metadata": {
        "colab": {
          "base_uri": "https://localhost:8080/"
        },
        "id": "aBAvm8X8v-iv",
        "outputId": "585fbd21-f6e3-49e1-c320-09940c2dab7a"
      },
      "execution_count": 68,
      "outputs": [
        {
          "output_type": "stream",
          "name": "stdout",
          "text": [
            "              precision    recall  f1-score   support\n",
            "\n",
            "    Positive       0.66      0.78      0.71      1595\n",
            "    Negative       0.73      0.60      0.66      1604\n",
            "\n",
            "    accuracy                           0.69      3199\n",
            "   macro avg       0.70      0.69      0.69      3199\n",
            "weighted avg       0.70      0.69      0.69      3199\n",
            "\n"
          ]
        }
      ]
    },
    {
      "cell_type": "markdown",
      "source": [
        "#### Build a deep learning model"
      ],
      "metadata": {
        "id": "ZB1vMCewySxB"
      }
    },
    {
      "cell_type": "code",
      "source": [
        "import tensorflow as tf\n",
        "from tensorflow import keras"
      ],
      "metadata": {
        "id": "I8fkkpzU1zJK"
      },
      "execution_count": 69,
      "outputs": []
    },
    {
      "cell_type": "code",
      "source": [
        "## converting the sparse Tf-idf matrix to a sparse tensor\n",
        "\n",
        "\n",
        "def convert_sparse_matrix_to_sparse_tensor(X):\n",
        "    coo = X.tocoo()\n",
        "    indices = np.mat([coo.row, coo.col]).transpose()\n",
        "    return tf.SparseTensor(indices, coo.data, coo.shape)"
      ],
      "metadata": {
        "id": "osCz0UBnzFGu"
      },
      "execution_count": 70,
      "outputs": []
    },
    {
      "cell_type": "code",
      "source": [
        "x_train_sparse_tensor = convert_sparse_matrix_to_sparse_tensor(X_tv_fit_train)"
      ],
      "metadata": {
        "id": "UEdluIFJ1NRm"
      },
      "execution_count": 71,
      "outputs": []
    },
    {
      "cell_type": "code",
      "source": [
        "x_train_sparse_tensor_reordered = tf.sparse.reorder(x_train_sparse_tensor)"
      ],
      "metadata": {
        "id": "sMp-Lkv-3gG3"
      },
      "execution_count": 72,
      "outputs": []
    },
    {
      "cell_type": "code",
      "source": [
        "x_test_sparse_tensor = convert_sparse_matrix_to_sparse_tensor(X_tv_fit_test)"
      ],
      "metadata": {
        "id": "bYjUPs_K3vUR"
      },
      "execution_count": 73,
      "outputs": []
    },
    {
      "cell_type": "code",
      "source": [
        "x_test_sparse_tensor_reordered = tf.sparse.reorder(x_test_sparse_tensor)"
      ],
      "metadata": {
        "id": "bW-ru_rZ965A"
      },
      "execution_count": 74,
      "outputs": []
    },
    {
      "cell_type": "code",
      "source": [
        "# Import methods for building neural networks\n",
        "import tensorflow as tf\n",
        "from tensorflow import keras\n",
        "from tensorflow.keras import layers\n",
        "\n"
      ],
      "metadata": {
        "id": "FIpnbbcO-f2r"
      },
      "execution_count": 75,
      "outputs": []
    },
    {
      "cell_type": "code",
      "source": [
        "num_classes = 2"
      ],
      "metadata": {
        "id": "UAG4_zLq-03E"
      },
      "execution_count": 76,
      "outputs": []
    },
    {
      "cell_type": "code",
      "source": [
        "from keras.api._v2.keras import activations\n",
        "def create_nn(activation_function, hidden1_neurons=256):\n",
        "  input_layer = keras.Input(shape=18402,sparse=True)\n",
        "\n",
        "  hidden1 = layers.Dense(units=hidden1_neurons,activation=activation_function)(input_layer)\n",
        "\n",
        "  hidden2 = layers.Dense(units=64,activation=activation_function)(hidden1)\n",
        "\n",
        "  output_layer = layers.Dense(units=1)(hidden2)\n",
        "\n",
        "  model = keras.Model(inputs=input_layer, outputs=output_layer)\n",
        "\n",
        "  return model\n",
        "\n"
      ],
      "metadata": {
        "id": "lr6ynZtP96-1"
      },
      "execution_count": 77,
      "outputs": []
    },
    {
      "cell_type": "code",
      "source": [
        "nn1 = create_nn(activation_function=\"relu\",hidden1_neurons=256)\n",
        "\n",
        "learning_rate = 0.01\n",
        "\n",
        "nn1.compile(optimizer=tf.keras.optimizers.RMSprop(learning_rate=learning_rate),\n",
        "            loss='binary_crossentropy',\n",
        "            metrics=['accuracy'])\n",
        "\n",
        "nn1.summary()"
      ],
      "metadata": {
        "colab": {
          "base_uri": "https://localhost:8080/"
        },
        "id": "R6O27qe3GhEY",
        "outputId": "e6a0806d-adf9-4848-b6b5-315fb4dbdb4b"
      },
      "execution_count": 78,
      "outputs": [
        {
          "output_type": "stream",
          "name": "stdout",
          "text": [
            "Model: \"model\"\n",
            "_________________________________________________________________\n",
            " Layer (type)                Output Shape              Param #   \n",
            "=================================================================\n",
            " input_1 (InputLayer)        [(None, 18402)]           0         \n",
            "                                                                 \n",
            " dense (Dense)               (None, 256)               4711168   \n",
            "                                                                 \n",
            " dense_1 (Dense)             (None, 64)                16448     \n",
            "                                                                 \n",
            " dense_2 (Dense)             (None, 1)                 65        \n",
            "                                                                 \n",
            "=================================================================\n",
            "Total params: 4727681 (18.03 MB)\n",
            "Trainable params: 4727681 (18.03 MB)\n",
            "Non-trainable params: 0 (0.00 Byte)\n",
            "_________________________________________________________________\n"
          ]
        }
      ]
    },
    {
      "cell_type": "code",
      "source": [
        "\n",
        "y_train = y_train.to_numpy()\n",
        "y_test = y_test.to_numpy()"
      ],
      "metadata": {
        "id": "rzEKCtvrMedQ"
      },
      "execution_count": 79,
      "outputs": []
    },
    {
      "cell_type": "code",
      "source": [
        "epochs = 10\n",
        "\n",
        "history = nn1.fit(x_train_sparse_tensor_reordered,y_train,epochs=epochs,validation_data=(x_test_sparse_tensor_reordered, y_test))"
      ],
      "metadata": {
        "colab": {
          "base_uri": "https://localhost:8080/"
        },
        "id": "-lq2rfN3J6Np",
        "outputId": "bd5280d9-84a5-409f-b23b-fb9526ba0af6"
      },
      "execution_count": 80,
      "outputs": [
        {
          "output_type": "stream",
          "name": "stdout",
          "text": [
            "Epoch 1/10\n",
            "234/234 [==============================] - 6s 21ms/step - loss: 0.7412 - accuracy: 0.6848 - val_loss: 0.6713 - val_accuracy: 0.7471\n",
            "Epoch 2/10\n",
            "234/234 [==============================] - 5s 23ms/step - loss: 0.4612 - accuracy: 0.8821 - val_loss: 1.6320 - val_accuracy: 0.7437\n",
            "Epoch 3/10\n",
            "234/234 [==============================] - 5s 20ms/step - loss: 0.3540 - accuracy: 0.9528 - val_loss: 2.7164 - val_accuracy: 0.7384\n",
            "Epoch 4/10\n",
            "234/234 [==============================] - 6s 24ms/step - loss: 0.2745 - accuracy: 0.9752 - val_loss: 3.3735 - val_accuracy: 0.7299\n",
            "Epoch 5/10\n",
            "234/234 [==============================] - 5s 19ms/step - loss: 0.2761 - accuracy: 0.9783 - val_loss: 3.2607 - val_accuracy: 0.7399\n",
            "Epoch 6/10\n",
            "234/234 [==============================] - 6s 24ms/step - loss: 0.2483 - accuracy: 0.9820 - val_loss: 3.3160 - val_accuracy: 0.7427\n",
            "Epoch 7/10\n",
            "234/234 [==============================] - 5s 20ms/step - loss: 0.2439 - accuracy: 0.9823 - val_loss: 3.3836 - val_accuracy: 0.7440\n",
            "Epoch 8/10\n",
            "234/234 [==============================] - 6s 26ms/step - loss: 0.2403 - accuracy: 0.9831 - val_loss: 3.5029 - val_accuracy: 0.7449\n",
            "Epoch 9/10\n",
            "234/234 [==============================] - 5s 21ms/step - loss: 0.2237 - accuracy: 0.9847 - val_loss: 3.7770 - val_accuracy: 0.7271\n",
            "Epoch 10/10\n",
            "234/234 [==============================] - 5s 22ms/step - loss: 0.2330 - accuracy: 0.9846 - val_loss: 3.5719 - val_accuracy: 0.7437\n"
          ]
        }
      ]
    },
    {
      "cell_type": "code",
      "source": [
        "# Convert the neural network history object into a data frame to view its specifics\n",
        "hist = pd.DataFrame(history.history)\n",
        "hist['epoch'] = history.epoch\n",
        "hist['epoch'] = hist['epoch'].apply(lambda x: x + 1)\n",
        "hist.set_index('epoch')"
      ],
      "metadata": {
        "colab": {
          "base_uri": "https://localhost:8080/",
          "height": 394
        },
        "id": "SDL3gyS3LFVO",
        "outputId": "d652dad7-c0de-46a5-9790-7c75030904d2"
      },
      "execution_count": 81,
      "outputs": [
        {
          "output_type": "execute_result",
          "data": {
            "text/plain": [
              "           loss  accuracy  val_loss  val_accuracy\n",
              "epoch                                            \n",
              "1      0.741172  0.684845  0.671269      0.747108\n",
              "2      0.461175  0.882085  1.632024      0.743670\n",
              "3      0.353956  0.952834  2.716429      0.738356\n",
              "4      0.274536  0.975211  3.373511      0.729916\n",
              "5      0.276063  0.978293  3.260735      0.739919\n",
              "6      0.248334  0.982045  3.316015      0.742732\n",
              "7      0.243919  0.982313  3.383641      0.743982\n",
              "8      0.240298  0.983117  3.502897      0.744920\n",
              "9      0.223743  0.984725  3.776975      0.727102\n",
              "10     0.232953  0.984591  3.571928      0.743670"
            ],
            "text/html": [
              "\n",
              "  <div id=\"df-62d37bad-d59b-465e-95de-68bf46ac163d\" class=\"colab-df-container\">\n",
              "    <div>\n",
              "<style scoped>\n",
              "    .dataframe tbody tr th:only-of-type {\n",
              "        vertical-align: middle;\n",
              "    }\n",
              "\n",
              "    .dataframe tbody tr th {\n",
              "        vertical-align: top;\n",
              "    }\n",
              "\n",
              "    .dataframe thead th {\n",
              "        text-align: right;\n",
              "    }\n",
              "</style>\n",
              "<table border=\"1\" class=\"dataframe\">\n",
              "  <thead>\n",
              "    <tr style=\"text-align: right;\">\n",
              "      <th></th>\n",
              "      <th>loss</th>\n",
              "      <th>accuracy</th>\n",
              "      <th>val_loss</th>\n",
              "      <th>val_accuracy</th>\n",
              "    </tr>\n",
              "    <tr>\n",
              "      <th>epoch</th>\n",
              "      <th></th>\n",
              "      <th></th>\n",
              "      <th></th>\n",
              "      <th></th>\n",
              "    </tr>\n",
              "  </thead>\n",
              "  <tbody>\n",
              "    <tr>\n",
              "      <th>1</th>\n",
              "      <td>0.741172</td>\n",
              "      <td>0.684845</td>\n",
              "      <td>0.671269</td>\n",
              "      <td>0.747108</td>\n",
              "    </tr>\n",
              "    <tr>\n",
              "      <th>2</th>\n",
              "      <td>0.461175</td>\n",
              "      <td>0.882085</td>\n",
              "      <td>1.632024</td>\n",
              "      <td>0.743670</td>\n",
              "    </tr>\n",
              "    <tr>\n",
              "      <th>3</th>\n",
              "      <td>0.353956</td>\n",
              "      <td>0.952834</td>\n",
              "      <td>2.716429</td>\n",
              "      <td>0.738356</td>\n",
              "    </tr>\n",
              "    <tr>\n",
              "      <th>4</th>\n",
              "      <td>0.274536</td>\n",
              "      <td>0.975211</td>\n",
              "      <td>3.373511</td>\n",
              "      <td>0.729916</td>\n",
              "    </tr>\n",
              "    <tr>\n",
              "      <th>5</th>\n",
              "      <td>0.276063</td>\n",
              "      <td>0.978293</td>\n",
              "      <td>3.260735</td>\n",
              "      <td>0.739919</td>\n",
              "    </tr>\n",
              "    <tr>\n",
              "      <th>6</th>\n",
              "      <td>0.248334</td>\n",
              "      <td>0.982045</td>\n",
              "      <td>3.316015</td>\n",
              "      <td>0.742732</td>\n",
              "    </tr>\n",
              "    <tr>\n",
              "      <th>7</th>\n",
              "      <td>0.243919</td>\n",
              "      <td>0.982313</td>\n",
              "      <td>3.383641</td>\n",
              "      <td>0.743982</td>\n",
              "    </tr>\n",
              "    <tr>\n",
              "      <th>8</th>\n",
              "      <td>0.240298</td>\n",
              "      <td>0.983117</td>\n",
              "      <td>3.502897</td>\n",
              "      <td>0.744920</td>\n",
              "    </tr>\n",
              "    <tr>\n",
              "      <th>9</th>\n",
              "      <td>0.223743</td>\n",
              "      <td>0.984725</td>\n",
              "      <td>3.776975</td>\n",
              "      <td>0.727102</td>\n",
              "    </tr>\n",
              "    <tr>\n",
              "      <th>10</th>\n",
              "      <td>0.232953</td>\n",
              "      <td>0.984591</td>\n",
              "      <td>3.571928</td>\n",
              "      <td>0.743670</td>\n",
              "    </tr>\n",
              "  </tbody>\n",
              "</table>\n",
              "</div>\n",
              "    <div class=\"colab-df-buttons\">\n",
              "\n",
              "  <div class=\"colab-df-container\">\n",
              "    <button class=\"colab-df-convert\" onclick=\"convertToInteractive('df-62d37bad-d59b-465e-95de-68bf46ac163d')\"\n",
              "            title=\"Convert this dataframe to an interactive table.\"\n",
              "            style=\"display:none;\">\n",
              "\n",
              "  <svg xmlns=\"http://www.w3.org/2000/svg\" height=\"24px\" viewBox=\"0 -960 960 960\">\n",
              "    <path d=\"M120-120v-720h720v720H120Zm60-500h600v-160H180v160Zm220 220h160v-160H400v160Zm0 220h160v-160H400v160ZM180-400h160v-160H180v160Zm440 0h160v-160H620v160ZM180-180h160v-160H180v160Zm440 0h160v-160H620v160Z\"/>\n",
              "  </svg>\n",
              "    </button>\n",
              "\n",
              "  <style>\n",
              "    .colab-df-container {\n",
              "      display:flex;\n",
              "      gap: 12px;\n",
              "    }\n",
              "\n",
              "    .colab-df-convert {\n",
              "      background-color: #E8F0FE;\n",
              "      border: none;\n",
              "      border-radius: 50%;\n",
              "      cursor: pointer;\n",
              "      display: none;\n",
              "      fill: #1967D2;\n",
              "      height: 32px;\n",
              "      padding: 0 0 0 0;\n",
              "      width: 32px;\n",
              "    }\n",
              "\n",
              "    .colab-df-convert:hover {\n",
              "      background-color: #E2EBFA;\n",
              "      box-shadow: 0px 1px 2px rgba(60, 64, 67, 0.3), 0px 1px 3px 1px rgba(60, 64, 67, 0.15);\n",
              "      fill: #174EA6;\n",
              "    }\n",
              "\n",
              "    .colab-df-buttons div {\n",
              "      margin-bottom: 4px;\n",
              "    }\n",
              "\n",
              "    [theme=dark] .colab-df-convert {\n",
              "      background-color: #3B4455;\n",
              "      fill: #D2E3FC;\n",
              "    }\n",
              "\n",
              "    [theme=dark] .colab-df-convert:hover {\n",
              "      background-color: #434B5C;\n",
              "      box-shadow: 0px 1px 3px 1px rgba(0, 0, 0, 0.15);\n",
              "      filter: drop-shadow(0px 1px 2px rgba(0, 0, 0, 0.3));\n",
              "      fill: #FFFFFF;\n",
              "    }\n",
              "  </style>\n",
              "\n",
              "    <script>\n",
              "      const buttonEl =\n",
              "        document.querySelector('#df-62d37bad-d59b-465e-95de-68bf46ac163d button.colab-df-convert');\n",
              "      buttonEl.style.display =\n",
              "        google.colab.kernel.accessAllowed ? 'block' : 'none';\n",
              "\n",
              "      async function convertToInteractive(key) {\n",
              "        const element = document.querySelector('#df-62d37bad-d59b-465e-95de-68bf46ac163d');\n",
              "        const dataTable =\n",
              "          await google.colab.kernel.invokeFunction('convertToInteractive',\n",
              "                                                    [key], {});\n",
              "        if (!dataTable) return;\n",
              "\n",
              "        const docLinkHtml = 'Like what you see? Visit the ' +\n",
              "          '<a target=\"_blank\" href=https://colab.research.google.com/notebooks/data_table.ipynb>data table notebook</a>'\n",
              "          + ' to learn more about interactive tables.';\n",
              "        element.innerHTML = '';\n",
              "        dataTable['output_type'] = 'display_data';\n",
              "        await google.colab.output.renderOutput(dataTable, element);\n",
              "        const docLink = document.createElement('div');\n",
              "        docLink.innerHTML = docLinkHtml;\n",
              "        element.appendChild(docLink);\n",
              "      }\n",
              "    </script>\n",
              "  </div>\n",
              "\n",
              "\n",
              "<div id=\"df-32eb55f2-3936-4ec3-85b4-7c5054d91b49\">\n",
              "  <button class=\"colab-df-quickchart\" onclick=\"quickchart('df-32eb55f2-3936-4ec3-85b4-7c5054d91b49')\"\n",
              "            title=\"Suggest charts.\"\n",
              "            style=\"display:none;\">\n",
              "\n",
              "<svg xmlns=\"http://www.w3.org/2000/svg\" height=\"24px\"viewBox=\"0 0 24 24\"\n",
              "     width=\"24px\">\n",
              "    <g>\n",
              "        <path d=\"M19 3H5c-1.1 0-2 .9-2 2v14c0 1.1.9 2 2 2h14c1.1 0 2-.9 2-2V5c0-1.1-.9-2-2-2zM9 17H7v-7h2v7zm4 0h-2V7h2v10zm4 0h-2v-4h2v4z\"/>\n",
              "    </g>\n",
              "</svg>\n",
              "  </button>\n",
              "\n",
              "<style>\n",
              "  .colab-df-quickchart {\n",
              "      --bg-color: #E8F0FE;\n",
              "      --fill-color: #1967D2;\n",
              "      --hover-bg-color: #E2EBFA;\n",
              "      --hover-fill-color: #174EA6;\n",
              "      --disabled-fill-color: #AAA;\n",
              "      --disabled-bg-color: #DDD;\n",
              "  }\n",
              "\n",
              "  [theme=dark] .colab-df-quickchart {\n",
              "      --bg-color: #3B4455;\n",
              "      --fill-color: #D2E3FC;\n",
              "      --hover-bg-color: #434B5C;\n",
              "      --hover-fill-color: #FFFFFF;\n",
              "      --disabled-bg-color: #3B4455;\n",
              "      --disabled-fill-color: #666;\n",
              "  }\n",
              "\n",
              "  .colab-df-quickchart {\n",
              "    background-color: var(--bg-color);\n",
              "    border: none;\n",
              "    border-radius: 50%;\n",
              "    cursor: pointer;\n",
              "    display: none;\n",
              "    fill: var(--fill-color);\n",
              "    height: 32px;\n",
              "    padding: 0;\n",
              "    width: 32px;\n",
              "  }\n",
              "\n",
              "  .colab-df-quickchart:hover {\n",
              "    background-color: var(--hover-bg-color);\n",
              "    box-shadow: 0 1px 2px rgba(60, 64, 67, 0.3), 0 1px 3px 1px rgba(60, 64, 67, 0.15);\n",
              "    fill: var(--button-hover-fill-color);\n",
              "  }\n",
              "\n",
              "  .colab-df-quickchart-complete:disabled,\n",
              "  .colab-df-quickchart-complete:disabled:hover {\n",
              "    background-color: var(--disabled-bg-color);\n",
              "    fill: var(--disabled-fill-color);\n",
              "    box-shadow: none;\n",
              "  }\n",
              "\n",
              "  .colab-df-spinner {\n",
              "    border: 2px solid var(--fill-color);\n",
              "    border-color: transparent;\n",
              "    border-bottom-color: var(--fill-color);\n",
              "    animation:\n",
              "      spin 1s steps(1) infinite;\n",
              "  }\n",
              "\n",
              "  @keyframes spin {\n",
              "    0% {\n",
              "      border-color: transparent;\n",
              "      border-bottom-color: var(--fill-color);\n",
              "      border-left-color: var(--fill-color);\n",
              "    }\n",
              "    20% {\n",
              "      border-color: transparent;\n",
              "      border-left-color: var(--fill-color);\n",
              "      border-top-color: var(--fill-color);\n",
              "    }\n",
              "    30% {\n",
              "      border-color: transparent;\n",
              "      border-left-color: var(--fill-color);\n",
              "      border-top-color: var(--fill-color);\n",
              "      border-right-color: var(--fill-color);\n",
              "    }\n",
              "    40% {\n",
              "      border-color: transparent;\n",
              "      border-right-color: var(--fill-color);\n",
              "      border-top-color: var(--fill-color);\n",
              "    }\n",
              "    60% {\n",
              "      border-color: transparent;\n",
              "      border-right-color: var(--fill-color);\n",
              "    }\n",
              "    80% {\n",
              "      border-color: transparent;\n",
              "      border-right-color: var(--fill-color);\n",
              "      border-bottom-color: var(--fill-color);\n",
              "    }\n",
              "    90% {\n",
              "      border-color: transparent;\n",
              "      border-bottom-color: var(--fill-color);\n",
              "    }\n",
              "  }\n",
              "</style>\n",
              "\n",
              "  <script>\n",
              "    async function quickchart(key) {\n",
              "      const quickchartButtonEl =\n",
              "        document.querySelector('#' + key + ' button');\n",
              "      quickchartButtonEl.disabled = true;  // To prevent multiple clicks.\n",
              "      quickchartButtonEl.classList.add('colab-df-spinner');\n",
              "      try {\n",
              "        const charts = await google.colab.kernel.invokeFunction(\n",
              "            'suggestCharts', [key], {});\n",
              "      } catch (error) {\n",
              "        console.error('Error during call to suggestCharts:', error);\n",
              "      }\n",
              "      quickchartButtonEl.classList.remove('colab-df-spinner');\n",
              "      quickchartButtonEl.classList.add('colab-df-quickchart-complete');\n",
              "    }\n",
              "    (() => {\n",
              "      let quickchartButtonEl =\n",
              "        document.querySelector('#df-32eb55f2-3936-4ec3-85b4-7c5054d91b49 button');\n",
              "      quickchartButtonEl.style.display =\n",
              "        google.colab.kernel.accessAllowed ? 'block' : 'none';\n",
              "    })();\n",
              "  </script>\n",
              "</div>\n",
              "    </div>\n",
              "  </div>\n"
            ]
          },
          "metadata": {},
          "execution_count": 81
        }
      ]
    },
    {
      "cell_type": "code",
      "source": [
        "# View the training and validation accuracies as functions of epoch\n",
        "plt.figure(figsize = (14, 4))\n",
        "\n",
        "sns.lineplot(data = hist, x = 'epoch', y = 'accuracy', color = 'red', label = 'Training')\n",
        "sns.lineplot(data = hist, x = 'epoch', y = 'val_accuracy', color = 'blue', label = 'Validation')\n",
        "plt.xlabel('Epoch')\n",
        "plt.ylabel('Accuracy')\n",
        "plt.title('Accuracy as a Function of Epoch');"
      ],
      "metadata": {
        "colab": {
          "base_uri": "https://localhost:8080/",
          "height": 307
        },
        "id": "W9qyw7F7NZuM",
        "outputId": "07de48a3-797e-4c98-ab46-1d78066abb75"
      },
      "execution_count": 82,
      "outputs": [
        {
          "output_type": "display_data",
          "data": {
            "text/plain": [
              "<Figure size 1400x400 with 1 Axes>"
            ],
            "image/png": "[encoded data removed]"
          },
          "metadata": {}
        }
      ]
    },
    {
      "cell_type": "code",
      "source": [
        "#Compute the accuracy of the model on the testing data set using the 'evaluate()' method\n",
        "performance_test = nn1.evaluate(x_test_sparse_tensor_reordered, y_test)\n",
        "\n",
        "print('The loss value of the model on the test data is {}'.format(performance_test[0]))\n",
        "print('The accuracy of the model on the test data is {}'.format(performance_test[1]))"
      ],
      "metadata": {
        "colab": {
          "base_uri": "https://localhost:8080/"
        },
        "id": "PS5A-K3JNu1p",
        "outputId": "71395e9b-5b06-4b02-82ab-7b09ebc5d7b0"
      },
      "execution_count": 83,
      "outputs": [
        {
          "output_type": "stream",
          "name": "stdout",
          "text": [
            "100/100 [==============================] - 0s 2ms/step - loss: 3.5719 - accuracy: 0.7437\n",
            "The loss value of the model on the test data is 3.571927785873413\n",
            "The accuracy of the model on the test data is 0.743669867515564\n"
          ]
        }
      ]
    },
    {
      "cell_type": "markdown",
      "source": [
        "### Hyperparameter Tuning\n"
      ],
      "metadata": {
        "id": "8FzLkBSXRmKn"
      }
    },
    {
      "cell_type": "code",
      "source": [
        "import pandas as pd\n",
        "import numpy as np\n",
        "import tensorflow as tf\n",
        "from tensorflow import keras\n",
        "from tensorflow.keras import layers\n",
        "from sklearn.model_selection import ParameterGrid\n",
        "\n",
        "# Define hyperparameter values to search over\n",
        "param_grid = {\n",
        "    'activation_function': ['sigmoid', 'relu'],\n",
        "    'hidden_neurons': [128, 256],\n",
        "    'learning_rate': [0.001, 0.01, 0.1]\n",
        "}\n",
        "\n",
        "# Create an empty DataFrame to store performance results\n",
        "results_df = pd.DataFrame(columns=['Activation Function', 'Hidden Neurons', 'Learning Rate', 'Train Accuracy', 'Validation Accuracy'])\n",
        "\n",
        "# Loop over hyperparameter combinations\n",
        "for params in ParameterGrid(param_grid):\n",
        "    # Extract hyperparameters\n",
        "    activation_function = params['activation_function']\n",
        "    hidden_neurons = params['hidden_neurons']\n",
        "    learning_rate = params['learning_rate']\n",
        "\n",
        "    # Create a neural network with the chosen hyperparameters\n",
        "    nn_model = create_nn(activation_function, hidden_neurons)  # Example architecture, adjust as needed\n",
        "\n",
        "    # Compile the model\n",
        "    nn_model.compile(optimizer=tf.keras.optimizers.RMSprop(learning_rate=learning_rate),\n",
        "                     loss='binary_crossentropy',\n",
        "                     metrics=['accuracy'])\n",
        "\n",
        "    # Train the model\n",
        "    history = nn_model.fit(x_train_sparse_tensor_reordered, y_train,\n",
        "                           epochs=10,\n",
        "                           validation_data=(x_test_sparse_tensor_reordered, y_test))\n",
        "\n",
        "    # Extract train and validation accuracy from history\n",
        "    train_accuracy = history.history['accuracy'][-1]\n",
        "    validation_accuracy = history.history['val_accuracy'][-1]\n",
        "\n",
        "    # Store the results in the DataFrame\n",
        "    result_entry = pd.DataFrame([[activation_function, hidden_neurons, learning_rate,train_accuracy, validation_accuracy]],\n",
        "                                columns=['Activation Function', 'Hidden Neurons', 'Learning Rate', 'Train Accuracy', 'Validation Accuracy'])\n",
        "    results_df = pd.concat([results_df, result_entry], ignore_index=True)\n",
        "\n",
        "# Print the results DataFrame\n",
        "print(results_df)\n"
      ],
      "metadata": {
        "colab": {
          "base_uri": "https://localhost:8080/"
        },
        "id": "Kux4pG2hryMZ",
        "outputId": "3c53e273-04a7-47e0-b45c-7acf8b31ab80"
      },
      "execution_count": 84,
      "outputs": [
        {
          "output_type": "stream",
          "name": "stdout",
          "text": [
            "Epoch 1/10\n",
            "234/234 [==============================] - 3s 11ms/step - loss: 7.6338 - accuracy: 0.4994 - val_loss: 7.6032 - val_accuracy: 0.5014\n",
            "Epoch 2/10\n",
            "234/234 [==============================] - 3s 12ms/step - loss: 7.6338 - accuracy: 0.4994 - val_loss: 7.6032 - val_accuracy: 0.5014\n",
            "Epoch 3/10\n",
            "234/234 [==============================] - 2s 10ms/step - loss: 7.6338 - accuracy: 0.4994 - val_loss: 7.6032 - val_accuracy: 0.5014\n",
            "Epoch 4/10\n",
            "234/234 [==============================] - 2s 10ms/step - loss: 7.6338 - accuracy: 0.4994 - val_loss: 7.6032 - val_accuracy: 0.5014\n",
            "Epoch 5/10\n",
            "234/234 [==============================] - 2s 10ms/step - loss: 7.6338 - accuracy: 0.4994 - val_loss: 7.6032 - val_accuracy: 0.5014\n",
            "Epoch 6/10\n",
            "234/234 [==============================] - 3s 11ms/step - loss: 7.6338 - accuracy: 0.4994 - val_loss: 7.6032 - val_accuracy: 0.5014\n",
            "Epoch 7/10\n",
            "234/234 [==============================] - 2s 10ms/step - loss: 7.6338 - accuracy: 0.4994 - val_loss: 7.6032 - val_accuracy: 0.5014\n",
            "Epoch 8/10\n",
            "234/234 [==============================] - 2s 10ms/step - loss: 7.6338 - accuracy: 0.4994 - val_loss: 7.6032 - val_accuracy: 0.5014\n",
            "Epoch 9/10\n",
            "234/234 [==============================] - 2s 11ms/step - loss: 7.6338 - accuracy: 0.4994 - val_loss: 7.6032 - val_accuracy: 0.5014\n",
            "Epoch 10/10\n",
            "234/234 [==============================] - 2s 10ms/step - loss: 7.6338 - accuracy: 0.4994 - val_loss: 7.6032 - val_accuracy: 0.5014\n",
            "Epoch 1/10\n",
            "234/234 [==============================] - 4s 14ms/step - loss: 7.6123 - accuracy: 0.4983 - val_loss: 7.6032 - val_accuracy: 0.5014\n",
            "Epoch 2/10\n",
            "234/234 [==============================] - 2s 10ms/step - loss: 7.6338 - accuracy: 0.4994 - val_loss: 7.6032 - val_accuracy: 0.5014\n",
            "Epoch 3/10\n",
            "234/234 [==============================] - 3s 11ms/step - loss: 7.6338 - accuracy: 0.4994 - val_loss: 7.6032 - val_accuracy: 0.5014\n",
            "Epoch 4/10\n",
            "234/234 [==============================] - 3s 11ms/step - loss: 7.6338 - accuracy: 0.4994 - val_loss: 7.6032 - val_accuracy: 0.5014\n",
            "Epoch 5/10\n",
            "234/234 [==============================] - 3s 15ms/step - loss: 7.6338 - accuracy: 0.4994 - val_loss: 7.6032 - val_accuracy: 0.5014\n",
            "Epoch 6/10\n",
            "234/234 [==============================] - 2s 10ms/step - loss: 7.6338 - accuracy: 0.4994 - val_loss: 7.6032 - val_accuracy: 0.5014\n",
            "Epoch 7/10\n",
            "234/234 [==============================] - 2s 10ms/step - loss: 7.6338 - accuracy: 0.4994 - val_loss: 7.6032 - val_accuracy: 0.5014\n",
            "Epoch 8/10\n",
            "234/234 [==============================] - 3s 11ms/step - loss: 7.6338 - accuracy: 0.4994 - val_loss: 7.6032 - val_accuracy: 0.5014\n",
            "Epoch 9/10\n",
            "234/234 [==============================] - 3s 13ms/step - loss: 7.6338 - accuracy: 0.4994 - val_loss: 7.6032 - val_accuracy: 0.5014\n",
            "Epoch 10/10\n",
            "234/234 [==============================] - 2s 10ms/step - loss: 7.6338 - accuracy: 0.4994 - val_loss: 7.6032 - val_accuracy: 0.5014\n",
            "Epoch 1/10\n",
            "234/234 [==============================] - 3s 11ms/step - loss: 7.7032 - accuracy: 0.5006 - val_loss: 7.7342 - val_accuracy: 0.4986\n",
            "Epoch 2/10\n",
            "234/234 [==============================] - 2s 11ms/step - loss: 7.7032 - accuracy: 0.5006 - val_loss: 7.7342 - val_accuracy: 0.4986\n",
            "Epoch 3/10\n",
            "234/234 [==============================] - 3s 13ms/step - loss: 7.7032 - accuracy: 0.5006 - val_loss: 7.7342 - val_accuracy: 0.4986\n",
            "Epoch 4/10\n",
            "234/234 [==============================] - 3s 13ms/step - loss: 7.7032 - accuracy: 0.5006 - val_loss: 7.7342 - val_accuracy: 0.4986\n",
            "Epoch 5/10\n",
            "234/234 [==============================] - 2s 11ms/step - loss: 7.7032 - accuracy: 0.5006 - val_loss: 7.7342 - val_accuracy: 0.4986\n",
            "Epoch 6/10\n",
            "234/234 [==============================] - 2s 10ms/step - loss: 7.7032 - accuracy: 0.5006 - val_loss: 7.7342 - val_accuracy: 0.4986\n",
            "Epoch 7/10\n",
            "234/234 [==============================] - 3s 11ms/step - loss: 7.7032 - accuracy: 0.5006 - val_loss: 7.7342 - val_accuracy: 0.4986\n",
            "Epoch 8/10\n",
            "234/234 [==============================] - 3s 14ms/step - loss: 7.7032 - accuracy: 0.5006 - val_loss: 7.7342 - val_accuracy: 0.4986\n",
            "Epoch 9/10\n",
            "234/234 [==============================] - 2s 11ms/step - loss: 7.7032 - accuracy: 0.5006 - val_loss: 7.7342 - val_accuracy: 0.4986\n",
            "Epoch 10/10\n",
            "234/234 [==============================] - 2s 10ms/step - loss: 7.7032 - accuracy: 0.5006 - val_loss: 7.7342 - val_accuracy: 0.4986\n",
            "Epoch 1/10\n",
            "234/234 [==============================] - 7s 28ms/step - loss: 7.6713 - accuracy: 0.5009 - val_loss: 7.7342 - val_accuracy: 0.4986\n",
            "Epoch 2/10\n",
            "234/234 [==============================] - 5s 21ms/step - loss: 7.7032 - accuracy: 0.5006 - val_loss: 7.7342 - val_accuracy: 0.4986\n",
            "Epoch 3/10\n",
            "234/234 [==============================] - 6s 24ms/step - loss: 7.7032 - accuracy: 0.5006 - val_loss: 7.7342 - val_accuracy: 0.4986\n",
            "Epoch 4/10\n",
            "234/234 [==============================] - 5s 22ms/step - loss: 7.7032 - accuracy: 0.5006 - val_loss: 7.7342 - val_accuracy: 0.4986\n",
            "Epoch 5/10\n",
            "234/234 [==============================] - 5s 20ms/step - loss: 7.7032 - accuracy: 0.5006 - val_loss: 7.7342 - val_accuracy: 0.4986\n",
            "Epoch 6/10\n",
            "234/234 [==============================] - 6s 25ms/step - loss: 7.7032 - accuracy: 0.5006 - val_loss: 7.7342 - val_accuracy: 0.4986\n",
            "Epoch 7/10\n",
            "234/234 [==============================] - 5s 20ms/step - loss: 7.7032 - accuracy: 0.5006 - val_loss: 7.7342 - val_accuracy: 0.4986\n",
            "Epoch 8/10\n",
            "234/234 [==============================] - 5s 23ms/step - loss: 7.7032 - accuracy: 0.5006 - val_loss: 7.7342 - val_accuracy: 0.4986\n",
            "Epoch 9/10\n",
            "234/234 [==============================] - 6s 26ms/step - loss: 7.7032 - accuracy: 0.5006 - val_loss: 7.7342 - val_accuracy: 0.4986\n",
            "Epoch 10/10\n",
            "234/234 [==============================] - 5s 20ms/step - loss: 7.7032 - accuracy: 0.5006 - val_loss: 7.7342 - val_accuracy: 0.4986\n",
            "Epoch 1/10\n",
            "234/234 [==============================] - 8s 29ms/step - loss: 7.6772 - accuracy: 0.5001 - val_loss: 7.7342 - val_accuracy: 0.4986\n",
            "Epoch 2/10\n",
            "234/234 [==============================] - 5s 22ms/step - loss: 7.7032 - accuracy: 0.5006 - val_loss: 7.7342 - val_accuracy: 0.4986\n",
            "Epoch 3/10\n",
            "234/234 [==============================] - 5s 21ms/step - loss: 7.7032 - accuracy: 0.5006 - val_loss: 7.7342 - val_accuracy: 0.4986\n",
            "Epoch 4/10\n",
            "234/234 [==============================] - 6s 25ms/step - loss: 7.7032 - accuracy: 0.5006 - val_loss: 7.7342 - val_accuracy: 0.4986\n",
            "Epoch 5/10\n",
            "234/234 [==============================] - 5s 23ms/step - loss: 7.7032 - accuracy: 0.5006 - val_loss: 7.7342 - val_accuracy: 0.4986\n",
            "Epoch 6/10\n",
            "234/234 [==============================] - 5s 20ms/step - loss: 7.7032 - accuracy: 0.5006 - val_loss: 7.7342 - val_accuracy: 0.4986\n",
            "Epoch 7/10\n",
            "234/234 [==============================] - 6s 25ms/step - loss: 7.7032 - accuracy: 0.5006 - val_loss: 7.7342 - val_accuracy: 0.4986\n",
            "Epoch 8/10\n",
            "234/234 [==============================] - 5s 21ms/step - loss: 7.7032 - accuracy: 0.5006 - val_loss: 7.7342 - val_accuracy: 0.4986\n",
            "Epoch 9/10\n",
            "234/234 [==============================] - 5s 22ms/step - loss: 7.7032 - accuracy: 0.5006 - val_loss: 7.7342 - val_accuracy: 0.4986\n",
            "Epoch 10/10\n",
            "234/234 [==============================] - 5s 21ms/step - loss: 7.7032 - accuracy: 0.5006 - val_loss: 7.7342 - val_accuracy: 0.4986\n",
            "Epoch 1/10\n",
            "234/234 [==============================] - 7s 27ms/step - loss: 7.6740 - accuracy: 0.5011 - val_loss: 7.7342 - val_accuracy: 0.4986\n",
            "Epoch 2/10\n",
            "234/234 [==============================] - 5s 19ms/step - loss: 7.7032 - accuracy: 0.5006 - val_loss: 7.7342 - val_accuracy: 0.4986\n",
            "Epoch 3/10\n",
            "234/234 [==============================] - 5s 19ms/step - loss: 7.7032 - accuracy: 0.5006 - val_loss: 7.7342 - val_accuracy: 0.4986\n",
            "Epoch 4/10\n",
            "234/234 [==============================] - 6s 24ms/step - loss: 7.7032 - accuracy: 0.5006 - val_loss: 7.7342 - val_accuracy: 0.4986\n",
            "Epoch 5/10\n",
            "234/234 [==============================] - 5s 19ms/step - loss: 7.7032 - accuracy: 0.5006 - val_loss: 7.7342 - val_accuracy: 0.4986\n",
            "Epoch 6/10\n",
            "234/234 [==============================] - 5s 21ms/step - loss: 7.7032 - accuracy: 0.5006 - val_loss: 7.7342 - val_accuracy: 0.4986\n",
            "Epoch 7/10\n",
            "234/234 [==============================] - 5s 22ms/step - loss: 7.7032 - accuracy: 0.5006 - val_loss: 7.7342 - val_accuracy: 0.4986\n",
            "Epoch 8/10\n",
            "234/234 [==============================] - 4s 19ms/step - loss: 7.7032 - accuracy: 0.5006 - val_loss: 7.7342 - val_accuracy: 0.4986\n",
            "Epoch 9/10\n",
            "234/234 [==============================] - 5s 22ms/step - loss: 7.7032 - accuracy: 0.5006 - val_loss: 7.7342 - val_accuracy: 0.4986\n",
            "Epoch 10/10\n",
            "234/234 [==============================] - 5s 22ms/step - loss: 7.7032 - accuracy: 0.5006 - val_loss: 7.7342 - val_accuracy: 0.4986\n",
            "Epoch 1/10\n",
            "234/234 [==============================] - 4s 13ms/step - loss: 0.6433 - accuracy: 0.6824 - val_loss: 0.5482 - val_accuracy: 0.7530\n",
            "Epoch 2/10\n",
            "234/234 [==============================] - 3s 13ms/step - loss: 0.3816 - accuracy: 0.8770 - val_loss: 0.7439 - val_accuracy: 0.7524\n",
            "Epoch 3/10\n",
            "234/234 [==============================] - 2s 10ms/step - loss: 0.2653 - accuracy: 0.9390 - val_loss: 1.3308 - val_accuracy: 0.7424\n",
            "Epoch 4/10\n",
            "234/234 [==============================] - 2s 10ms/step - loss: 0.1877 - accuracy: 0.9741 - val_loss: 1.9000 - val_accuracy: 0.7396\n",
            "Epoch 5/10\n",
            "234/234 [==============================] - 2s 10ms/step - loss: 0.1517 - accuracy: 0.9863 - val_loss: 2.1042 - val_accuracy: 0.7343\n",
            "Epoch 6/10\n",
            "234/234 [==============================] - 3s 13ms/step - loss: 0.1422 - accuracy: 0.9895 - val_loss: 2.2039 - val_accuracy: 0.7359\n",
            "Epoch 7/10\n",
            "234/234 [==============================] - 2s 10ms/step - loss: 0.1372 - accuracy: 0.9909 - val_loss: 2.3397 - val_accuracy: 0.7487\n",
            "Epoch 8/10\n",
            "234/234 [==============================] - 2s 10ms/step - loss: 0.1361 - accuracy: 0.9912 - val_loss: 2.4267 - val_accuracy: 0.7424\n",
            "Epoch 9/10\n",
            "234/234 [==============================] - 2s 10ms/step - loss: 0.1357 - accuracy: 0.9912 - val_loss: 2.4140 - val_accuracy: 0.7468\n",
            "Epoch 10/10\n",
            "234/234 [==============================] - 3s 12ms/step - loss: 0.1357 - accuracy: 0.9912 - val_loss: 2.4726 - val_accuracy: 0.7487\n",
            "Epoch 1/10\n",
            "234/234 [==============================] - 3s 12ms/step - loss: 0.6806 - accuracy: 0.6847 - val_loss: 0.5521 - val_accuracy: 0.7102\n",
            "Epoch 2/10\n",
            "234/234 [==============================] - 3s 11ms/step - loss: 0.4952 - accuracy: 0.8802 - val_loss: 0.9265 - val_accuracy: 0.7287\n",
            "Epoch 3/10\n",
            "234/234 [==============================] - 3s 12ms/step - loss: 0.3886 - accuracy: 0.9433 - val_loss: 1.9451 - val_accuracy: 0.7474\n",
            "Epoch 4/10\n",
            "234/234 [==============================] - 2s 10ms/step - loss: 0.3388 - accuracy: 0.9715 - val_loss: 2.9682 - val_accuracy: 0.7396\n",
            "Epoch 5/10\n",
            "234/234 [==============================] - 3s 11ms/step - loss: 0.3156 - accuracy: 0.9757 - val_loss: 3.2393 - val_accuracy: 0.7405\n",
            "Epoch 6/10\n",
            "234/234 [==============================] - 3s 11ms/step - loss: 0.2892 - accuracy: 0.9791 - val_loss: 4.0305 - val_accuracy: 0.7133\n",
            "Epoch 7/10\n",
            "234/234 [==============================] - 3s 14ms/step - loss: 0.2833 - accuracy: 0.9799 - val_loss: 3.3325 - val_accuracy: 0.7480\n",
            "Epoch 8/10\n",
            "234/234 [==============================] - 3s 11ms/step - loss: 0.2799 - accuracy: 0.9807 - val_loss: 3.2860 - val_accuracy: 0.7474\n",
            "Epoch 9/10\n",
            "234/234 [==============================] - 3s 11ms/step - loss: 0.2550 - accuracy: 0.9823 - val_loss: 3.4642 - val_accuracy: 0.7471\n",
            "Epoch 10/10\n",
            "234/234 [==============================] - 3s 13ms/step - loss: 0.2605 - accuracy: 0.9822 - val_loss: 3.3658 - val_accuracy: 0.7496\n",
            "Epoch 1/10\n",
            "234/234 [==============================] - 3s 12ms/step - loss: 7.6174 - accuracy: 0.4994 - val_loss: 7.6032 - val_accuracy: 0.5014\n",
            "Epoch 2/10\n",
            "234/234 [==============================] - 2s 10ms/step - loss: 7.6338 - accuracy: 0.4994 - val_loss: 7.6032 - val_accuracy: 0.5014\n",
            "Epoch 3/10\n",
            "234/234 [==============================] - 3s 12ms/step - loss: 7.6338 - accuracy: 0.4994 - val_loss: 7.6032 - val_accuracy: 0.5014\n",
            "Epoch 4/10\n",
            "234/234 [==============================] - 2s 10ms/step - loss: 7.6338 - accuracy: 0.4994 - val_loss: 7.6032 - val_accuracy: 0.5014\n",
            "Epoch 5/10\n",
            "234/234 [==============================] - 2s 10ms/step - loss: 7.6338 - accuracy: 0.4994 - val_loss: 7.6032 - val_accuracy: 0.5014\n",
            "Epoch 6/10\n",
            "234/234 [==============================] - 2s 10ms/step - loss: 7.6338 - accuracy: 0.4994 - val_loss: 7.6032 - val_accuracy: 0.5014\n",
            "Epoch 7/10\n",
            "234/234 [==============================] - 3s 11ms/step - loss: 7.6338 - accuracy: 0.4994 - val_loss: 7.6032 - val_accuracy: 0.5014\n",
            "Epoch 8/10\n",
            "234/234 [==============================] - 2s 10ms/step - loss: 7.6338 - accuracy: 0.4994 - val_loss: 7.6032 - val_accuracy: 0.5014\n",
            "Epoch 9/10\n",
            "234/234 [==============================] - 3s 11ms/step - loss: 7.6338 - accuracy: 0.4994 - val_loss: 7.6032 - val_accuracy: 0.5014\n",
            "Epoch 10/10\n",
            "234/234 [==============================] - 3s 12ms/step - loss: 7.6338 - accuracy: 0.4994 - val_loss: 7.6032 - val_accuracy: 0.5014\n",
            "Epoch 1/10\n",
            "234/234 [==============================] - 7s 25ms/step - loss: 0.6394 - accuracy: 0.6930 - val_loss: 0.5272 - val_accuracy: 0.7543\n",
            "Epoch 2/10\n",
            "234/234 [==============================] - 6s 26ms/step - loss: 0.3715 - accuracy: 0.8822 - val_loss: 0.8864 - val_accuracy: 0.7490\n",
            "Epoch 3/10\n",
            "234/234 [==============================] - 7s 28ms/step - loss: 0.2490 - accuracy: 0.9539 - val_loss: 1.6510 - val_accuracy: 0.7399\n",
            "Epoch 4/10\n",
            "234/234 [==============================] - 6s 26ms/step - loss: 0.1604 - accuracy: 0.9812 - val_loss: 1.6129 - val_accuracy: 0.7409\n",
            "Epoch 5/10\n",
            "234/234 [==============================] - 7s 29ms/step - loss: 0.1327 - accuracy: 0.9897 - val_loss: 1.8633 - val_accuracy: 0.7405\n",
            "Epoch 6/10\n",
            "234/234 [==============================] - 6s 26ms/step - loss: 0.1250 - accuracy: 0.9918 - val_loss: 2.1330 - val_accuracy: 0.7365\n",
            "Epoch 7/10\n",
            "234/234 [==============================] - 6s 26ms/step - loss: 0.1236 - accuracy: 0.9918 - val_loss: 2.2087 - val_accuracy: 0.7387\n",
            "Epoch 8/10\n",
            "234/234 [==============================] - 7s 28ms/step - loss: 0.1234 - accuracy: 0.9920 - val_loss: 2.1757 - val_accuracy: 0.7374\n",
            "Epoch 9/10\n",
            "234/234 [==============================] - 6s 27ms/step - loss: 0.1234 - accuracy: 0.9920 - val_loss: 2.2082 - val_accuracy: 0.7365\n",
            "Epoch 10/10\n",
            "234/234 [==============================] - 7s 29ms/step - loss: 0.1234 - accuracy: 0.9920 - val_loss: 2.3377 - val_accuracy: 0.7384\n",
            "Epoch 1/10\n",
            "234/234 [==============================] - 8s 33ms/step - loss: 7.6117 - accuracy: 0.4994 - val_loss: 7.6032 - val_accuracy: 0.5014\n",
            "Epoch 2/10\n",
            "234/234 [==============================] - 6s 26ms/step - loss: 1.8627 - accuracy: 0.6396 - val_loss: 0.5420 - val_accuracy: 0.7249\n",
            "Epoch 3/10\n",
            "234/234 [==============================] - 7s 31ms/step - loss: 0.5830 - accuracy: 0.8527 - val_loss: 1.0312 - val_accuracy: 0.7330\n",
            "Epoch 4/10\n",
            "234/234 [==============================] - 6s 27ms/step - loss: 0.3941 - accuracy: 0.9427 - val_loss: 2.5276 - val_accuracy: 0.7349\n",
            "Epoch 5/10\n",
            "234/234 [==============================] - 6s 27ms/step - loss: 0.3336 - accuracy: 0.9694 - val_loss: 3.2863 - val_accuracy: 0.7293\n",
            "Epoch 6/10\n",
            "234/234 [==============================] - 7s 29ms/step - loss: 0.3044 - accuracy: 0.9783 - val_loss: 2.9145 - val_accuracy: 0.7377\n",
            "Epoch 7/10\n",
            "234/234 [==============================] - 6s 26ms/step - loss: 0.2902 - accuracy: 0.9796 - val_loss: 3.6141 - val_accuracy: 0.7387\n",
            "Epoch 8/10\n",
            "234/234 [==============================] - 6s 27ms/step - loss: 0.2924 - accuracy: 0.9796 - val_loss: 3.6031 - val_accuracy: 0.7337\n",
            "Epoch 9/10\n",
            "234/234 [==============================] - 8s 33ms/step - loss: 0.2878 - accuracy: 0.9795 - val_loss: 3.6883 - val_accuracy: 0.7355\n",
            "Epoch 10/10\n",
            "234/234 [==============================] - 6s 27ms/step - loss: 0.2888 - accuracy: 0.9806 - val_loss: 3.6472 - val_accuracy: 0.7409\n",
            "Epoch 1/10\n",
            "234/234 [==============================] - 6s 24ms/step - loss: 7.7032 - accuracy: 0.5006 - val_loss: 7.7342 - val_accuracy: 0.4986\n",
            "Epoch 2/10\n",
            "234/234 [==============================] - 6s 24ms/step - loss: 7.7032 - accuracy: 0.5006 - val_loss: 7.7342 - val_accuracy: 0.4986\n",
            "Epoch 3/10\n",
            "234/234 [==============================] - 7s 28ms/step - loss: 7.7032 - accuracy: 0.5006 - val_loss: 7.7342 - val_accuracy: 0.4986\n",
            "Epoch 4/10\n",
            "234/234 [==============================] - 6s 24ms/step - loss: 7.7032 - accuracy: 0.5006 - val_loss: 7.7342 - val_accuracy: 0.4986\n",
            "Epoch 5/10\n",
            "234/234 [==============================] - 7s 29ms/step - loss: 7.7032 - accuracy: 0.5006 - val_loss: 7.7342 - val_accuracy: 0.4986\n",
            "Epoch 6/10\n",
            "234/234 [==============================] - 6s 24ms/step - loss: 7.7032 - accuracy: 0.5006 - val_loss: 7.7342 - val_accuracy: 0.4986\n",
            "Epoch 7/10\n",
            "234/234 [==============================] - 6s 26ms/step - loss: 7.7032 - accuracy: 0.5006 - val_loss: 7.7342 - val_accuracy: 0.4986\n",
            "Epoch 8/10\n",
            "234/234 [==============================] - 5s 23ms/step - loss: 7.7032 - accuracy: 0.5006 - val_loss: 7.7342 - val_accuracy: 0.4986\n",
            "Epoch 9/10\n",
            "234/234 [==============================] - 6s 27ms/step - loss: 7.7032 - accuracy: 0.5006 - val_loss: 7.7342 - val_accuracy: 0.4986\n",
            "Epoch 10/10\n",
            "234/234 [==============================] - 6s 24ms/step - loss: 7.7032 - accuracy: 0.5006 - val_loss: 7.7342 - val_accuracy: 0.4986\n",
            "   Activation Function Hidden Neurons  Learning Rate  Train Accuracy  \\\n",
            "0              sigmoid            128          0.001        0.499397   \n",
            "1              sigmoid            128          0.010        0.499397   \n",
            "2              sigmoid            128          0.100        0.500603   \n",
            "3              sigmoid            256          0.001        0.500603   \n",
            "4              sigmoid            256          0.010        0.500603   \n",
            "5              sigmoid            256          0.100        0.500603   \n",
            "6                 relu            128          0.001        0.991156   \n",
            "7                 relu            128          0.010        0.982179   \n",
            "8                 relu            128          0.100        0.499397   \n",
            "9                 relu            256          0.001        0.991960   \n",
            "10                relu            256          0.010        0.980571   \n",
            "11                relu            256          0.100        0.500603   \n",
            "\n",
            "    Validation Accuracy  \n",
            "0              0.501407  \n",
            "1              0.501407  \n",
            "2              0.498593  \n",
            "3              0.498593  \n",
            "4              0.498593  \n",
            "5              0.498593  \n",
            "6              0.748671  \n",
            "7              0.749609  \n",
            "8              0.501407  \n",
            "9              0.738356  \n",
            "10             0.740857  \n",
            "11             0.498593  \n"
          ]
        }
      ]
    },
    {
      "cell_type": "code",
      "source": [
        "results_df"
      ],
      "metadata": {
        "colab": {
          "base_uri": "https://localhost:8080/",
          "height": 425
        },
        "id": "n0ynhAwk1G8s",
        "outputId": "5488f8c5-4117-49b6-e5ca-9daf5e4b6d09"
      },
      "execution_count": 85,
      "outputs": [
        {
          "output_type": "execute_result",
          "data": {
            "text/plain": [
              "   Activation Function Hidden Neurons  Learning Rate  Train Accuracy  \\\n",
              "0              sigmoid            128          0.001        0.499397   \n",
              "1              sigmoid            128          0.010        0.499397   \n",
              "2              sigmoid            128          0.100        0.500603   \n",
              "3              sigmoid            256          0.001        0.500603   \n",
              "4              sigmoid            256          0.010        0.500603   \n",
              "5              sigmoid            256          0.100        0.500603   \n",
              "6                 relu            128          0.001        0.991156   \n",
              "7                 relu            128          0.010        0.982179   \n",
              "8                 relu            128          0.100        0.499397   \n",
              "9                 relu            256          0.001        0.991960   \n",
              "10                relu            256          0.010        0.980571   \n",
              "11                relu            256          0.100        0.500603   \n",
              "\n",
              "    Validation Accuracy  \n",
              "0              0.501407  \n",
              "1              0.501407  \n",
              "2              0.498593  \n",
              "3              0.498593  \n",
              "4              0.498593  \n",
              "5              0.498593  \n",
              "6              0.748671  \n",
              "7              0.749609  \n",
              "8              0.501407  \n",
              "9              0.738356  \n",
              "10             0.740857  \n",
              "11             0.498593  "
            ],
            "text/html": [
              "\n",
              "  <div id=\"df-5e958881-55c4-42b6-af01-0e6b4b7c5741\" class=\"colab-df-container\">\n",
              "    <div>\n",
              "<style scoped>\n",
              "    .dataframe tbody tr th:only-of-type {\n",
              "        vertical-align: middle;\n",
              "    }\n",
              "\n",
              "    .dataframe tbody tr th {\n",
              "        vertical-align: top;\n",
              "    }\n",
              "\n",
              "    .dataframe thead th {\n",
              "        text-align: right;\n",
              "    }\n",
              "</style>\n",
              "<table border=\"1\" class=\"dataframe\">\n",
              "  <thead>\n",
              "    <tr style=\"text-align: right;\">\n",
              "      <th></th>\n",
              "      <th>Activation Function</th>\n",
              "      <th>Hidden Neurons</th>\n",
              "      <th>Learning Rate</th>\n",
              "      <th>Train Accuracy</th>\n",
              "      <th>Validation Accuracy</th>\n",
              "    </tr>\n",
              "  </thead>\n",
              "  <tbody>\n",
              "    <tr>\n",
              "      <th>0</th>\n",
              "      <td>sigmoid</td>\n",
              "      <td>128</td>\n",
              "      <td>0.001</td>\n",
              "      <td>0.499397</td>\n",
              "      <td>0.501407</td>\n",
              "    </tr>\n",
              "    <tr>\n",
              "      <th>1</th>\n",
              "      <td>sigmoid</td>\n",
              "      <td>128</td>\n",
              "      <td>0.010</td>\n",
              "      <td>0.499397</td>\n",
              "      <td>0.501407</td>\n",
              "    </tr>\n",
              "    <tr>\n",
              "      <th>2</th>\n",
              "      <td>sigmoid</td>\n",
              "      <td>128</td>\n",
              "      <td>0.100</td>\n",
              "      <td>0.500603</td>\n",
              "      <td>0.498593</td>\n",
              "    </tr>\n",
              "    <tr>\n",
              "      <th>3</th>\n",
              "      <td>sigmoid</td>\n",
              "      <td>256</td>\n",
              "      <td>0.001</td>\n",
              "      <td>0.500603</td>\n",
              "      <td>0.498593</td>\n",
              "    </tr>\n",
              "    <tr>\n",
              "      <th>4</th>\n",
              "      <td>sigmoid</td>\n",
              "      <td>256</td>\n",
              "      <td>0.010</td>\n",
              "      <td>0.500603</td>\n",
              "      <td>0.498593</td>\n",
              "    </tr>\n",
              "    <tr>\n",
              "      <th>5</th>\n",
              "      <td>sigmoid</td>\n",
              "      <td>256</td>\n",
              "      <td>0.100</td>\n",
              "      <td>0.500603</td>\n",
              "      <td>0.498593</td>\n",
              "    </tr>\n",
              "    <tr>\n",
              "      <th>6</th>\n",
              "      <td>relu</td>\n",
              "      <td>128</td>\n",
              "      <td>0.001</td>\n",
              "      <td>0.991156</td>\n",
              "      <td>0.748671</td>\n",
              "    </tr>\n",
              "    <tr>\n",
              "      <th>7</th>\n",
              "      <td>relu</td>\n",
              "      <td>128</td>\n",
              "      <td>0.010</td>\n",
              "      <td>0.982179</td>\n",
              "      <td>0.749609</td>\n",
              "    </tr>\n",
              "    <tr>\n",
              "      <th>8</th>\n",
              "      <td>relu</td>\n",
              "      <td>128</td>\n",
              "      <td>0.100</td>\n",
              "      <td>0.499397</td>\n",
              "      <td>0.501407</td>\n",
              "    </tr>\n",
              "    <tr>\n",
              "      <th>9</th>\n",
              "      <td>relu</td>\n",
              "      <td>256</td>\n",
              "      <td>0.001</td>\n",
              "      <td>0.991960</td>\n",
              "      <td>0.738356</td>\n",
              "    </tr>\n",
              "    <tr>\n",
              "      <th>10</th>\n",
              "      <td>relu</td>\n",
              "      <td>256</td>\n",
              "      <td>0.010</td>\n",
              "      <td>0.980571</td>\n",
              "      <td>0.740857</td>\n",
              "    </tr>\n",
              "    <tr>\n",
              "      <th>11</th>\n",
              "      <td>relu</td>\n",
              "      <td>256</td>\n",
              "      <td>0.100</td>\n",
              "      <td>0.500603</td>\n",
              "      <td>0.498593</td>\n",
              "    </tr>\n",
              "  </tbody>\n",
              "</table>\n",
              "</div>\n",
              "    <div class=\"colab-df-buttons\">\n",
              "\n",
              "  <div class=\"colab-df-container\">\n",
              "    <button class=\"colab-df-convert\" onclick=\"convertToInteractive('df-5e958881-55c4-42b6-af01-0e6b4b7c5741')\"\n",
              "            title=\"Convert this dataframe to an interactive table.\"\n",
              "            style=\"display:none;\">\n",
              "\n",
              "  <svg xmlns=\"http://www.w3.org/2000/svg\" height=\"24px\" viewBox=\"0 -960 960 960\">\n",
              "    <path d=\"M120-120v-720h720v720H120Zm60-500h600v-160H180v160Zm220 220h160v-160H400v160Zm0 220h160v-160H400v160ZM180-400h160v-160H180v160Zm440 0h160v-160H620v160ZM180-180h160v-160H180v160Zm440 0h160v-160H620v160Z\"/>\n",
              "  </svg>\n",
              "    </button>\n",
              "\n",
              "  <style>\n",
              "    .colab-df-container {\n",
              "      display:flex;\n",
              "      gap: 12px;\n",
              "    }\n",
              "\n",
              "    .colab-df-convert {\n",
              "      background-color: #E8F0FE;\n",
              "      border: none;\n",
              "      border-radius: 50%;\n",
              "      cursor: pointer;\n",
              "      display: none;\n",
              "      fill: #1967D2;\n",
              "      height: 32px;\n",
              "      padding: 0 0 0 0;\n",
              "      width: 32px;\n",
              "    }\n",
              "\n",
              "    .colab-df-convert:hover {\n",
              "      background-color: #E2EBFA;\n",
              "      box-shadow: 0px 1px 2px rgba(60, 64, 67, 0.3), 0px 1px 3px 1px rgba(60, 64, 67, 0.15);\n",
              "      fill: #174EA6;\n",
              "    }\n",
              "\n",
              "    .colab-df-buttons div {\n",
              "      margin-bottom: 4px;\n",
              "    }\n",
              "\n",
              "    [theme=dark] .colab-df-convert {\n",
              "      background-color: #3B4455;\n",
              "      fill: #D2E3FC;\n",
              "    }\n",
              "\n",
              "    [theme=dark] .colab-df-convert:hover {\n",
              "      background-color: #434B5C;\n",
              "      box-shadow: 0px 1px 3px 1px rgba(0, 0, 0, 0.15);\n",
              "      filter: drop-shadow(0px 1px 2px rgba(0, 0, 0, 0.3));\n",
              "      fill: #FFFFFF;\n",
              "    }\n",
              "  </style>\n",
              "\n",
              "    <script>\n",
              "      const buttonEl =\n",
              "        document.querySelector('#df-5e958881-55c4-42b6-af01-0e6b4b7c5741 button.colab-df-convert');\n",
              "      buttonEl.style.display =\n",
              "        google.colab.kernel.accessAllowed ? 'block' : 'none';\n",
              "\n",
              "      async function convertToInteractive(key) {\n",
              "        const element = document.querySelector('#df-5e958881-55c4-42b6-af01-0e6b4b7c5741');\n",
              "        const dataTable =\n",
              "          await google.colab.kernel.invokeFunction('convertToInteractive',\n",
              "                                                    [key], {});\n",
              "        if (!dataTable) return;\n",
              "\n",
              "        const docLinkHtml = 'Like what you see? Visit the ' +\n",
              "          '<a target=\"_blank\" href=https://colab.research.google.com/notebooks/data_table.ipynb>data table notebook</a>'\n",
              "          + ' to learn more about interactive tables.';\n",
              "        element.innerHTML = '';\n",
              "        dataTable['output_type'] = 'display_data';\n",
              "        await google.colab.output.renderOutput(dataTable, element);\n",
              "        const docLink = document.createElement('div');\n",
              "        docLink.innerHTML = docLinkHtml;\n",
              "        element.appendChild(docLink);\n",
              "      }\n",
              "    </script>\n",
              "  </div>\n",
              "\n",
              "\n",
              "<div id=\"df-1fba91d8-9e4a-472a-93af-215ebff718fd\">\n",
              "  <button class=\"colab-df-quickchart\" onclick=\"quickchart('df-1fba91d8-9e4a-472a-93af-215ebff718fd')\"\n",
              "            title=\"Suggest charts.\"\n",
              "            style=\"display:none;\">\n",
              "\n",
              "<svg xmlns=\"http://www.w3.org/2000/svg\" height=\"24px\"viewBox=\"0 0 24 24\"\n",
              "     width=\"24px\">\n",
              "    <g>\n",
              "        <path d=\"M19 3H5c-1.1 0-2 .9-2 2v14c0 1.1.9 2 2 2h14c1.1 0 2-.9 2-2V5c0-1.1-.9-2-2-2zM9 17H7v-7h2v7zm4 0h-2V7h2v10zm4 0h-2v-4h2v4z\"/>\n",
              "    </g>\n",
              "</svg>\n",
              "  </button>\n",
              "\n",
              "<style>\n",
              "  .colab-df-quickchart {\n",
              "      --bg-color: #E8F0FE;\n",
              "      --fill-color: #1967D2;\n",
              "      --hover-bg-color: #E2EBFA;\n",
              "      --hover-fill-color: #174EA6;\n",
              "      --disabled-fill-color: #AAA;\n",
              "      --disabled-bg-color: #DDD;\n",
              "  }\n",
              "\n",
              "  [theme=dark] .colab-df-quickchart {\n",
              "      --bg-color: #3B4455;\n",
              "      --fill-color: #D2E3FC;\n",
              "      --hover-bg-color: #434B5C;\n",
              "      --hover-fill-color: #FFFFFF;\n",
              "      --disabled-bg-color: #3B4455;\n",
              "      --disabled-fill-color: #666;\n",
              "  }\n",
              "\n",
              "  .colab-df-quickchart {\n",
              "    background-color: var(--bg-color);\n",
              "    border: none;\n",
              "    border-radius: 50%;\n",
              "    cursor: pointer;\n",
              "    display: none;\n",
              "    fill: var(--fill-color);\n",
              "    height: 32px;\n",
              "    padding: 0;\n",
              "    width: 32px;\n",
              "  }\n",
              "\n",
              "  .colab-df-quickchart:hover {\n",
              "    background-color: var(--hover-bg-color);\n",
              "    box-shadow: 0 1px 2px rgba(60, 64, 67, 0.3), 0 1px 3px 1px rgba(60, 64, 67, 0.15);\n",
              "    fill: var(--button-hover-fill-color);\n",
              "  }\n",
              "\n",
              "  .colab-df-quickchart-complete:disabled,\n",
              "  .colab-df-quickchart-complete:disabled:hover {\n",
              "    background-color: var(--disabled-bg-color);\n",
              "    fill: var(--disabled-fill-color);\n",
              "    box-shadow: none;\n",
              "  }\n",
              "\n",
              "  .colab-df-spinner {\n",
              "    border: 2px solid var(--fill-color);\n",
              "    border-color: transparent;\n",
              "    border-bottom-color: var(--fill-color);\n",
              "    animation:\n",
              "      spin 1s steps(1) infinite;\n",
              "  }\n",
              "\n",
              "  @keyframes spin {\n",
              "    0% {\n",
              "      border-color: transparent;\n",
              "      border-bottom-color: var(--fill-color);\n",
              "      border-left-color: var(--fill-color);\n",
              "    }\n",
              "    20% {\n",
              "      border-color: transparent;\n",
              "      border-left-color: var(--fill-color);\n",
              "      border-top-color: var(--fill-color);\n",
              "    }\n",
              "    30% {\n",
              "      border-color: transparent;\n",
              "      border-left-color: var(--fill-color);\n",
              "      border-top-color: var(--fill-color);\n",
              "      border-right-color: var(--fill-color);\n",
              "    }\n",
              "    40% {\n",
              "      border-color: transparent;\n",
              "      border-right-color: var(--fill-color);\n",
              "      border-top-color: var(--fill-color);\n",
              "    }\n",
              "    60% {\n",
              "      border-color: transparent;\n",
              "      border-right-color: var(--fill-color);\n",
              "    }\n",
              "    80% {\n",
              "      border-color: transparent;\n",
              "      border-right-color: var(--fill-color);\n",
              "      border-bottom-color: var(--fill-color);\n",
              "    }\n",
              "    90% {\n",
              "      border-color: transparent;\n",
              "      border-bottom-color: var(--fill-color);\n",
              "    }\n",
              "  }\n",
              "</style>\n",
              "\n",
              "  <script>\n",
              "    async function quickchart(key) {\n",
              "      const quickchartButtonEl =\n",
              "        document.querySelector('#' + key + ' button');\n",
              "      quickchartButtonEl.disabled = true;  // To prevent multiple clicks.\n",
              "      quickchartButtonEl.classList.add('colab-df-spinner');\n",
              "      try {\n",
              "        const charts = await google.colab.kernel.invokeFunction(\n",
              "            'suggestCharts', [key], {});\n",
              "      } catch (error) {\n",
              "        console.error('Error during call to suggestCharts:', error);\n",
              "      }\n",
              "      quickchartButtonEl.classList.remove('colab-df-spinner');\n",
              "      quickchartButtonEl.classList.add('colab-df-quickchart-complete');\n",
              "    }\n",
              "    (() => {\n",
              "      let quickchartButtonEl =\n",
              "        document.querySelector('#df-1fba91d8-9e4a-472a-93af-215ebff718fd button');\n",
              "      quickchartButtonEl.style.display =\n",
              "        google.colab.kernel.accessAllowed ? 'block' : 'none';\n",
              "    })();\n",
              "  </script>\n",
              "</div>\n",
              "    </div>\n",
              "  </div>\n"
            ]
          },
          "metadata": {},
          "execution_count": 85
        }
      ]
    },
    {
      "cell_type": "markdown",
      "source": [
        "### Building the optimal model"
      ],
      "metadata": {
        "id": "ohLMkfyyqGvE"
      }
    },
    {
      "cell_type": "code",
      "source": [
        "## activation function = relu, hidden_neurons=128 and learning rate = 0.010 gives an optimal model\n",
        "\n",
        "nn1 = create_nn(activation_function=\"relu\",hidden1_neurons=128)\n",
        "\n",
        "learning_rate = 0.010\n",
        "\n",
        "nn1.compile(optimizer=tf.keras.optimizers.RMSprop(learning_rate=learning_rate),\n",
        "            loss='binary_crossentropy',\n",
        "            metrics=['accuracy'])\n",
        "\n",
        "nn1.summary()"
      ],
      "metadata": {
        "id": "XFrmCBSWEt9N",
        "colab": {
          "base_uri": "https://localhost:8080/"
        },
        "outputId": "fe697d7f-b6df-4efa-b089-40053f4c2ee1"
      },
      "execution_count": 86,
      "outputs": [
        {
          "output_type": "stream",
          "name": "stdout",
          "text": [
            "Model: \"model_13\"\n",
            "_________________________________________________________________\n",
            " Layer (type)                Output Shape              Param #   \n",
            "=================================================================\n",
            " input_14 (InputLayer)       [(None, 18402)]           0         \n",
            "                                                                 \n",
            " dense_39 (Dense)            (None, 128)               2355584   \n",
            "                                                                 \n",
            " dense_40 (Dense)            (None, 64)                8256      \n",
            "                                                                 \n",
            " dense_41 (Dense)            (None, 1)                 65        \n",
            "                                                                 \n",
            "=================================================================\n",
            "Total params: 2363905 (9.02 MB)\n",
            "Trainable params: 2363905 (9.02 MB)\n",
            "Non-trainable params: 0 (0.00 Byte)\n",
            "_________________________________________________________________\n"
          ]
        }
      ]
    },
    {
      "cell_type": "code",
      "source": [
        "epochs = 10\n",
        "\n",
        "history = nn1.fit(x_train_sparse_tensor_reordered,y_train,epochs=epochs,validation_data=(x_test_sparse_tensor_reordered, y_test))"
      ],
      "metadata": {
        "colab": {
          "base_uri": "https://localhost:8080/"
        },
        "id": "lHKoFmuPuOZO",
        "outputId": "9b95cbbf-5d81-48e2-bfa6-38b43f668dcb"
      },
      "execution_count": 87,
      "outputs": [
        {
          "output_type": "stream",
          "name": "stdout",
          "text": [
            "Epoch 1/10\n",
            "234/234 [==============================] - 3s 10ms/step - loss: 0.6854 - accuracy: 0.6871 - val_loss: 0.9634 - val_accuracy: 0.7130\n",
            "Epoch 2/10\n",
            "234/234 [==============================] - 2s 9ms/step - loss: 0.4794 - accuracy: 0.8541 - val_loss: 0.7784 - val_accuracy: 0.7171\n",
            "Epoch 3/10\n",
            "234/234 [==============================] - 2s 9ms/step - loss: 0.4238 - accuracy: 0.9373 - val_loss: 1.8869 - val_accuracy: 0.7230\n",
            "Epoch 4/10\n",
            "234/234 [==============================] - 2s 9ms/step - loss: 0.3335 - accuracy: 0.9684 - val_loss: 2.6493 - val_accuracy: 0.7359\n",
            "Epoch 5/10\n",
            "234/234 [==============================] - 3s 13ms/step - loss: 0.2897 - accuracy: 0.9782 - val_loss: 3.4413 - val_accuracy: 0.7368\n",
            "Epoch 6/10\n",
            "234/234 [==============================] - 2s 9ms/step - loss: 0.2836 - accuracy: 0.9803 - val_loss: 3.4333 - val_accuracy: 0.7352\n",
            "Epoch 7/10\n",
            "234/234 [==============================] - 2s 9ms/step - loss: 0.2895 - accuracy: 0.9807 - val_loss: 3.5545 - val_accuracy: 0.7393\n",
            "Epoch 8/10\n",
            "234/234 [==============================] - 2s 9ms/step - loss: 0.2805 - accuracy: 0.9812 - val_loss: 3.4880 - val_accuracy: 0.7409\n",
            "Epoch 9/10\n",
            "234/234 [==============================] - 3s 11ms/step - loss: 0.2756 - accuracy: 0.9819 - val_loss: 3.5217 - val_accuracy: 0.7380\n",
            "Epoch 10/10\n",
            "234/234 [==============================] - 2s 9ms/step - loss: 0.2747 - accuracy: 0.9818 - val_loss: 3.5064 - val_accuracy: 0.7477\n"
          ]
        }
      ]
    },
    {
      "cell_type": "code",
      "source": [
        " #Convert the neural network history object into a data frame to view its specifics\n",
        "hist = pd.DataFrame(history.history)\n",
        "hist['epoch'] = history.epoch\n",
        "hist['epoch'] = hist['epoch'].apply(lambda x: x + 1)\n",
        "hist.set_index('epoch')"
      ],
      "metadata": {
        "colab": {
          "base_uri": "https://localhost:8080/",
          "height": 394
        },
        "id": "GKKe8JUauhwi",
        "outputId": "4f24bb7d-c496-453b-ccd9-d37e10683bf8"
      },
      "execution_count": 88,
      "outputs": [
        {
          "output_type": "execute_result",
          "data": {
            "text/plain": [
              "           loss  accuracy  val_loss  val_accuracy\n",
              "epoch                                            \n",
              "1      0.685434  0.687123  0.963408      0.713035\n",
              "2      0.479384  0.854080  0.778355      0.717099\n",
              "3      0.423804  0.937291  1.886903      0.723038\n",
              "4      0.333515  0.968377  2.649312      0.735855\n",
              "5      0.289689  0.978159  3.441268      0.736793\n",
              "6      0.283579  0.980303  3.433251      0.735230\n",
              "7      0.289521  0.980705  3.554537      0.739294\n",
              "8      0.280512  0.981241  3.488014      0.740857\n",
              "9      0.275609  0.981911  3.521664      0.738043\n",
              "10     0.274693  0.981777  3.506352      0.747734"
            ],
            "text/html": [
              "\n",
              "  <div id=\"df-44cb614d-eef1-497c-b8e4-420754f25a88\" class=\"colab-df-container\">\n",
              "    <div>\n",
              "<style scoped>\n",
              "    .dataframe tbody tr th:only-of-type {\n",
              "        vertical-align: middle;\n",
              "    }\n",
              "\n",
              "    .dataframe tbody tr th {\n",
              "        vertical-align: top;\n",
              "    }\n",
              "\n",
              "    .dataframe thead th {\n",
              "        text-align: right;\n",
              "    }\n",
              "</style>\n",
              "<table border=\"1\" class=\"dataframe\">\n",
              "  <thead>\n",
              "    <tr style=\"text-align: right;\">\n",
              "      <th></th>\n",
              "      <th>loss</th>\n",
              "      <th>accuracy</th>\n",
              "      <th>val_loss</th>\n",
              "      <th>val_accuracy</th>\n",
              "    </tr>\n",
              "    <tr>\n",
              "      <th>epoch</th>\n",
              "      <th></th>\n",
              "      <th></th>\n",
              "      <th></th>\n",
              "      <th></th>\n",
              "    </tr>\n",
              "  </thead>\n",
              "  <tbody>\n",
              "    <tr>\n",
              "      <th>1</th>\n",
              "      <td>0.685434</td>\n",
              "      <td>0.687123</td>\n",
              "      <td>0.963408</td>\n",
              "      <td>0.713035</td>\n",
              "    </tr>\n",
              "    <tr>\n",
              "      <th>2</th>\n",
              "      <td>0.479384</td>\n",
              "      <td>0.854080</td>\n",
              "      <td>0.778355</td>\n",
              "      <td>0.717099</td>\n",
              "    </tr>\n",
              "    <tr>\n",
              "      <th>3</th>\n",
              "      <td>0.423804</td>\n",
              "      <td>0.937291</td>\n",
              "      <td>1.886903</td>\n",
              "      <td>0.723038</td>\n",
              "    </tr>\n",
              "    <tr>\n",
              "      <th>4</th>\n",
              "      <td>0.333515</td>\n",
              "      <td>0.968377</td>\n",
              "      <td>2.649312</td>\n",
              "      <td>0.735855</td>\n",
              "    </tr>\n",
              "    <tr>\n",
              "      <th>5</th>\n",
              "      <td>0.289689</td>\n",
              "      <td>0.978159</td>\n",
              "      <td>3.441268</td>\n",
              "      <td>0.736793</td>\n",
              "    </tr>\n",
              "    <tr>\n",
              "      <th>6</th>\n",
              "      <td>0.283579</td>\n",
              "      <td>0.980303</td>\n",
              "      <td>3.433251</td>\n",
              "      <td>0.735230</td>\n",
              "    </tr>\n",
              "    <tr>\n",
              "      <th>7</th>\n",
              "      <td>0.289521</td>\n",
              "      <td>0.980705</td>\n",
              "      <td>3.554537</td>\n",
              "      <td>0.739294</td>\n",
              "    </tr>\n",
              "    <tr>\n",
              "      <th>8</th>\n",
              "      <td>0.280512</td>\n",
              "      <td>0.981241</td>\n",
              "      <td>3.488014</td>\n",
              "      <td>0.740857</td>\n",
              "    </tr>\n",
              "    <tr>\n",
              "      <th>9</th>\n",
              "      <td>0.275609</td>\n",
              "      <td>0.981911</td>\n",
              "      <td>3.521664</td>\n",
              "      <td>0.738043</td>\n",
              "    </tr>\n",
              "    <tr>\n",
              "      <th>10</th>\n",
              "      <td>0.274693</td>\n",
              "      <td>0.981777</td>\n",
              "      <td>3.506352</td>\n",
              "      <td>0.747734</td>\n",
              "    </tr>\n",
              "  </tbody>\n",
              "</table>\n",
              "</div>\n",
              "    <div class=\"colab-df-buttons\">\n",
              "\n",
              "  <div class=\"colab-df-container\">\n",
              "    <button class=\"colab-df-convert\" onclick=\"convertToInteractive('df-44cb614d-eef1-497c-b8e4-420754f25a88')\"\n",
              "            title=\"Convert this dataframe to an interactive table.\"\n",
              "            style=\"display:none;\">\n",
              "\n",
              "  <svg xmlns=\"http://www.w3.org/2000/svg\" height=\"24px\" viewBox=\"0 -960 960 960\">\n",
              "    <path d=\"M120-120v-720h720v720H120Zm60-500h600v-160H180v160Zm220 220h160v-160H400v160Zm0 220h160v-160H400v160ZM180-400h160v-160H180v160Zm440 0h160v-160H620v160ZM180-180h160v-160H180v160Zm440 0h160v-160H620v160Z\"/>\n",
              "  </svg>\n",
              "    </button>\n",
              "\n",
              "  <style>\n",
              "    .colab-df-container {\n",
              "      display:flex;\n",
              "      gap: 12px;\n",
              "    }\n",
              "\n",
              "    .colab-df-convert {\n",
              "      background-color: #E8F0FE;\n",
              "      border: none;\n",
              "      border-radius: 50%;\n",
              "      cursor: pointer;\n",
              "      display: none;\n",
              "      fill: #1967D2;\n",
              "      height: 32px;\n",
              "      padding: 0 0 0 0;\n",
              "      width: 32px;\n",
              "    }\n",
              "\n",
              "    .colab-df-convert:hover {\n",
              "      background-color: #E2EBFA;\n",
              "      box-shadow: 0px 1px 2px rgba(60, 64, 67, 0.3), 0px 1px 3px 1px rgba(60, 64, 67, 0.15);\n",
              "      fill: #174EA6;\n",
              "    }\n",
              "\n",
              "    .colab-df-buttons div {\n",
              "      margin-bottom: 4px;\n",
              "    }\n",
              "\n",
              "    [theme=dark] .colab-df-convert {\n",
              "      background-color: #3B4455;\n",
              "      fill: #D2E3FC;\n",
              "    }\n",
              "\n",
              "    [theme=dark] .colab-df-convert:hover {\n",
              "      background-color: #434B5C;\n",
              "      box-shadow: 0px 1px 3px 1px rgba(0, 0, 0, 0.15);\n",
              "      filter: drop-shadow(0px 1px 2px rgba(0, 0, 0, 0.3));\n",
              "      fill: #FFFFFF;\n",
              "    }\n",
              "  </style>\n",
              "\n",
              "    <script>\n",
              "      const buttonEl =\n",
              "        document.querySelector('#df-44cb614d-eef1-497c-b8e4-420754f25a88 button.colab-df-convert');\n",
              "      buttonEl.style.display =\n",
              "        google.colab.kernel.accessAllowed ? 'block' : 'none';\n",
              "\n",
              "      async function convertToInteractive(key) {\n",
              "        const element = document.querySelector('#df-44cb614d-eef1-497c-b8e4-420754f25a88');\n",
              "        const dataTable =\n",
              "          await google.colab.kernel.invokeFunction('convertToInteractive',\n",
              "                                                    [key], {});\n",
              "        if (!dataTable) return;\n",
              "\n",
              "        const docLinkHtml = 'Like what you see? Visit the ' +\n",
              "          '<a target=\"_blank\" href=https://colab.research.google.com/notebooks/data_table.ipynb>data table notebook</a>'\n",
              "          + ' to learn more about interactive tables.';\n",
              "        element.innerHTML = '';\n",
              "        dataTable['output_type'] = 'display_data';\n",
              "        await google.colab.output.renderOutput(dataTable, element);\n",
              "        const docLink = document.createElement('div');\n",
              "        docLink.innerHTML = docLinkHtml;\n",
              "        element.appendChild(docLink);\n",
              "      }\n",
              "    </script>\n",
              "  </div>\n",
              "\n",
              "\n",
              "<div id=\"df-89b5993d-1b03-4dfd-94ff-541c18646bcb\">\n",
              "  <button class=\"colab-df-quickchart\" onclick=\"quickchart('df-89b5993d-1b03-4dfd-94ff-541c18646bcb')\"\n",
              "            title=\"Suggest charts.\"\n",
              "            style=\"display:none;\">\n",
              "\n",
              "<svg xmlns=\"http://www.w3.org/2000/svg\" height=\"24px\"viewBox=\"0 0 24 24\"\n",
              "     width=\"24px\">\n",
              "    <g>\n",
              "        <path d=\"M19 3H5c-1.1 0-2 .9-2 2v14c0 1.1.9 2 2 2h14c1.1 0 2-.9 2-2V5c0-1.1-.9-2-2-2zM9 17H7v-7h2v7zm4 0h-2V7h2v10zm4 0h-2v-4h2v4z\"/>\n",
              "    </g>\n",
              "</svg>\n",
              "  </button>\n",
              "\n",
              "<style>\n",
              "  .colab-df-quickchart {\n",
              "      --bg-color: #E8F0FE;\n",
              "      --fill-color: #1967D2;\n",
              "      --hover-bg-color: #E2EBFA;\n",
              "      --hover-fill-color: #174EA6;\n",
              "      --disabled-fill-color: #AAA;\n",
              "      --disabled-bg-color: #DDD;\n",
              "  }\n",
              "\n",
              "  [theme=dark] .colab-df-quickchart {\n",
              "      --bg-color: #3B4455;\n",
              "      --fill-color: #D2E3FC;\n",
              "      --hover-bg-color: #434B5C;\n",
              "      --hover-fill-color: #FFFFFF;\n",
              "      --disabled-bg-color: #3B4455;\n",
              "      --disabled-fill-color: #666;\n",
              "  }\n",
              "\n",
              "  .colab-df-quickchart {\n",
              "    background-color: var(--bg-color);\n",
              "    border: none;\n",
              "    border-radius: 50%;\n",
              "    cursor: pointer;\n",
              "    display: none;\n",
              "    fill: var(--fill-color);\n",
              "    height: 32px;\n",
              "    padding: 0;\n",
              "    width: 32px;\n",
              "  }\n",
              "\n",
              "  .colab-df-quickchart:hover {\n",
              "    background-color: var(--hover-bg-color);\n",
              "    box-shadow: 0 1px 2px rgba(60, 64, 67, 0.3), 0 1px 3px 1px rgba(60, 64, 67, 0.15);\n",
              "    fill: var(--button-hover-fill-color);\n",
              "  }\n",
              "\n",
              "  .colab-df-quickchart-complete:disabled,\n",
              "  .colab-df-quickchart-complete:disabled:hover {\n",
              "    background-color: var(--disabled-bg-color);\n",
              "    fill: var(--disabled-fill-color);\n",
              "    box-shadow: none;\n",
              "  }\n",
              "\n",
              "  .colab-df-spinner {\n",
              "    border: 2px solid var(--fill-color);\n",
              "    border-color: transparent;\n",
              "    border-bottom-color: var(--fill-color);\n",
              "    animation:\n",
              "      spin 1s steps(1) infinite;\n",
              "  }\n",
              "\n",
              "  @keyframes spin {\n",
              "    0% {\n",
              "      border-color: transparent;\n",
              "      border-bottom-color: var(--fill-color);\n",
              "      border-left-color: var(--fill-color);\n",
              "    }\n",
              "    20% {\n",
              "      border-color: transparent;\n",
              "      border-left-color: var(--fill-color);\n",
              "      border-top-color: var(--fill-color);\n",
              "    }\n",
              "    30% {\n",
              "      border-color: transparent;\n",
              "      border-left-color: var(--fill-color);\n",
              "      border-top-color: var(--fill-color);\n",
              "      border-right-color: var(--fill-color);\n",
              "    }\n",
              "    40% {\n",
              "      border-color: transparent;\n",
              "      border-right-color: var(--fill-color);\n",
              "      border-top-color: var(--fill-color);\n",
              "    }\n",
              "    60% {\n",
              "      border-color: transparent;\n",
              "      border-right-color: var(--fill-color);\n",
              "    }\n",
              "    80% {\n",
              "      border-color: transparent;\n",
              "      border-right-color: var(--fill-color);\n",
              "      border-bottom-color: var(--fill-color);\n",
              "    }\n",
              "    90% {\n",
              "      border-color: transparent;\n",
              "      border-bottom-color: var(--fill-color);\n",
              "    }\n",
              "  }\n",
              "</style>\n",
              "\n",
              "  <script>\n",
              "    async function quickchart(key) {\n",
              "      const quickchartButtonEl =\n",
              "        document.querySelector('#' + key + ' button');\n",
              "      quickchartButtonEl.disabled = true;  // To prevent multiple clicks.\n",
              "      quickchartButtonEl.classList.add('colab-df-spinner');\n",
              "      try {\n",
              "        const charts = await google.colab.kernel.invokeFunction(\n",
              "            'suggestCharts', [key], {});\n",
              "      } catch (error) {\n",
              "        console.error('Error during call to suggestCharts:', error);\n",
              "      }\n",
              "      quickchartButtonEl.classList.remove('colab-df-spinner');\n",
              "      quickchartButtonEl.classList.add('colab-df-quickchart-complete');\n",
              "    }\n",
              "    (() => {\n",
              "      let quickchartButtonEl =\n",
              "        document.querySelector('#df-89b5993d-1b03-4dfd-94ff-541c18646bcb button');\n",
              "      quickchartButtonEl.style.display =\n",
              "        google.colab.kernel.accessAllowed ? 'block' : 'none';\n",
              "    })();\n",
              "  </script>\n",
              "</div>\n",
              "    </div>\n",
              "  </div>\n"
            ]
          },
          "metadata": {},
          "execution_count": 88
        }
      ]
    },
    {
      "cell_type": "code",
      "source": [
        "# View the training and validation accuracies as functions of epoch\n",
        "plt.figure(figsize = (14, 4))\n",
        "\n",
        "sns.lineplot(data = hist, x = 'epoch', y = 'accuracy', color = 'red', label = 'Training')\n",
        "sns.lineplot(data = hist, x = 'epoch', y = 'val_accuracy', color = 'blue', label = 'Validation')\n",
        "plt.xlabel('Epoch')\n",
        "plt.ylabel('Accuracy')\n",
        "plt.title('Accuracy as a Function of Epoch');"
      ],
      "metadata": {
        "colab": {
          "base_uri": "https://localhost:8080/",
          "height": 307
        },
        "id": "55WFzYiIuyUf",
        "outputId": "bc90ae54-30eb-4662-82fb-1a3b6d8558ba"
      },
      "execution_count": 89,
      "outputs": [
        {
          "output_type": "display_data",
          "data": {
            "text/plain": [
              "<Figure size 1400x400 with 1 Axes>"
            ],
            "image/png": "[encoded data removed]"
          },
          "metadata": {}
        }
      ]
    },
    {
      "cell_type": "code",
      "source": [
        "#Compute the accuracy of the model on the testing data set using the 'evaluate()' method\n",
        "performance_test = nn1.evaluate(x_test_sparse_tensor_reordered, y_test)\n",
        "\n",
        "print('The loss value of the model on the test data is {}'.format(performance_test[0]))\n",
        "print('The accuracy of the model on the test data is {}'.format(performance_test[1]))"
      ],
      "metadata": {
        "colab": {
          "base_uri": "https://localhost:8080/"
        },
        "id": "AULQDi2Mu5zZ",
        "outputId": "4274d20d-eb2a-456a-fa2e-18045712b857"
      },
      "execution_count": 90,
      "outputs": [
        {
          "output_type": "stream",
          "name": "stdout",
          "text": [
            "100/100 [==============================] - 0s 2ms/step - loss: 3.5064 - accuracy: 0.7477\n",
            "The loss value of the model on the test data is 3.506352186203003\n",
            "The accuracy of the model on the test data is 0.7477336525917053\n"
          ]
        }
      ]
    },
    {
      "cell_type": "markdown",
      "source": [
        "### Building the model with RNN"
      ],
      "metadata": {
        "id": "UB2e9SmFKXxb"
      }
    },
    {
      "cell_type": "code",
      "source": [
        "from keras.preprocessing.text import Tokenizer\n",
        "tokenizer = Tokenizer()\n",
        "\n",
        "from keras.datasets import imdb\n",
        "from keras.preprocessing.text import Tokenizer\n",
        "from keras.utils import pad_sequences\n",
        "from keras import Sequential\n",
        "from keras.layers import Dense,SimpleRNN,Embedding,Flatten"
      ],
      "metadata": {
        "id": "cjgEWCV6R4YC"
      },
      "execution_count": 91,
      "outputs": []
    },
    {
      "cell_type": "code",
      "source": [
        "df.head()"
      ],
      "metadata": {
        "colab": {
          "base_uri": "https://localhost:8080/",
          "height": 275
        },
        "id": "hv9J0eyZUec4",
        "outputId": "55d50fd3-1307-47c2-e8dd-2bed3ee8a711"
      },
      "execution_count": 92,
      "outputs": [
        {
          "output_type": "execute_result",
          "data": {
            "text/plain": [
              "                                              Review  Label  \\\n",
              "0  rock destined 21st centurys new conan hes goin...      1   \n",
              "1  gorgeously elaborate continuation lord rings t...      1   \n",
              "2                          effective tootepid biopic      1   \n",
              "3  sometimes like go movies fun wasabi good place...      1   \n",
              "4  emerges something rare issue movie thats hones...      1   \n",
              "\n",
              "                                     Review_stemming  \\\n",
              "0  rock destin 21st centuri new conan he go make ...   \n",
              "1  gorgeous elabor continu lord ring trilog huge ...   \n",
              "2                             effect tootepid biopic   \n",
              "3   sometim like go movi fun wasabi good place start   \n",
              "4  emerg someth rare issu movi that honest keenli...   \n",
              "\n",
              "                                  Review_lemmatizing  \n",
              "0  rock destined 21st century new conan he going ...  \n",
              "1  gorgeously elaborate continuation lord ring tr...  \n",
              "2                          effective tootepid biopic  \n",
              "3  sometimes like go movie fun wasabi good place ...  \n",
              "4  emerges something rare issue movie thats hones...  "
            ],
            "text/html": [
              "\n",
              "  <div id=\"df-100e68be-5701-48d2-816f-8abd6d0d0bd4\" class=\"colab-df-container\">\n",
              "    <div>\n",
              "<style scoped>\n",
              "    .dataframe tbody tr th:only-of-type {\n",
              "        vertical-align: middle;\n",
              "    }\n",
              "\n",
              "    .dataframe tbody tr th {\n",
              "        vertical-align: top;\n",
              "    }\n",
              "\n",
              "    .dataframe thead th {\n",
              "        text-align: right;\n",
              "    }\n",
              "</style>\n",
              "<table border=\"1\" class=\"dataframe\">\n",
              "  <thead>\n",
              "    <tr style=\"text-align: right;\">\n",
              "      <th></th>\n",
              "      <th>Review</th>\n",
              "      <th>Label</th>\n",
              "      <th>Review_stemming</th>\n",
              "      <th>Review_lemmatizing</th>\n",
              "    </tr>\n",
              "  </thead>\n",
              "  <tbody>\n",
              "    <tr>\n",
              "      <th>0</th>\n",
              "      <td>rock destined 21st centurys new conan hes goin...</td>\n",
              "      <td>1</td>\n",
              "      <td>rock destin 21st centuri new conan he go make ...</td>\n",
              "      <td>rock destined 21st century new conan he going ...</td>\n",
              "    </tr>\n",
              "    <tr>\n",
              "      <th>1</th>\n",
              "      <td>gorgeously elaborate continuation lord rings t...</td>\n",
              "      <td>1</td>\n",
              "      <td>gorgeous elabor continu lord ring trilog huge ...</td>\n",
              "      <td>gorgeously elaborate continuation lord ring tr...</td>\n",
              "    </tr>\n",
              "    <tr>\n",
              "      <th>2</th>\n",
              "      <td>effective tootepid biopic</td>\n",
              "      <td>1</td>\n",
              "      <td>effect tootepid biopic</td>\n",
              "      <td>effective tootepid biopic</td>\n",
              "    </tr>\n",
              "    <tr>\n",
              "      <th>3</th>\n",
              "      <td>sometimes like go movies fun wasabi good place...</td>\n",
              "      <td>1</td>\n",
              "      <td>sometim like go movi fun wasabi good place start</td>\n",
              "      <td>sometimes like go movie fun wasabi good place ...</td>\n",
              "    </tr>\n",
              "    <tr>\n",
              "      <th>4</th>\n",
              "      <td>emerges something rare issue movie thats hones...</td>\n",
              "      <td>1</td>\n",
              "      <td>emerg someth rare issu movi that honest keenli...</td>\n",
              "      <td>emerges something rare issue movie thats hones...</td>\n",
              "    </tr>\n",
              "  </tbody>\n",
              "</table>\n",
              "</div>\n",
              "    <div class=\"colab-df-buttons\">\n",
              "\n",
              "  <div class=\"colab-df-container\">\n",
              "    <button class=\"colab-df-convert\" onclick=\"convertToInteractive('df-100e68be-5701-48d2-816f-8abd6d0d0bd4')\"\n",
              "            title=\"Convert this dataframe to an interactive table.\"\n",
              "            style=\"display:none;\">\n",
              "\n",
              "  <svg xmlns=\"http://www.w3.org/2000/svg\" height=\"24px\" viewBox=\"0 -960 960 960\">\n",
              "    <path d=\"M120-120v-720h720v720H120Zm60-500h600v-160H180v160Zm220 220h160v-160H400v160Zm0 220h160v-160H400v160ZM180-400h160v-160H180v160Zm440 0h160v-160H620v160ZM180-180h160v-160H180v160Zm440 0h160v-160H620v160Z\"/>\n",
              "  </svg>\n",
              "    </button>\n",
              "\n",
              "  <style>\n",
              "    .colab-df-container {\n",
              "      display:flex;\n",
              "      gap: 12px;\n",
              "    }\n",
              "\n",
              "    .colab-df-convert {\n",
              "      background-color: #E8F0FE;\n",
              "      border: none;\n",
              "      border-radius: 50%;\n",
              "      cursor: pointer;\n",
              "      display: none;\n",
              "      fill: #1967D2;\n",
              "      height: 32px;\n",
              "      padding: 0 0 0 0;\n",
              "      width: 32px;\n",
              "    }\n",
              "\n",
              "    .colab-df-convert:hover {\n",
              "      background-color: #E2EBFA;\n",
              "      box-shadow: 0px 1px 2px rgba(60, 64, 67, 0.3), 0px 1px 3px 1px rgba(60, 64, 67, 0.15);\n",
              "      fill: #174EA6;\n",
              "    }\n",
              "\n",
              "    .colab-df-buttons div {\n",
              "      margin-bottom: 4px;\n",
              "    }\n",
              "\n",
              "    [theme=dark] .colab-df-convert {\n",
              "      background-color: #3B4455;\n",
              "      fill: #D2E3FC;\n",
              "    }\n",
              "\n",
              "    [theme=dark] .colab-df-convert:hover {\n",
              "      background-color: #434B5C;\n",
              "      box-shadow: 0px 1px 3px 1px rgba(0, 0, 0, 0.15);\n",
              "      filter: drop-shadow(0px 1px 2px rgba(0, 0, 0, 0.3));\n",
              "      fill: #FFFFFF;\n",
              "    }\n",
              "  </style>\n",
              "\n",
              "    <script>\n",
              "      const buttonEl =\n",
              "        document.querySelector('#df-100e68be-5701-48d2-816f-8abd6d0d0bd4 button.colab-df-convert');\n",
              "      buttonEl.style.display =\n",
              "        google.colab.kernel.accessAllowed ? 'block' : 'none';\n",
              "\n",
              "      async function convertToInteractive(key) {\n",
              "        const element = document.querySelector('#df-100e68be-5701-48d2-816f-8abd6d0d0bd4');\n",
              "        const dataTable =\n",
              "          await google.colab.kernel.invokeFunction('convertToInteractive',\n",
              "                                                    [key], {});\n",
              "        if (!dataTable) return;\n",
              "\n",
              "        const docLinkHtml = 'Like what you see? Visit the ' +\n",
              "          '<a target=\"_blank\" href=https://colab.research.google.com/notebooks/data_table.ipynb>data table notebook</a>'\n",
              "          + ' to learn more about interactive tables.';\n",
              "        element.innerHTML = '';\n",
              "        dataTable['output_type'] = 'display_data';\n",
              "        await google.colab.output.renderOutput(dataTable, element);\n",
              "        const docLink = document.createElement('div');\n",
              "        docLink.innerHTML = docLinkHtml;\n",
              "        element.appendChild(docLink);\n",
              "      }\n",
              "    </script>\n",
              "  </div>\n",
              "\n",
              "\n",
              "<div id=\"df-c624f74d-fb33-47cb-971b-e00438cb85a5\">\n",
              "  <button class=\"colab-df-quickchart\" onclick=\"quickchart('df-c624f74d-fb33-47cb-971b-e00438cb85a5')\"\n",
              "            title=\"Suggest charts.\"\n",
              "            style=\"display:none;\">\n",
              "\n",
              "<svg xmlns=\"http://www.w3.org/2000/svg\" height=\"24px\"viewBox=\"0 0 24 24\"\n",
              "     width=\"24px\">\n",
              "    <g>\n",
              "        <path d=\"M19 3H5c-1.1 0-2 .9-2 2v14c0 1.1.9 2 2 2h14c1.1 0 2-.9 2-2V5c0-1.1-.9-2-2-2zM9 17H7v-7h2v7zm4 0h-2V7h2v10zm4 0h-2v-4h2v4z\"/>\n",
              "    </g>\n",
              "</svg>\n",
              "  </button>\n",
              "\n",
              "<style>\n",
              "  .colab-df-quickchart {\n",
              "      --bg-color: #E8F0FE;\n",
              "      --fill-color: #1967D2;\n",
              "      --hover-bg-color: #E2EBFA;\n",
              "      --hover-fill-color: #174EA6;\n",
              "      --disabled-fill-color: #AAA;\n",
              "      --disabled-bg-color: #DDD;\n",
              "  }\n",
              "\n",
              "  [theme=dark] .colab-df-quickchart {\n",
              "      --bg-color: #3B4455;\n",
              "      --fill-color: #D2E3FC;\n",
              "      --hover-bg-color: #434B5C;\n",
              "      --hover-fill-color: #FFFFFF;\n",
              "      --disabled-bg-color: #3B4455;\n",
              "      --disabled-fill-color: #666;\n",
              "  }\n",
              "\n",
              "  .colab-df-quickchart {\n",
              "    background-color: var(--bg-color);\n",
              "    border: none;\n",
              "    border-radius: 50%;\n",
              "    cursor: pointer;\n",
              "    display: none;\n",
              "    fill: var(--fill-color);\n",
              "    height: 32px;\n",
              "    padding: 0;\n",
              "    width: 32px;\n",
              "  }\n",
              "\n",
              "  .colab-df-quickchart:hover {\n",
              "    background-color: var(--hover-bg-color);\n",
              "    box-shadow: 0 1px 2px rgba(60, 64, 67, 0.3), 0 1px 3px 1px rgba(60, 64, 67, 0.15);\n",
              "    fill: var(--button-hover-fill-color);\n",
              "  }\n",
              "\n",
              "  .colab-df-quickchart-complete:disabled,\n",
              "  .colab-df-quickchart-complete:disabled:hover {\n",
              "    background-color: var(--disabled-bg-color);\n",
              "    fill: var(--disabled-fill-color);\n",
              "    box-shadow: none;\n",
              "  }\n",
              "\n",
              "  .colab-df-spinner {\n",
              "    border: 2px solid var(--fill-color);\n",
              "    border-color: transparent;\n",
              "    border-bottom-color: var(--fill-color);\n",
              "    animation:\n",
              "      spin 1s steps(1) infinite;\n",
              "  }\n",
              "\n",
              "  @keyframes spin {\n",
              "    0% {\n",
              "      border-color: transparent;\n",
              "      border-bottom-color: var(--fill-color);\n",
              "      border-left-color: var(--fill-color);\n",
              "    }\n",
              "    20% {\n",
              "      border-color: transparent;\n",
              "      border-left-color: var(--fill-color);\n",
              "      border-top-color: var(--fill-color);\n",
              "    }\n",
              "    30% {\n",
              "      border-color: transparent;\n",
              "      border-left-color: var(--fill-color);\n",
              "      border-top-color: var(--fill-color);\n",
              "      border-right-color: var(--fill-color);\n",
              "    }\n",
              "    40% {\n",
              "      border-color: transparent;\n",
              "      border-right-color: var(--fill-color);\n",
              "      border-top-color: var(--fill-color);\n",
              "    }\n",
              "    60% {\n",
              "      border-color: transparent;\n",
              "      border-right-color: var(--fill-color);\n",
              "    }\n",
              "    80% {\n",
              "      border-color: transparent;\n",
              "      border-right-color: var(--fill-color);\n",
              "      border-bottom-color: var(--fill-color);\n",
              "    }\n",
              "    90% {\n",
              "      border-color: transparent;\n",
              "      border-bottom-color: var(--fill-color);\n",
              "    }\n",
              "  }\n",
              "</style>\n",
              "\n",
              "  <script>\n",
              "    async function quickchart(key) {\n",
              "      const quickchartButtonEl =\n",
              "        document.querySelector('#' + key + ' button');\n",
              "      quickchartButtonEl.disabled = true;  // To prevent multiple clicks.\n",
              "      quickchartButtonEl.classList.add('colab-df-spinner');\n",
              "      try {\n",
              "        const charts = await google.colab.kernel.invokeFunction(\n",
              "            'suggestCharts', [key], {});\n",
              "      } catch (error) {\n",
              "        console.error('Error during call to suggestCharts:', error);\n",
              "      }\n",
              "      quickchartButtonEl.classList.remove('colab-df-spinner');\n",
              "      quickchartButtonEl.classList.add('colab-df-quickchart-complete');\n",
              "    }\n",
              "    (() => {\n",
              "      let quickchartButtonEl =\n",
              "        document.querySelector('#df-c624f74d-fb33-47cb-971b-e00438cb85a5 button');\n",
              "      quickchartButtonEl.style.display =\n",
              "        google.colab.kernel.accessAllowed ? 'block' : 'none';\n",
              "    })();\n",
              "  </script>\n",
              "</div>\n",
              "    </div>\n",
              "  </div>\n"
            ]
          },
          "metadata": {},
          "execution_count": 92
        }
      ]
    },
    {
      "cell_type": "code",
      "source": [
        "x = df['Review_lemmatizing']\n",
        "y = df['Label']"
      ],
      "metadata": {
        "id": "NPhDeTnCRRFw"
      },
      "execution_count": 93,
      "outputs": []
    },
    {
      "cell_type": "code",
      "source": [
        "x_train,x_test,y_train,y_test = train_test_split(x,y,test_size=0.30)"
      ],
      "metadata": {
        "id": "x2__pBMrRRJA"
      },
      "execution_count": 94,
      "outputs": []
    },
    {
      "cell_type": "code",
      "source": [
        "print(\"shape of x_train\",x_train.shape)\n",
        "print(\"shape of x_test\",x_test.shape)\n",
        "\n",
        "print(\"shape of y_train\",y_train.shape)\n",
        "print(\"shape of y_test\",y_test.shape)"
      ],
      "metadata": {
        "colab": {
          "base_uri": "https://localhost:8080/"
        },
        "id": "kNXB0ltLRRMe",
        "outputId": "d3439722-35c2-4add-b67f-bb42fff61663"
      },
      "execution_count": 95,
      "outputs": [
        {
          "output_type": "stream",
          "name": "stdout",
          "text": [
            "shape of x_train (7463,)\n",
            "shape of x_test (3199,)\n",
            "shape of y_train (7463,)\n",
            "shape of y_test (3199,)\n"
          ]
        }
      ]
    },
    {
      "cell_type": "code",
      "source": [
        "from keras.preprocessing.text import Tokenizer\n",
        "\n",
        "tokenizer = Tokenizer()"
      ],
      "metadata": {
        "id": "byM_o_0WJMnS"
      },
      "execution_count": 96,
      "outputs": []
    },
    {
      "cell_type": "code",
      "source": [
        "tokenizer.fit_on_texts(x_train)"
      ],
      "metadata": {
        "id": "ktqLq15nJMqC"
      },
      "execution_count": 97,
      "outputs": []
    },
    {
      "cell_type": "code",
      "source": [
        "x_train = tokenizer.texts_to_sequences(x_train)\n",
        "x_test = tokenizer.texts_to_sequences(x_test)\n"
      ],
      "metadata": {
        "id": "oInIZ99FJ4wK"
      },
      "execution_count": 98,
      "outputs": []
    },
    {
      "cell_type": "code",
      "source": [
        "vocab_size = len(tokenizer.word_index) + 1\n",
        "vocab_size"
      ],
      "metadata": {
        "colab": {
          "base_uri": "https://localhost:8080/"
        },
        "id": "FTD1rxhxJMso",
        "outputId": "9ad46e6b-d91f-475d-f852-f4e3a1db31e4"
      },
      "execution_count": 99,
      "outputs": [
        {
          "output_type": "execute_result",
          "data": {
            "text/plain": [
              "15453"
            ]
          },
          "metadata": {},
          "execution_count": 99
        }
      ]
    },
    {
      "cell_type": "code",
      "source": [
        "\n",
        "max_sequence_length = 50"
      ],
      "metadata": {
        "id": "zq1bPRHqzTuG"
      },
      "execution_count": 100,
      "outputs": []
    },
    {
      "cell_type": "code",
      "source": [
        "\n",
        "\n",
        "x_train = pad_sequences(x_train,padding='post',maxlen=max_sequence_length)\n",
        "x_test = pad_sequences(x_test,padding='post',maxlen=max_sequence_length)\n",
        "\n"
      ],
      "metadata": {
        "id": "V8Ut-cEvez5H"
      },
      "execution_count": 101,
      "outputs": []
    },
    {
      "cell_type": "code",
      "source": [
        "x_train.shape"
      ],
      "metadata": {
        "colab": {
          "base_uri": "https://localhost:8080/"
        },
        "id": "sY9JTBQMKXB7",
        "outputId": "0f641ead-2f77-4a46-d391-a0454f5cf095"
      },
      "execution_count": 102,
      "outputs": [
        {
          "output_type": "execute_result",
          "data": {
            "text/plain": [
              "(7463, 50)"
            ]
          },
          "metadata": {},
          "execution_count": 102
        }
      ]
    },
    {
      "cell_type": "code",
      "source": [
        "max_features = 16000"
      ],
      "metadata": {
        "id": "qYC3TWkC0lFx"
      },
      "execution_count": 103,
      "outputs": []
    },
    {
      "cell_type": "code",
      "source": [
        "model = Sequential()\n",
        "embedding_dim = 32\n",
        "model.add(Embedding(input_dim=max_features, output_dim=embedding_dim, input_length=max_sequence_length))\n",
        "model.add(SimpleRNN(256))\n",
        "model.add(Dense(1, activation='sigmoid'))\n",
        "model.compile(optimizer='adam', loss='binary_crossentropy', metrics=['accuracy'])\n",
        "batch_size = 128\n",
        "epochs = 20\n",
        "model.fit(x_train, y_train, batch_size=batch_size, epochs=epochs, validation_data=(x_test, y_test))\n"
      ],
      "metadata": {
        "colab": {
          "base_uri": "https://localhost:8080/"
        },
        "id": "3pt89W0Y0lIX",
        "outputId": "d794cda5-861e-482f-8550-2389bd981cfc"
      },
      "execution_count": 104,
      "outputs": [
        {
          "output_type": "stream",
          "name": "stdout",
          "text": [
            "Epoch 1/20\n",
            "59/59 [==============================] - 10s 143ms/step - loss: 0.6984 - accuracy: 0.5107 - val_loss: 0.6909 - val_accuracy: 0.5233\n",
            "Epoch 2/20\n",
            "59/59 [==============================] - 6s 107ms/step - loss: 0.6289 - accuracy: 0.6539 - val_loss: 0.7560 - val_accuracy: 0.5411\n",
            "Epoch 3/20\n",
            "59/59 [==============================] - 8s 140ms/step - loss: 0.4660 - accuracy: 0.7861 - val_loss: 0.8235 - val_accuracy: 0.5939\n",
            "Epoch 4/20\n",
            "59/59 [==============================] - 7s 116ms/step - loss: 0.3035 - accuracy: 0.8761 - val_loss: 1.0382 - val_accuracy: 0.5542\n",
            "Epoch 5/20\n",
            "59/59 [==============================] - 9s 148ms/step - loss: 0.1922 - accuracy: 0.9246 - val_loss: 1.1966 - val_accuracy: 0.5964\n",
            "Epoch 6/20\n",
            "59/59 [==============================] - 7s 116ms/step - loss: 0.1402 - accuracy: 0.9491 - val_loss: 1.3782 - val_accuracy: 0.5827\n",
            "Epoch 7/20\n",
            "59/59 [==============================] - 9s 150ms/step - loss: 0.0722 - accuracy: 0.9766 - val_loss: 1.5578 - val_accuracy: 0.5971\n",
            "Epoch 8/20\n",
            "59/59 [==============================] - 7s 116ms/step - loss: 0.0524 - accuracy: 0.9824 - val_loss: 1.6427 - val_accuracy: 0.5899\n",
            "Epoch 9/20\n",
            "59/59 [==============================] - 8s 138ms/step - loss: 0.0662 - accuracy: 0.9767 - val_loss: 1.5818 - val_accuracy: 0.5502\n",
            "Epoch 10/20\n",
            "59/59 [==============================] - 6s 108ms/step - loss: 0.0406 - accuracy: 0.9867 - val_loss: 1.5873 - val_accuracy: 0.6005\n",
            "Epoch 11/20\n",
            "59/59 [==============================] - 9s 150ms/step - loss: 0.0202 - accuracy: 0.9938 - val_loss: 1.8118 - val_accuracy: 0.5871\n",
            "Epoch 12/20\n",
            "59/59 [==============================] - 7s 117ms/step - loss: 0.0329 - accuracy: 0.9900 - val_loss: 1.7458 - val_accuracy: 0.6046\n",
            "Epoch 13/20\n",
            "59/59 [==============================] - 8s 141ms/step - loss: 0.0098 - accuracy: 0.9969 - val_loss: 1.8001 - val_accuracy: 0.5949\n",
            "Epoch 14/20\n",
            "59/59 [==============================] - 7s 116ms/step - loss: 0.0094 - accuracy: 0.9975 - val_loss: 1.9576 - val_accuracy: 0.5846\n",
            "Epoch 15/20\n",
            "59/59 [==============================] - 9s 147ms/step - loss: 0.0126 - accuracy: 0.9965 - val_loss: 2.0170 - val_accuracy: 0.5892\n",
            "Epoch 16/20\n",
            "59/59 [==============================] - 7s 115ms/step - loss: 0.0397 - accuracy: 0.9865 - val_loss: 2.0686 - val_accuracy: 0.5424\n",
            "Epoch 17/20\n",
            "59/59 [==============================] - 8s 130ms/step - loss: 0.0858 - accuracy: 0.9693 - val_loss: 1.5549 - val_accuracy: 0.5867\n",
            "Epoch 18/20\n",
            "59/59 [==============================] - 8s 140ms/step - loss: 0.0735 - accuracy: 0.9743 - val_loss: 1.6393 - val_accuracy: 0.5924\n",
            "Epoch 19/20\n",
            "59/59 [==============================] - 7s 121ms/step - loss: 0.0443 - accuracy: 0.9849 - val_loss: 1.6855 - val_accuracy: 0.5971\n",
            "Epoch 20/20\n",
            "59/59 [==============================] - 9s 162ms/step - loss: 0.0237 - accuracy: 0.9937 - val_loss: 1.8641 - val_accuracy: 0.5892\n"
          ]
        },
        {
          "output_type": "execute_result",
          "data": {
            "text/plain": [
              "<keras.src.callbacks.History at 0x783ed0bbd780>"
            ]
          },
          "metadata": {},
          "execution_count": 104
        }
      ]
    },
    {
      "cell_type": "code",
      "source": [
        "import tensorflow as tf\n",
        "from tensorflow.keras.layers import Embedding, LSTM, Dense\n",
        "from tensorflow.keras.models import Sequential\n",
        "\n",
        "\n",
        "\n",
        "model = Sequential()\n",
        "embedding_dim = 32\n",
        "model.add(Embedding(input_dim=max_features, output_dim=embedding_dim, input_length=max_sequence_length))\n",
        "model.add(LSTM(128,return_sequences=True))\n",
        "model.add(LSTM(128,return_sequences=True))\n",
        "model.add(LSTM(64))\n",
        "model.add(Dense(1, activation='sigmoid'))\n",
        "model.compile(optimizer='adam', loss='binary_crossentropy', metrics=['accuracy'])\n",
        "batch_size = 128\n",
        "epochs = 30\n",
        "model.fit(x_train, y_train, batch_size=batch_size, epochs=epochs, validation_data=(x_test, y_test))\n"
      ],
      "metadata": {
        "id": "gY6_TvJc0lLw",
        "colab": {
          "base_uri": "https://localhost:8080/"
        },
        "outputId": "f24c085a-0cce-4170-d80c-98adb24b292c"
      },
      "execution_count": 105,
      "outputs": [
        {
          "output_type": "stream",
          "name": "stdout",
          "text": [
            "Epoch 1/30\n",
            "59/59 [==============================] - 36s 518ms/step - loss: 0.6935 - accuracy: 0.4938 - val_loss: 0.6932 - val_accuracy: 0.4930\n",
            "Epoch 2/30\n",
            "59/59 [==============================] - 31s 525ms/step - loss: 0.6822 - accuracy: 0.5354 - val_loss: 0.6864 - val_accuracy: 0.5255\n",
            "Epoch 3/30\n",
            "59/59 [==============================] - 30s 513ms/step - loss: 0.5387 - accuracy: 0.7417 - val_loss: 0.5639 - val_accuracy: 0.7237\n",
            "Epoch 4/30\n",
            "59/59 [==============================] - 35s 589ms/step - loss: 0.4158 - accuracy: 0.8467 - val_loss: 0.6056 - val_accuracy: 0.7255\n",
            "Epoch 5/30\n",
            "59/59 [==============================] - 31s 521ms/step - loss: 0.3162 - accuracy: 0.8833 - val_loss: 0.5955 - val_accuracy: 0.7399\n",
            "Epoch 6/30\n",
            "59/59 [==============================] - 30s 519ms/step - loss: 0.2196 - accuracy: 0.9305 - val_loss: 0.6349 - val_accuracy: 0.7412\n",
            "Epoch 7/30\n",
            "59/59 [==============================] - 31s 523ms/step - loss: 0.1441 - accuracy: 0.9610 - val_loss: 0.7447 - val_accuracy: 0.7405\n",
            "Epoch 8/30\n",
            "59/59 [==============================] - 31s 523ms/step - loss: 0.1037 - accuracy: 0.9761 - val_loss: 0.8330 - val_accuracy: 0.7352\n",
            "Epoch 9/30\n",
            "59/59 [==============================] - 29s 492ms/step - loss: 0.0876 - accuracy: 0.9792 - val_loss: 0.9019 - val_accuracy: 0.7309\n",
            "Epoch 10/30\n",
            "59/59 [==============================] - 30s 501ms/step - loss: 0.0668 - accuracy: 0.9863 - val_loss: 0.9682 - val_accuracy: 0.7305\n",
            "Epoch 11/30\n",
            "59/59 [==============================] - 35s 585ms/step - loss: 0.0610 - accuracy: 0.9878 - val_loss: 1.2167 - val_accuracy: 0.7299\n",
            "Epoch 12/30\n",
            "59/59 [==============================] - 31s 530ms/step - loss: 0.0620 - accuracy: 0.9858 - val_loss: 0.9955 - val_accuracy: 0.7274\n",
            "Epoch 13/30\n",
            "59/59 [==============================] - 31s 526ms/step - loss: 0.0572 - accuracy: 0.9873 - val_loss: 1.1357 - val_accuracy: 0.7305\n",
            "Epoch 14/30\n",
            "59/59 [==============================] - 31s 525ms/step - loss: 0.0467 - accuracy: 0.9913 - val_loss: 1.2614 - val_accuracy: 0.7315\n",
            "Epoch 15/30\n",
            "59/59 [==============================] - 31s 516ms/step - loss: 0.0478 - accuracy: 0.9908 - val_loss: 0.9668 - val_accuracy: 0.7271\n",
            "Epoch 16/30\n",
            "59/59 [==============================] - 29s 497ms/step - loss: 0.0454 - accuracy: 0.9913 - val_loss: 1.1412 - val_accuracy: 0.7271\n",
            "Epoch 17/30\n",
            "59/59 [==============================] - 34s 583ms/step - loss: 0.0433 - accuracy: 0.9921 - val_loss: 0.9986 - val_accuracy: 0.7312\n",
            "Epoch 18/30\n",
            "59/59 [==============================] - 31s 524ms/step - loss: 0.0429 - accuracy: 0.9913 - val_loss: 1.1702 - val_accuracy: 0.7327\n",
            "Epoch 19/30\n",
            "59/59 [==============================] - 31s 525ms/step - loss: 0.0392 - accuracy: 0.9933 - val_loss: 1.1032 - val_accuracy: 0.7287\n",
            "Epoch 20/30\n",
            "59/59 [==============================] - 31s 525ms/step - loss: 0.0349 - accuracy: 0.9941 - val_loss: 1.3525 - val_accuracy: 0.7334\n",
            "Epoch 21/30\n",
            "59/59 [==============================] - 31s 515ms/step - loss: 0.0369 - accuracy: 0.9933 - val_loss: 1.2130 - val_accuracy: 0.7290\n",
            "Epoch 22/30\n",
            "59/59 [==============================] - 29s 488ms/step - loss: 0.0367 - accuracy: 0.9936 - val_loss: 1.2942 - val_accuracy: 0.7296\n",
            "Epoch 23/30\n",
            "59/59 [==============================] - 35s 594ms/step - loss: 0.0398 - accuracy: 0.9918 - val_loss: 1.1913 - val_accuracy: 0.7318\n",
            "Epoch 24/30\n",
            "59/59 [==============================] - 33s 560ms/step - loss: 0.0342 - accuracy: 0.9940 - val_loss: 1.3160 - val_accuracy: 0.7246\n",
            "Epoch 25/30\n",
            "59/59 [==============================] - 31s 521ms/step - loss: 0.0350 - accuracy: 0.9938 - val_loss: 1.3361 - val_accuracy: 0.7259\n",
            "Epoch 26/30\n",
            "59/59 [==============================] - 32s 539ms/step - loss: 0.0368 - accuracy: 0.9930 - val_loss: 1.2167 - val_accuracy: 0.7215\n",
            "Epoch 27/30\n",
            "59/59 [==============================] - 37s 625ms/step - loss: 0.0349 - accuracy: 0.9937 - val_loss: 1.3611 - val_accuracy: 0.7218\n",
            "Epoch 28/30\n",
            "59/59 [==============================] - 32s 539ms/step - loss: 0.0371 - accuracy: 0.9934 - val_loss: 1.3146 - val_accuracy: 0.7227\n",
            "Epoch 29/30\n",
            "59/59 [==============================] - 32s 543ms/step - loss: 0.0332 - accuracy: 0.9944 - val_loss: 1.3149 - val_accuracy: 0.7246\n",
            "Epoch 30/30\n",
            "59/59 [==============================] - 35s 593ms/step - loss: 0.0287 - accuracy: 0.9956 - val_loss: 1.4513 - val_accuracy: 0.7215\n"
          ]
        },
        {
          "output_type": "execute_result",
          "data": {
            "text/plain": [
              "<keras.src.callbacks.History at 0x783eb54f06a0>"
            ]
          },
          "metadata": {},
          "execution_count": 105
        }
      ]
    },
    {
      "cell_type": "code",
      "source": [
        "import numpy as np\n",
        "from sklearn.model_selection import train_test_split\n",
        "from tensorflow.keras.models import Sequential\n",
        "from tensorflow.keras.layers import Embedding, LSTM, Dense\n",
        "from sklearn.metrics import accuracy_score\n",
        "\n",
        "\n",
        "\n",
        "best_accuracy = 0\n",
        "best_model = None\n",
        "best_params = {}\n",
        "\n",
        "# Define hyperparameters and their values to search\n",
        "units_values = [64, 128, 256]\n",
        "activation_values = ['sigmoid', 'relu']\n",
        "dropout_values = [0.2, 0.3, 0.4]\n",
        "\n",
        "# Iterate over hyperparameter combinations\n",
        "for units in units_values:\n",
        "    for activation in activation_values:\n",
        "        for dropout_rate in dropout_values:\n",
        "            # Create a new LSTM model with the current hyperparameters\n",
        "            model = Sequential()\n",
        "            model.add(Embedding(input_dim=vocab_size, output_dim=embedding_dim, input_length=max_sequence_length))\n",
        "            model.add(LSTM(units=units, dropout=dropout_rate))\n",
        "            model.add(Dense(units=1, activation=activation))\n",
        "            model.compile(loss='binary_crossentropy', optimizer='adam', metrics=['accuracy'])\n",
        "\n",
        "            # Train the model\n",
        "            model.fit(x_train, y_train, epochs=5, batch_size=64, verbose=0)\n",
        "\n",
        "            # Evaluate the model on the validation set\n",
        "            y_pred = model.predict(x_test)\n",
        "            y_pred_rounded = np.round(y_pred)\n",
        "            accuracy = accuracy_score(y_test, y_pred_rounded)\n",
        "\n",
        "            # Check if this combination of hyperparameters is the best\n",
        "            if accuracy > best_accuracy:\n",
        "                best_accuracy = accuracy\n",
        "                best_model = model\n",
        "                best_params = {\n",
        "                    'units': units,\n",
        "                    'activation': activation,\n",
        "                    'dropout_rate': dropout_rate\n",
        "                }\n",
        "\n",
        "# Print the best hyperparameters and their corresponding accuracy\n",
        "print(\"Best Accuracy: %f\" % best_accuracy)\n",
        "print(\"Best Hyperparameters:\", best_params)\n"
      ],
      "metadata": {
        "colab": {
          "base_uri": "https://localhost:8080/"
        },
        "id": "x75xePGBSTkU",
        "outputId": "71b5b056-550a-4f71-eba6-e17c52735b3f"
      },
      "execution_count": 106,
      "outputs": [
        {
          "output_type": "stream",
          "name": "stdout",
          "text": [
            "100/100 [==============================] - 2s 11ms/step\n",
            "100/100 [==============================] - 1s 10ms/step\n",
            "100/100 [==============================] - 1s 10ms/step\n",
            "100/100 [==============================] - 1s 9ms/step\n",
            "100/100 [==============================] - 2s 13ms/step\n",
            "100/100 [==============================] - 1s 9ms/step\n",
            "100/100 [==============================] - 3s 23ms/step\n",
            "100/100 [==============================] - 5s 42ms/step\n",
            "100/100 [==============================] - 3s 22ms/step\n",
            "100/100 [==============================] - 4s 32ms/step\n",
            "100/100 [==============================] - 3s 30ms/step\n",
            "100/100 [==============================] - 2s 20ms/step\n",
            "100/100 [==============================] - 5s 42ms/step\n",
            "100/100 [==============================] - 6s 53ms/step\n",
            "100/100 [==============================] - 4s 40ms/step\n",
            "100/100 [==============================] - 6s 44ms/step\n",
            "100/100 [==============================] - 5s 45ms/step\n",
            "100/100 [==============================] - 6s 55ms/step\n",
            "Best Accuracy: 0.724914\n",
            "Best Hyperparameters: {'units': 128, 'activation': 'relu', 'dropout_rate': 0.2}\n"
          ]
        }
      ]
    },
    {
      "cell_type": "code",
      "source": [
        "import tensorflow as tf\n",
        "from tensorflow.keras.layers import Embedding, LSTM, Dense\n",
        "from tensorflow.keras.models import Sequential\n",
        "\n",
        "\n",
        "\n",
        "model = Sequential()\n",
        "embedding_dim = 32\n",
        "model.add(Embedding(input_dim=max_features, output_dim=embedding_dim, input_length=max_sequence_length))\n",
        "model.add(LSTM(64,dropout=0.4))\n",
        "model.add(Dense(1, activation='relu'))\n",
        "model.compile(optimizer='adam', loss='binary_crossentropy', metrics=['accuracy'])\n",
        "batch_size = 128\n",
        "epochs = 30\n",
        "model.fit(x_train, y_train, batch_size=batch_size, epochs=epochs, validation_data=(x_test, y_test))"
      ],
      "metadata": {
        "colab": {
          "base_uri": "https://localhost:8080/"
        },
        "id": "G-bIK-zJTLwl",
        "outputId": "123738fd-407e-41db-8792-a03b42c66031"
      },
      "execution_count": 107,
      "outputs": [
        {
          "output_type": "stream",
          "name": "stdout",
          "text": [
            "Epoch 1/30\n",
            "59/59 [==============================] - 11s 149ms/step - loss: 0.9235 - accuracy: 0.5018 - val_loss: 0.6933 - val_accuracy: 0.5080\n",
            "Epoch 2/30\n",
            "59/59 [==============================] - 8s 128ms/step - loss: 0.6924 - accuracy: 0.5120 - val_loss: 0.6919 - val_accuracy: 0.5089\n",
            "Epoch 3/30\n",
            "59/59 [==============================] - 8s 128ms/step - loss: 0.6826 - accuracy: 0.5594 - val_loss: 0.6707 - val_accuracy: 0.5283\n",
            "Epoch 4/30\n",
            "59/59 [==============================] - 6s 100ms/step - loss: 0.6630 - accuracy: 0.7694 - val_loss: 0.5256 - val_accuracy: 0.7440\n",
            "Epoch 5/30\n",
            "59/59 [==============================] - 8s 132ms/step - loss: 0.4737 - accuracy: 0.7807 - val_loss: 0.5258 - val_accuracy: 0.7568\n",
            "Epoch 6/30\n",
            "59/59 [==============================] - 6s 101ms/step - loss: 0.2380 - accuracy: 0.9208 - val_loss: 0.5958 - val_accuracy: 0.7518\n",
            "Epoch 7/30\n",
            "59/59 [==============================] - 8s 135ms/step - loss: 0.1885 - accuracy: 0.9464 - val_loss: 1.3051 - val_accuracy: 0.7584\n",
            "Epoch 8/30\n",
            "59/59 [==============================] - 5s 90ms/step - loss: 0.3882 - accuracy: 0.7994 - val_loss: 0.6023 - val_accuracy: 0.7271\n",
            "Epoch 9/30\n",
            "59/59 [==============================] - 6s 103ms/step - loss: 0.3469 - accuracy: 0.9114 - val_loss: 2.4859 - val_accuracy: 0.7493\n",
            "Epoch 10/30\n",
            "59/59 [==============================] - 7s 112ms/step - loss: 0.1487 - accuracy: 0.9694 - val_loss: 2.0053 - val_accuracy: 0.7543\n",
            "Epoch 11/30\n",
            "59/59 [==============================] - 5s 88ms/step - loss: 0.3874 - accuracy: 0.8348 - val_loss: 0.6657 - val_accuracy: 0.5014\n",
            "Epoch 12/30\n",
            "59/59 [==============================] - 8s 137ms/step - loss: 0.3837 - accuracy: 0.8866 - val_loss: 1.9202 - val_accuracy: 0.7487\n",
            "Epoch 13/30\n",
            "59/59 [==============================] - 6s 100ms/step - loss: 0.1222 - accuracy: 0.9778 - val_loss: 1.9897 - val_accuracy: 0.7521\n",
            "Epoch 14/30\n",
            "59/59 [==============================] - 8s 138ms/step - loss: 0.5921 - accuracy: 0.6753 - val_loss: 0.6661 - val_accuracy: 0.5774\n",
            "Epoch 15/30\n",
            "59/59 [==============================] - 6s 98ms/step - loss: 0.5760 - accuracy: 0.8352 - val_loss: 0.5921 - val_accuracy: 0.6893\n",
            "Epoch 16/30\n",
            "59/59 [==============================] - 8s 133ms/step - loss: 0.9495 - accuracy: 0.8700 - val_loss: 1.8724 - val_accuracy: 0.4930\n",
            "Epoch 17/30\n",
            "59/59 [==============================] - 6s 103ms/step - loss: 0.3072 - accuracy: 0.8917 - val_loss: 2.9074 - val_accuracy: 0.7371\n",
            "Epoch 18/30\n",
            "59/59 [==============================] - 8s 145ms/step - loss: 0.1869 - accuracy: 0.9782 - val_loss: 1.9513 - val_accuracy: 0.7437\n",
            "Epoch 19/30\n",
            "59/59 [==============================] - 6s 101ms/step - loss: 0.0910 - accuracy: 0.9828 - val_loss: 2.6943 - val_accuracy: 0.7399\n",
            "Epoch 20/30\n",
            "59/59 [==============================] - 9s 147ms/step - loss: 0.0771 - accuracy: 0.9894 - val_loss: 2.9710 - val_accuracy: 0.7371\n",
            "Epoch 21/30\n",
            "59/59 [==============================] - 5s 89ms/step - loss: 0.0786 - accuracy: 0.9904 - val_loss: 2.8049 - val_accuracy: 0.7371\n",
            "Epoch 22/30\n",
            "59/59 [==============================] - 8s 134ms/step - loss: 0.0691 - accuracy: 0.9905 - val_loss: 3.1028 - val_accuracy: 0.7368\n",
            "Epoch 23/30\n",
            "59/59 [==============================] - 6s 100ms/step - loss: 0.0896 - accuracy: 0.9853 - val_loss: 2.1233 - val_accuracy: 0.7380\n",
            "Epoch 24/30\n",
            "59/59 [==============================] - 7s 112ms/step - loss: 0.0794 - accuracy: 0.9934 - val_loss: 3.3010 - val_accuracy: 0.7346\n",
            "Epoch 25/30\n",
            "59/59 [==============================] - 7s 113ms/step - loss: 0.0780 - accuracy: 0.9926 - val_loss: 3.3786 - val_accuracy: 0.7355\n",
            "Epoch 26/30\n",
            "59/59 [==============================] - 5s 91ms/step - loss: 0.0666 - accuracy: 0.9937 - val_loss: 3.3075 - val_accuracy: 0.7355\n",
            "Epoch 27/30\n",
            "59/59 [==============================] - 8s 131ms/step - loss: 0.0661 - accuracy: 0.9944 - val_loss: 3.3388 - val_accuracy: 0.7349\n",
            "Epoch 28/30\n",
            "59/59 [==============================] - 5s 88ms/step - loss: 0.0614 - accuracy: 0.9948 - val_loss: 3.4452 - val_accuracy: 0.7334\n",
            "Epoch 29/30\n",
            "59/59 [==============================] - 8s 134ms/step - loss: 0.0606 - accuracy: 0.9934 - val_loss: 2.6815 - val_accuracy: 0.7377\n",
            "Epoch 30/30\n",
            "59/59 [==============================] - 6s 97ms/step - loss: 0.0729 - accuracy: 0.9885 - val_loss: 3.1508 - val_accuracy: 0.7312\n"
          ]
        },
        {
          "output_type": "execute_result",
          "data": {
            "text/plain": [
              "<keras.src.callbacks.History at 0x783eb21509a0>"
            ]
          },
          "metadata": {},
          "execution_count": 107
        }
      ]
    },
    {
      "cell_type": "markdown",
      "source": [
        "comparing to RNN the LSTM works better on the sentiment analysis of movie reviews model."
      ],
      "metadata": {
        "id": "qxGLrssNR4jh"
      }
    },
    {
      "cell_type": "code",
      "source": [],
      "metadata": {
        "id": "xifBZYj3SJt_"
      },
      "execution_count": null,
      "outputs": []
    }
  ]
}